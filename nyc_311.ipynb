{
 "cells": [
  {
   "cell_type": "code",
   "execution_count": 825,
   "metadata": {},
   "outputs": [],
   "source": [
    "# Dependencies\n",
    "import requests\n",
    "import json\n",
    "from private_info.config import api_key, fromdate, todate\n",
    "from private_info.opendata_config import token311, password, username\n",
    "import pandas as pd\n",
    "from datetime import datetime\n",
    "import sys\n",
    "import numpy as np\n",
    "import plotly.express as px\n",
    "import plotly.graph_objects as go\n",
    "# sys.path.append('/path/to/your/dev/environment/lib/python3.10/site-packages')\n",
    "from sodapy import Socrata\n",
    "\n"
   ]
  },
  {
   "cell_type": "markdown",
   "metadata": {},
   "source": [
    "##### In the following script we'll try to analize the following\n",
    "---\n",
    "##### NYC311 can provide you access to non-emergency City services and information about City government programs. NYC311 can help with a broad range of services, including things like homeless person assistance, pothole repair, or help understanding a property tax bill. over 500 services\n",
    "\n",
    "- which are the top 10 most popular report ploblems 311 receives (top 3 apartment mainrenance complaint, ilegal parking and noise from neighbor)\n",
    "- what's the time gap they take to solve problems \n",
    "- what location report more issues in nyc \n",
    "- What burough has the highest level of 311 calls\n",
    "- Were the 311 calls resolved (which burough has the highest resolution rate)\n",
    "- Which category of service is the best/worst"
   ]
  },
  {
   "cell_type": "markdown",
   "metadata": {},
   "source": [
    "### Extracting NYC API Developers data from api-portal.nyc.gov"
   ]
  },
  {
   "cell_type": "code",
   "execution_count": 826,
   "metadata": {},
   "outputs": [],
   "source": [
    "# URL for GET requests to retrieve vehicle data\n",
    "url_calendar= f'https://api.nyc.gov/public/api/GetCalendar?fromdate={fromdate}&todate={todate}'\n",
    "headers = {'Ocp-Apim-Subscription-Key': api_key}"
   ]
  },
  {
   "cell_type": "code",
   "execution_count": 827,
   "metadata": {},
   "outputs": [
    {
     "name": "stdout",
     "output_type": "stream",
     "text": [
      "200\n"
     ]
    }
   ],
   "source": [
    "# Print the response object to the console\n",
    "response = requests.get(url_calendar, headers=headers)\n",
    "print(response.status_code)"
   ]
  },
  {
   "cell_type": "code",
   "execution_count": 828,
   "metadata": {},
   "outputs": [],
   "source": [
    "# Retrieving data and converting it into JSON\n",
    "response_json =response.json()"
   ]
  },
  {
   "cell_type": "code",
   "execution_count": 829,
   "metadata": {},
   "outputs": [
    {
     "name": "stdout",
     "output_type": "stream",
     "text": [
      "{\n",
      "    \"days\": [\n",
      "        {\n",
      "            \"items\": [\n",
      "                {\n",
      "                    \"details\": \"Alternate side parking and meters are in effect.\",\n",
      "                    \"status\": \"IN EFFECT\",\n",
      "                    \"type\": \"Alternate Side Parking\"\n",
      "                },\n",
      "                {\n",
      "                    \"details\": \"Trash, recycling, and compost collections are on schedule.\",\n",
      "                    \"status\": \"ON SCHEDULE\",\n",
      "                    \"type\": \"Collections\"\n",
      "                },\n",
      "                {\n",
      "                    \"details\": \"Public schools are open.\",\n",
      "                    \"status\": \"OPEN\",\n",
      "                    \"type\": \"Schools\"\n",
      "                }\n",
      "            ],\n",
      "            \"today_id\": \"20240131\"\n",
      "        },\n",
      "        {\n",
      "            \"items\": [\n",
      "                {\n",
      "                    \"details\": \"Alternate side parking and meters are in effect.\",\n",
      "                    \"status\": \"IN EFFECT\",\n",
      "                    \"type\": \"Alternate Side Parking\"\n",
      "                },\n",
      "                {\n",
      "                    \"details\": \"Trash, recycling, and compost collections are on schedule.\",\n",
      "                    \"status\": \"ON SCHEDULE\",\n",
      "                    \"type\": \"Collections\"\n",
      "                },\n",
      "                {\n",
      "                    \"details\": \"Public schools are open.\",\n",
      "                    \"status\": \"OPEN\",\n",
      "                    \"type\": \"Schools\"\n",
      "                }\n",
      "            ],\n",
      "            \"today_id\": \"20240201\"\n",
      "        },\n",
      "        {\n",
      "            \"items\": [\n",
      "                {\n",
      "                    \"details\": \"Alternate side parking and meters are in effect.\",\n",
      "                    \"status\": \"IN EFFECT\",\n",
      "                    \"type\": \"Alternate Side Parking\"\n",
      "                },\n",
      "                {\n",
      "                    \"details\": \"Trash, recycling, and compost collections are on schedule.\",\n",
      "                    \"status\": \"ON SCHEDULE\",\n",
      "                    \"type\": \"Collections\"\n",
      "                },\n",
      "                {\n",
      "                    \"details\": \"Public schools are open.\",\n",
      "                    \"status\": \"OPEN\",\n",
      "                    \"type\": \"Schools\"\n",
      "                }\n",
      "            ],\n",
      "            \"today_id\": \"20240202\"\n",
      "        },\n",
      "        {\n",
      "            \"items\": [\n",
      "                {\n",
      "                    \"details\": \"Alternate side parking and meters are in effect.\",\n",
      "                    \"status\": \"IN EFFECT\",\n",
      "                    \"type\": \"Alternate Side Parking\"\n",
      "                },\n",
      "                {\n",
      "                    \"details\": \"Trash, recycling, and compost collections are on schedule.\",\n",
      "                    \"status\": \"ON SCHEDULE\",\n",
      "                    \"type\": \"Collections\"\n",
      "                },\n",
      "                {\n",
      "                    \"details\": \"Public schools are not in session.\",\n",
      "                    \"status\": \"NOT IN SESSION\",\n",
      "                    \"type\": \"Schools\"\n",
      "                }\n",
      "            ],\n",
      "            \"today_id\": \"20240203\"\n",
      "        },\n",
      "        {\n",
      "            \"items\": [\n",
      "                {\n",
      "                    \"details\": \"Alternate side parking and meters are not in effect on Sundays.\",\n",
      "                    \"status\": \"NOT IN EFFECT\",\n",
      "                    \"type\": \"Alternate Side Parking\"\n",
      "                },\n",
      "                {\n",
      "                    \"details\": \"Trash, recycling, and compost collections are not in effect on Sundays.\",\n",
      "                    \"status\": \"NOT IN EFFECT\",\n",
      "                    \"type\": \"Collections\"\n",
      "                },\n",
      "                {\n",
      "                    \"details\": \"Public schools are not in session.\",\n",
      "                    \"status\": \"NOT IN SESSION\",\n",
      "                    \"type\": \"Schools\"\n",
      "                }\n",
      "            ],\n",
      "            \"today_id\": \"20240204\"\n",
      "        },\n",
      "        {\n",
      "            \"items\": [\n",
      "                {\n",
      "                    \"details\": \"Alternate side parking and meters are in effect.\",\n",
      "                    \"status\": \"IN EFFECT\",\n",
      "                    \"type\": \"Alternate Side Parking\"\n",
      "                },\n",
      "                {\n",
      "                    \"details\": \"Trash, recycling, and compost collections are on schedule.\",\n",
      "                    \"status\": \"ON SCHEDULE\",\n",
      "                    \"type\": \"Collections\"\n",
      "                },\n",
      "                {\n",
      "                    \"details\": \"Public schools are open.\",\n",
      "                    \"status\": \"OPEN\",\n",
      "                    \"type\": \"Schools\"\n",
      "                }\n",
      "            ],\n",
      "            \"today_id\": \"20240205\"\n",
      "        },\n",
      "        {\n",
      "            \"items\": [\n",
      "                {\n",
      "                    \"details\": \"Alternate side parking and meters are in effect.\",\n",
      "                    \"status\": \"IN EFFECT\",\n",
      "                    \"type\": \"Alternate Side Parking\"\n",
      "                },\n",
      "                {\n",
      "                    \"details\": \"Trash, recycling, and compost collections are on schedule.\",\n",
      "                    \"status\": \"ON SCHEDULE\",\n",
      "                    \"type\": \"Collections\"\n",
      "                },\n",
      "                {\n",
      "                    \"details\": \"Public schools are open.\",\n",
      "                    \"status\": \"OPEN\",\n",
      "                    \"type\": \"Schools\"\n",
      "                }\n",
      "            ],\n",
      "            \"today_id\": \"20240206\"\n",
      "        },\n",
      "        {\n",
      "            \"items\": [\n",
      "                {\n",
      "                    \"details\": \"Alternate side parking and meters are in effect.\",\n",
      "                    \"status\": \"IN EFFECT\",\n",
      "                    \"type\": \"Alternate Side Parking\"\n",
      "                },\n",
      "                {\n",
      "                    \"details\": \"Trash, recycling, and compost collections are on schedule.\",\n",
      "                    \"status\": \"ON SCHEDULE\",\n",
      "                    \"type\": \"Collections\"\n",
      "                },\n",
      "                {\n",
      "                    \"details\": \"Public schools are open.\",\n",
      "                    \"status\": \"OPEN\",\n",
      "                    \"type\": \"Schools\"\n",
      "                }\n",
      "            ],\n",
      "            \"today_id\": \"20240207\"\n",
      "        },\n",
      "        {\n",
      "            \"items\": [\n",
      "                {\n",
      "                    \"details\": \"Alternate side parking and meters are in effect.\",\n",
      "                    \"status\": \"IN EFFECT\",\n",
      "                    \"type\": \"Alternate Side Parking\"\n",
      "                },\n",
      "                {\n",
      "                    \"details\": \"Trash, recycling, and compost collections are on schedule.\",\n",
      "                    \"status\": \"ON SCHEDULE\",\n",
      "                    \"type\": \"Collections\"\n",
      "                },\n",
      "                {\n",
      "                    \"details\": \"Public schools are open.\",\n",
      "                    \"status\": \"OPEN\",\n",
      "                    \"type\": \"Schools\"\n",
      "                }\n",
      "            ],\n",
      "            \"today_id\": \"20240208\"\n",
      "        },\n",
      "        {\n",
      "            \"items\": [\n",
      "                {\n",
      "                    \"details\": \"Alternate side parking is suspended for Lunar New Year's Eve. Meters are in effect.\",\n",
      "                    \"exceptionName\": \"Lunar New Year's Eve 2024\",\n",
      "                    \"status\": \"SUSPENDED\",\n",
      "                    \"type\": \"Alternate Side Parking\"\n",
      "                },\n",
      "                {\n",
      "                    \"details\": \"Trash, recycling, and compost collections are on schedule.\",\n",
      "                    \"status\": \"ON SCHEDULE\",\n",
      "                    \"type\": \"Collections\"\n",
      "                },\n",
      "                {\n",
      "                    \"details\": \"Public schools are open.\",\n",
      "                    \"status\": \"OPEN\",\n",
      "                    \"type\": \"Schools\"\n",
      "                }\n",
      "            ],\n",
      "            \"today_id\": \"20240209\"\n",
      "        },\n",
      "        {\n",
      "            \"items\": [\n",
      "                {\n",
      "                    \"details\": \"Alternate side parking is suspended for Lunar New Year. Meters are in effect.\",\n",
      "                    \"exceptionName\": \"Lunar New Year 2024\",\n",
      "                    \"status\": \"SUSPENDED\",\n",
      "                    \"type\": \"Alternate Side Parking\"\n",
      "                },\n",
      "                {\n",
      "                    \"details\": \"Trash, recycling, and compost collections are on schedule.\",\n",
      "                    \"status\": \"ON SCHEDULE\",\n",
      "                    \"type\": \"Collections\"\n",
      "                },\n",
      "                {\n",
      "                    \"details\": \"Public schools are not in session.\",\n",
      "                    \"status\": \"NOT IN SESSION\",\n",
      "                    \"type\": \"Schools\"\n",
      "                }\n",
      "            ],\n",
      "            \"today_id\": \"20240210\"\n",
      "        },\n",
      "        {\n",
      "            \"items\": [\n",
      "                {\n",
      "                    \"details\": \"Alternate side parking and meters are not in effect on Sundays.\",\n",
      "                    \"status\": \"NOT IN EFFECT\",\n",
      "                    \"type\": \"Alternate Side Parking\"\n",
      "                },\n",
      "                {\n",
      "                    \"details\": \"Trash, recycling, and compost collections are not in effect on Sundays.\",\n",
      "                    \"status\": \"NOT IN EFFECT\",\n",
      "                    \"type\": \"Collections\"\n",
      "                },\n",
      "                {\n",
      "                    \"details\": \"Public schools are not in session.\",\n",
      "                    \"status\": \"NOT IN SESSION\",\n",
      "                    \"type\": \"Schools\"\n",
      "                }\n",
      "            ],\n",
      "            \"today_id\": \"20240211\"\n",
      "        },\n",
      "        {\n",
      "            \"items\": [\n",
      "                {\n",
      "                    \"details\": \"Alternate side parking is suspended for Lincoln's Birthday. Meters are in effect.\",\n",
      "                    \"exceptionName\": \"Lincoln's Birthday 2024\",\n",
      "                    \"status\": \"SUSPENDED\",\n",
      "                    \"type\": \"Alternate Side Parking\"\n",
      "                },\n",
      "                {\n",
      "                    \"details\": \"Trash, recycling, and compost collections are suspended for Lincoln's Birthday.\",\n",
      "                    \"exceptionName\": \"Lincoln's Birthday 2024\",\n",
      "                    \"status\": \"SUSPENDED\",\n",
      "                    \"type\": \"Collections\"\n",
      "                },\n",
      "                {\n",
      "                    \"details\": \"Public schools are open.\",\n",
      "                    \"status\": \"OPEN\",\n",
      "                    \"type\": \"Schools\"\n",
      "                }\n",
      "            ],\n",
      "            \"today_id\": \"20240212\"\n",
      "        },\n",
      "        {\n",
      "            \"items\": [\n",
      "                {\n",
      "                    \"details\": \"Alternate side parking is suspended due to snow. Meters are in effect.\",\n",
      "                    \"exceptionName\": \"Snow 2/13/2024\",\n",
      "                    \"status\": \"SUSPENDED\",\n",
      "                    \"type\": \"Alternate Side Parking\"\n",
      "                },\n",
      "                {\n",
      "                    \"details\": \"Trash, recycling, and compost collections are delayed due to snow.\",\n",
      "                    \"exceptionName\": \"Lincoln's Birthday and Snow Delayed 2/13 - 2/16/24\",\n",
      "                    \"status\": \"DELAYED\",\n",
      "                    \"type\": \"Collections\"\n",
      "                },\n",
      "                {\n",
      "                    \"details\": \"All public school students are scheduled for remote learning due to snow.\",\n",
      "                    \"exceptionName\": \"Snow 2/13/2024\",\n",
      "                    \"status\": \"REMOTE ONLY\",\n",
      "                    \"type\": \"Schools\"\n",
      "                }\n",
      "            ],\n",
      "            \"today_id\": \"20240213\"\n",
      "        },\n",
      "        {\n",
      "            \"items\": [\n",
      "                {\n",
      "                    \"details\": \"Alternate side parking is suspended for Ash Wednesday. Meters are in effect.\",\n",
      "                    \"exceptionName\": \"Ash Wednesday 2024\",\n",
      "                    \"status\": \"SUSPENDED\",\n",
      "                    \"type\": \"Alternate Side Parking\"\n",
      "                },\n",
      "                {\n",
      "                    \"details\": \"Trash, recycling, and compost collections are delayed due to snow.\",\n",
      "                    \"exceptionName\": \"Lincoln's Birthday and Snow Delayed 2/13 - 2/16/24\",\n",
      "                    \"status\": \"DELAYED\",\n",
      "                    \"type\": \"Collections\"\n",
      "                },\n",
      "                {\n",
      "                    \"details\": \"Public schools are open.\",\n",
      "                    \"status\": \"OPEN\",\n",
      "                    \"type\": \"Schools\"\n",
      "                }\n",
      "            ],\n",
      "            \"today_id\": \"20240214\"\n",
      "        },\n",
      "        {\n",
      "            \"items\": [\n",
      "                {\n",
      "                    \"details\": \"Alternate side parking is suspended to facilitate weather and trash collection operations. Meters are in effect.\",\n",
      "                    \"exceptionName\": \"Snow and Collections 2/15/24\",\n",
      "                    \"status\": \"SUSPENDED\",\n",
      "                    \"type\": \"Alternate Side Parking\"\n",
      "                },\n",
      "                {\n",
      "                    \"details\": \"Trash, recycling, and compost collections are delayed due to snow.\",\n",
      "                    \"exceptionName\": \"Lincoln's Birthday and Snow Delayed 2/13 - 2/16/24\",\n",
      "                    \"status\": \"DELAYED\",\n",
      "                    \"type\": \"Collections\"\n",
      "                },\n",
      "                {\n",
      "                    \"details\": \"Public schools are open.\",\n",
      "                    \"status\": \"OPEN\",\n",
      "                    \"type\": \"Schools\"\n",
      "                }\n",
      "            ],\n",
      "            \"today_id\": \"20240215\"\n",
      "        },\n",
      "        {\n",
      "            \"items\": [\n",
      "                {\n",
      "                    \"details\": \"Alternate side parking and meters are in effect.\",\n",
      "                    \"status\": \"IN EFFECT\",\n",
      "                    \"type\": \"Alternate Side Parking\"\n",
      "                },\n",
      "                {\n",
      "                    \"details\": \"Trash, recycling, and compost collections are delayed due to snow.\",\n",
      "                    \"exceptionName\": \"Lincoln's Birthday and Snow Delayed 2/13 - 2/16/24\",\n",
      "                    \"status\": \"DELAYED\",\n",
      "                    \"type\": \"Collections\"\n",
      "                },\n",
      "                {\n",
      "                    \"details\": \"Public schools are open.\",\n",
      "                    \"status\": \"OPEN\",\n",
      "                    \"type\": \"Schools\"\n",
      "                }\n",
      "            ],\n",
      "            \"today_id\": \"20240216\"\n",
      "        },\n",
      "        {\n",
      "            \"items\": [\n",
      "                {\n",
      "                    \"details\": \"Alternate side parking is suspended due to weather operations. Meters are in effect.\",\n",
      "                    \"exceptionName\": \"Snow 2/17/2024\",\n",
      "                    \"status\": \"SUSPENDED\",\n",
      "                    \"type\": \"Alternate Side Parking\"\n",
      "                },\n",
      "                {\n",
      "                    \"details\": \"Trash, recycling, and compost collections are delayed due to snow.\",\n",
      "                    \"exceptionName\": \"Lincoln's Birthday and Snow Delayed 2/13 - 2/16/24\",\n",
      "                    \"status\": \"DELAYED\",\n",
      "                    \"type\": \"Collections\"\n",
      "                },\n",
      "                {\n",
      "                    \"details\": \"Public schools are not in session.\",\n",
      "                    \"status\": \"NOT IN SESSION\",\n",
      "                    \"type\": \"Schools\"\n",
      "                }\n",
      "            ],\n",
      "            \"today_id\": \"20240217\"\n",
      "        },\n",
      "        {\n",
      "            \"items\": [\n",
      "                {\n",
      "                    \"details\": \"Alternate side parking and meters are not in effect on Sundays.\",\n",
      "                    \"status\": \"NOT IN EFFECT\",\n",
      "                    \"type\": \"Alternate Side Parking\"\n",
      "                },\n",
      "                {\n",
      "                    \"details\": \"Trash, recycling, and compost collections are not in effect on Sundays.\",\n",
      "                    \"status\": \"NOT IN EFFECT\",\n",
      "                    \"type\": \"Collections\"\n",
      "                },\n",
      "                {\n",
      "                    \"details\": \"Public schools are not in session.\",\n",
      "                    \"status\": \"NOT IN SESSION\",\n",
      "                    \"type\": \"Schools\"\n",
      "                }\n",
      "            ],\n",
      "            \"today_id\": \"20240218\"\n",
      "        },\n",
      "        {\n",
      "            \"items\": [\n",
      "                {\n",
      "                    \"details\": \"Alternate side parking is suspended for Washington's Birthday (Presidents' Day). Meters are in effect.\",\n",
      "                    \"exceptionName\": \"Washington's Birthday (Presidents' Day) 2024\",\n",
      "                    \"status\": \"SUSPENDED\",\n",
      "                    \"type\": \"Alternate Side Parking\"\n",
      "                },\n",
      "                {\n",
      "                    \"details\": \"Trash, recycling, and compost collections are suspended for Washington's Birthday (Presidents' Day).\",\n",
      "                    \"exceptionName\": \"Washington's Birthday (Presidents' Day) 2024\",\n",
      "                    \"status\": \"SUSPENDED\",\n",
      "                    \"type\": \"Collections\"\n",
      "                },\n",
      "                {\n",
      "                    \"details\": \"Public schools are closed for Midwinter Recess.\",\n",
      "                    \"exceptionName\": \"Midwinter Recess 2024\",\n",
      "                    \"status\": \"CLOSED\",\n",
      "                    \"type\": \"Schools\"\n",
      "                }\n",
      "            ],\n",
      "            \"today_id\": \"20240219\"\n",
      "        },\n",
      "        {\n",
      "            \"items\": [\n",
      "                {\n",
      "                    \"details\": \"Alternate side parking and meters are in effect.\",\n",
      "                    \"status\": \"IN EFFECT\",\n",
      "                    \"type\": \"Alternate Side Parking\"\n",
      "                },\n",
      "                {\n",
      "                    \"details\": \"Trash, recycling, and compost collections are delayed due to the backlog from the recent holiday.\",\n",
      "                    \"exceptionName\": \"Washington's Birthday (Presidents' Day) Delayed 2/20 - 2/21/24\",\n",
      "                    \"status\": \"DELAYED\",\n",
      "                    \"type\": \"Collections\"\n",
      "                },\n",
      "                {\n",
      "                    \"details\": \"Public schools are closed for Midwinter Recess.\",\n",
      "                    \"exceptionName\": \"Midwinter Recess 2024\",\n",
      "                    \"status\": \"CLOSED\",\n",
      "                    \"type\": \"Schools\"\n",
      "                }\n",
      "            ],\n",
      "            \"today_id\": \"20240220\"\n",
      "        },\n",
      "        {\n",
      "            \"items\": [\n",
      "                {\n",
      "                    \"details\": \"Alternate side parking and meters are in effect.\",\n",
      "                    \"status\": \"IN EFFECT\",\n",
      "                    \"type\": \"Alternate Side Parking\"\n",
      "                },\n",
      "                {\n",
      "                    \"details\": \"Trash, recycling, and compost collections are delayed due to the backlog from the recent holiday.\",\n",
      "                    \"exceptionName\": \"Washington's Birthday (Presidents' Day) Delayed 2/20 - 2/21/24\",\n",
      "                    \"status\": \"DELAYED\",\n",
      "                    \"type\": \"Collections\"\n",
      "                },\n",
      "                {\n",
      "                    \"details\": \"Public schools are closed for Midwinter Recess.\",\n",
      "                    \"exceptionName\": \"Midwinter Recess 2024\",\n",
      "                    \"status\": \"CLOSED\",\n",
      "                    \"type\": \"Schools\"\n",
      "                }\n",
      "            ],\n",
      "            \"today_id\": \"20240221\"\n",
      "        },\n",
      "        {\n",
      "            \"items\": [\n",
      "                {\n",
      "                    \"details\": \"Alternate side parking and meters are in effect.\",\n",
      "                    \"status\": \"IN EFFECT\",\n",
      "                    \"type\": \"Alternate Side Parking\"\n",
      "                },\n",
      "                {\n",
      "                    \"details\": \"Trash, recycling, and compost collections are on schedule.\",\n",
      "                    \"status\": \"ON SCHEDULE\",\n",
      "                    \"type\": \"Collections\"\n",
      "                },\n",
      "                {\n",
      "                    \"details\": \"Public schools are closed for Midwinter Recess.\",\n",
      "                    \"exceptionName\": \"Midwinter Recess 2024\",\n",
      "                    \"status\": \"CLOSED\",\n",
      "                    \"type\": \"Schools\"\n",
      "                }\n",
      "            ],\n",
      "            \"today_id\": \"20240222\"\n",
      "        },\n",
      "        {\n",
      "            \"items\": [\n",
      "                {\n",
      "                    \"details\": \"Alternate side parking and meters are in effect.\",\n",
      "                    \"status\": \"IN EFFECT\",\n",
      "                    \"type\": \"Alternate Side Parking\"\n",
      "                },\n",
      "                {\n",
      "                    \"details\": \"Trash, recycling, and compost collections are on schedule.\",\n",
      "                    \"status\": \"ON SCHEDULE\",\n",
      "                    \"type\": \"Collections\"\n",
      "                },\n",
      "                {\n",
      "                    \"details\": \"Public schools are closed for Midwinter Recess. Students return Monday.\",\n",
      "                    \"exceptionName\": \"Midwinter Recess Last Day 2024\",\n",
      "                    \"status\": \"CLOSED\",\n",
      "                    \"type\": \"Schools\"\n",
      "                }\n",
      "            ],\n",
      "            \"today_id\": \"20240223\"\n",
      "        },\n",
      "        {\n",
      "            \"items\": [\n",
      "                {\n",
      "                    \"details\": \"Alternate side parking and meters are in effect.\",\n",
      "                    \"status\": \"IN EFFECT\",\n",
      "                    \"type\": \"Alternate Side Parking\"\n",
      "                },\n",
      "                {\n",
      "                    \"details\": \"Trash, recycling, and compost collections are on schedule.\",\n",
      "                    \"status\": \"ON SCHEDULE\",\n",
      "                    \"type\": \"Collections\"\n",
      "                },\n",
      "                {\n",
      "                    \"details\": \"Public schools are not in session.\",\n",
      "                    \"status\": \"NOT IN SESSION\",\n",
      "                    \"type\": \"Schools\"\n",
      "                }\n",
      "            ],\n",
      "            \"today_id\": \"20240224\"\n",
      "        },\n",
      "        {\n",
      "            \"items\": [\n",
      "                {\n",
      "                    \"details\": \"Alternate side parking and meters are not in effect on Sundays.\",\n",
      "                    \"status\": \"NOT IN EFFECT\",\n",
      "                    \"type\": \"Alternate Side Parking\"\n",
      "                },\n",
      "                {\n",
      "                    \"details\": \"Trash, recycling, and compost collections are not in effect on Sundays.\",\n",
      "                    \"status\": \"NOT IN EFFECT\",\n",
      "                    \"type\": \"Collections\"\n",
      "                },\n",
      "                {\n",
      "                    \"details\": \"Public schools are not in session.\",\n",
      "                    \"status\": \"NOT IN SESSION\",\n",
      "                    \"type\": \"Schools\"\n",
      "                }\n",
      "            ],\n",
      "            \"today_id\": \"20240225\"\n",
      "        },\n",
      "        {\n",
      "            \"items\": [\n",
      "                {\n",
      "                    \"details\": \"Alternate side parking and meters are in effect.\",\n",
      "                    \"status\": \"IN EFFECT\",\n",
      "                    \"type\": \"Alternate Side Parking\"\n",
      "                },\n",
      "                {\n",
      "                    \"details\": \"Trash, recycling, and compost collections are on schedule.\",\n",
      "                    \"status\": \"ON SCHEDULE\",\n",
      "                    \"type\": \"Collections\"\n",
      "                },\n",
      "                {\n",
      "                    \"details\": \"Public schools are open.\",\n",
      "                    \"status\": \"OPEN\",\n",
      "                    \"type\": \"Schools\"\n",
      "                }\n",
      "            ],\n",
      "            \"today_id\": \"20240226\"\n",
      "        },\n",
      "        {\n",
      "            \"items\": [\n",
      "                {\n",
      "                    \"details\": \"Alternate side parking and meters are in effect.\",\n",
      "                    \"status\": \"IN EFFECT\",\n",
      "                    \"type\": \"Alternate Side Parking\"\n",
      "                },\n",
      "                {\n",
      "                    \"details\": \"Trash, recycling, and compost collections are on schedule.\",\n",
      "                    \"status\": \"ON SCHEDULE\",\n",
      "                    \"type\": \"Collections\"\n",
      "                },\n",
      "                {\n",
      "                    \"details\": \"Public schools are open.\",\n",
      "                    \"status\": \"OPEN\",\n",
      "                    \"type\": \"Schools\"\n",
      "                }\n",
      "            ],\n",
      "            \"today_id\": \"20240227\"\n",
      "        },\n",
      "        {\n",
      "            \"items\": [\n",
      "                {\n",
      "                    \"details\": \"Alternate side parking and meters are in effect.\",\n",
      "                    \"status\": \"IN EFFECT\",\n",
      "                    \"type\": \"Alternate Side Parking\"\n",
      "                },\n",
      "                {\n",
      "                    \"details\": \"Trash, recycling, and compost collections are on schedule.\",\n",
      "                    \"status\": \"ON SCHEDULE\",\n",
      "                    \"type\": \"Collections\"\n",
      "                },\n",
      "                {\n",
      "                    \"details\": \"Public schools are open.\",\n",
      "                    \"status\": \"OPEN\",\n",
      "                    \"type\": \"Schools\"\n",
      "                }\n",
      "            ],\n",
      "            \"today_id\": \"20240228\"\n",
      "        },\n",
      "        {\n",
      "            \"items\": [\n",
      "                {\n",
      "                    \"details\": \"Alternate side parking and meters are in effect.\",\n",
      "                    \"status\": \"IN EFFECT\",\n",
      "                    \"type\": \"Alternate Side Parking\"\n",
      "                },\n",
      "                {\n",
      "                    \"details\": \"Trash, recycling, and compost collections are on schedule.\",\n",
      "                    \"status\": \"ON SCHEDULE\",\n",
      "                    \"type\": \"Collections\"\n",
      "                },\n",
      "                {\n",
      "                    \"details\": \"Public schools are open.\",\n",
      "                    \"status\": \"OPEN\",\n",
      "                    \"type\": \"Schools\"\n",
      "                }\n",
      "            ],\n",
      "            \"today_id\": \"20240229\"\n",
      "        },\n",
      "        {\n",
      "            \"items\": [\n",
      "                {\n",
      "                    \"details\": \"Alternate side parking and meters are in effect.\",\n",
      "                    \"status\": \"IN EFFECT\",\n",
      "                    \"type\": \"Alternate Side Parking\"\n",
      "                },\n",
      "                {\n",
      "                    \"details\": \"Trash, recycling, and compost collections are on schedule.\",\n",
      "                    \"status\": \"ON SCHEDULE\",\n",
      "                    \"type\": \"Collections\"\n",
      "                },\n",
      "                {\n",
      "                    \"details\": \"Public schools are open.\",\n",
      "                    \"status\": \"OPEN\",\n",
      "                    \"type\": \"Schools\"\n",
      "                }\n",
      "            ],\n",
      "            \"today_id\": \"20240301\"\n",
      "        },\n",
      "        {\n",
      "            \"items\": [\n",
      "                {\n",
      "                    \"details\": \"Alternate side parking and meters are in effect.\",\n",
      "                    \"status\": \"IN EFFECT\",\n",
      "                    \"type\": \"Alternate Side Parking\"\n",
      "                },\n",
      "                {\n",
      "                    \"details\": \"Trash, recycling, and compost collections are on schedule.\",\n",
      "                    \"status\": \"ON SCHEDULE\",\n",
      "                    \"type\": \"Collections\"\n",
      "                },\n",
      "                {\n",
      "                    \"details\": \"Public schools are not in session.\",\n",
      "                    \"status\": \"NOT IN SESSION\",\n",
      "                    \"type\": \"Schools\"\n",
      "                }\n",
      "            ],\n",
      "            \"today_id\": \"20240302\"\n",
      "        },\n",
      "        {\n",
      "            \"items\": [\n",
      "                {\n",
      "                    \"details\": \"Alternate side parking and meters are not in effect on Sundays.\",\n",
      "                    \"status\": \"NOT IN EFFECT\",\n",
      "                    \"type\": \"Alternate Side Parking\"\n",
      "                },\n",
      "                {\n",
      "                    \"details\": \"Trash, recycling, and compost collections are not in effect on Sundays.\",\n",
      "                    \"status\": \"NOT IN EFFECT\",\n",
      "                    \"type\": \"Collections\"\n",
      "                },\n",
      "                {\n",
      "                    \"details\": \"Public schools are not in session.\",\n",
      "                    \"status\": \"NOT IN SESSION\",\n",
      "                    \"type\": \"Schools\"\n",
      "                }\n",
      "            ],\n",
      "            \"today_id\": \"20240303\"\n",
      "        },\n",
      "        {\n",
      "            \"items\": [\n",
      "                {\n",
      "                    \"details\": \"Alternate side parking and meters are in effect.\",\n",
      "                    \"status\": \"IN EFFECT\",\n",
      "                    \"type\": \"Alternate Side Parking\"\n",
      "                },\n",
      "                {\n",
      "                    \"details\": \"Trash, recycling, and compost collections are on schedule.\",\n",
      "                    \"status\": \"ON SCHEDULE\",\n",
      "                    \"type\": \"Collections\"\n",
      "                },\n",
      "                {\n",
      "                    \"details\": \"Public schools are open.\",\n",
      "                    \"status\": \"OPEN\",\n",
      "                    \"type\": \"Schools\"\n",
      "                }\n",
      "            ],\n",
      "            \"today_id\": \"20240304\"\n",
      "        },\n",
      "        {\n",
      "            \"items\": [\n",
      "                {\n",
      "                    \"details\": \"Alternate side parking and meters are in effect.\",\n",
      "                    \"status\": \"IN EFFECT\",\n",
      "                    \"type\": \"Alternate Side Parking\"\n",
      "                },\n",
      "                {\n",
      "                    \"details\": \"Trash, recycling, and compost collections are on schedule.\",\n",
      "                    \"status\": \"ON SCHEDULE\",\n",
      "                    \"type\": \"Collections\"\n",
      "                },\n",
      "                {\n",
      "                    \"details\": \"Public schools are open.\",\n",
      "                    \"status\": \"OPEN\",\n",
      "                    \"type\": \"Schools\"\n",
      "                }\n",
      "            ],\n",
      "            \"today_id\": \"20240305\"\n",
      "        },\n",
      "        {\n",
      "            \"items\": [\n",
      "                {\n",
      "                    \"details\": \"Alternate side parking and meters are in effect.\",\n",
      "                    \"status\": \"IN EFFECT\",\n",
      "                    \"type\": \"Alternate Side Parking\"\n",
      "                },\n",
      "                {\n",
      "                    \"details\": \"Trash, recycling, and compost collections are on schedule.\",\n",
      "                    \"status\": \"ON SCHEDULE\",\n",
      "                    \"type\": \"Collections\"\n",
      "                },\n",
      "                {\n",
      "                    \"details\": \"Public schools are open.\",\n",
      "                    \"status\": \"OPEN\",\n",
      "                    \"type\": \"Schools\"\n",
      "                }\n",
      "            ],\n",
      "            \"today_id\": \"20240306\"\n",
      "        },\n",
      "        {\n",
      "            \"items\": [\n",
      "                {\n",
      "                    \"details\": \"Alternate side parking and meters are in effect.\",\n",
      "                    \"status\": \"IN EFFECT\",\n",
      "                    \"type\": \"Alternate Side Parking\"\n",
      "                },\n",
      "                {\n",
      "                    \"details\": \"Trash, recycling, and compost collections are on schedule.\",\n",
      "                    \"status\": \"ON SCHEDULE\",\n",
      "                    \"type\": \"Collections\"\n",
      "                },\n",
      "                {\n",
      "                    \"details\": \"Public schools are open.\",\n",
      "                    \"status\": \"OPEN\",\n",
      "                    \"type\": \"Schools\"\n",
      "                }\n",
      "            ],\n",
      "            \"today_id\": \"20240307\"\n",
      "        },\n",
      "        {\n",
      "            \"items\": [\n",
      "                {\n",
      "                    \"details\": \"Alternate side parking and meters are in effect.\",\n",
      "                    \"status\": \"IN EFFECT\",\n",
      "                    \"type\": \"Alternate Side Parking\"\n",
      "                },\n",
      "                {\n",
      "                    \"details\": \"Trash, recycling, and compost collections are on schedule.\",\n",
      "                    \"status\": \"ON SCHEDULE\",\n",
      "                    \"type\": \"Collections\"\n",
      "                },\n",
      "                {\n",
      "                    \"details\": \"Public schools are open.\",\n",
      "                    \"status\": \"OPEN\",\n",
      "                    \"type\": \"Schools\"\n",
      "                }\n",
      "            ],\n",
      "            \"today_id\": \"20240308\"\n",
      "        },\n",
      "        {\n",
      "            \"items\": [\n",
      "                {\n",
      "                    \"details\": \"Alternate side parking and meters are in effect.\",\n",
      "                    \"status\": \"IN EFFECT\",\n",
      "                    \"type\": \"Alternate Side Parking\"\n",
      "                },\n",
      "                {\n",
      "                    \"details\": \"Trash, recycling, and compost collections are on schedule.\",\n",
      "                    \"status\": \"ON SCHEDULE\",\n",
      "                    \"type\": \"Collections\"\n",
      "                },\n",
      "                {\n",
      "                    \"details\": \"Public schools are not in session.\",\n",
      "                    \"status\": \"NOT IN SESSION\",\n",
      "                    \"type\": \"Schools\"\n",
      "                }\n",
      "            ],\n",
      "            \"today_id\": \"20240309\"\n",
      "        },\n",
      "        {\n",
      "            \"items\": [\n",
      "                {\n",
      "                    \"details\": \"Alternate side parking and meters are not in effect on Sundays.\",\n",
      "                    \"status\": \"NOT IN EFFECT\",\n",
      "                    \"type\": \"Alternate Side Parking\"\n",
      "                },\n",
      "                {\n",
      "                    \"details\": \"Trash, recycling, and compost collections are not in effect on Sundays.\",\n",
      "                    \"status\": \"NOT IN EFFECT\",\n",
      "                    \"type\": \"Collections\"\n",
      "                },\n",
      "                {\n",
      "                    \"details\": \"Public schools are not in session.\",\n",
      "                    \"status\": \"NOT IN SESSION\",\n",
      "                    \"type\": \"Schools\"\n",
      "                }\n",
      "            ],\n",
      "            \"today_id\": \"20240310\"\n",
      "        },\n",
      "        {\n",
      "            \"items\": [\n",
      "                {\n",
      "                    \"details\": \"Alternate side parking and meters are in effect.\",\n",
      "                    \"status\": \"IN EFFECT\",\n",
      "                    \"type\": \"Alternate Side Parking\"\n",
      "                },\n",
      "                {\n",
      "                    \"details\": \"Trash, recycling, and compost collections are on schedule.\",\n",
      "                    \"status\": \"ON SCHEDULE\",\n",
      "                    \"type\": \"Collections\"\n",
      "                },\n",
      "                {\n",
      "                    \"details\": \"Public schools are open.\",\n",
      "                    \"status\": \"OPEN\",\n",
      "                    \"type\": \"Schools\"\n",
      "                }\n",
      "            ],\n",
      "            \"today_id\": \"20240311\"\n",
      "        },\n",
      "        {\n",
      "            \"items\": [\n",
      "                {\n",
      "                    \"details\": \"Alternate side parking and meters are in effect.\",\n",
      "                    \"status\": \"IN EFFECT\",\n",
      "                    \"type\": \"Alternate Side Parking\"\n",
      "                },\n",
      "                {\n",
      "                    \"details\": \"Trash, recycling, and compost collections are on schedule.\",\n",
      "                    \"status\": \"ON SCHEDULE\",\n",
      "                    \"type\": \"Collections\"\n",
      "                },\n",
      "                {\n",
      "                    \"details\": \"Public schools are open.\",\n",
      "                    \"status\": \"OPEN\",\n",
      "                    \"type\": \"Schools\"\n",
      "                }\n",
      "            ],\n",
      "            \"today_id\": \"20240312\"\n",
      "        },\n",
      "        {\n",
      "            \"items\": [\n",
      "                {\n",
      "                    \"details\": \"Alternate side parking and meters are in effect.\",\n",
      "                    \"status\": \"IN EFFECT\",\n",
      "                    \"type\": \"Alternate Side Parking\"\n",
      "                },\n",
      "                {\n",
      "                    \"details\": \"Trash, recycling, and compost collections are on schedule.\",\n",
      "                    \"status\": \"ON SCHEDULE\",\n",
      "                    \"type\": \"Collections\"\n",
      "                },\n",
      "                {\n",
      "                    \"details\": \"Public schools are open.\",\n",
      "                    \"status\": \"OPEN\",\n",
      "                    \"type\": \"Schools\"\n",
      "                }\n",
      "            ],\n",
      "            \"today_id\": \"20240313\"\n",
      "        },\n",
      "        {\n",
      "            \"items\": [\n",
      "                {\n",
      "                    \"details\": \"Alternate side parking and meters are in effect.\",\n",
      "                    \"status\": \"IN EFFECT\",\n",
      "                    \"type\": \"Alternate Side Parking\"\n",
      "                },\n",
      "                {\n",
      "                    \"details\": \"Trash, recycling, and compost collections are on schedule.\",\n",
      "                    \"status\": \"ON SCHEDULE\",\n",
      "                    \"type\": \"Collections\"\n",
      "                },\n",
      "                {\n",
      "                    \"details\": \"Public schools are open.\",\n",
      "                    \"status\": \"OPEN\",\n",
      "                    \"type\": \"Schools\"\n",
      "                }\n",
      "            ],\n",
      "            \"today_id\": \"20240314\"\n",
      "        },\n",
      "        {\n",
      "            \"items\": [\n",
      "                {\n",
      "                    \"details\": \"Alternate side parking and meters are in effect.\",\n",
      "                    \"status\": \"IN EFFECT\",\n",
      "                    \"type\": \"Alternate Side Parking\"\n",
      "                },\n",
      "                {\n",
      "                    \"details\": \"Trash, recycling, and compost collections are on schedule.\",\n",
      "                    \"status\": \"ON SCHEDULE\",\n",
      "                    \"type\": \"Collections\"\n",
      "                },\n",
      "                {\n",
      "                    \"details\": \"Public schools are open.\",\n",
      "                    \"status\": \"OPEN\",\n",
      "                    \"type\": \"Schools\"\n",
      "                }\n",
      "            ],\n",
      "            \"today_id\": \"20240315\"\n",
      "        }\n",
      "    ]\n",
      "}\n"
     ]
    }
   ],
   "source": [
    "# Pretty Print the output of the JSON\n",
    "print(json.dumps(response_json, indent=4, sort_keys=True))"
   ]
  },
  {
   "cell_type": "code",
   "execution_count": 830,
   "metadata": {},
   "outputs": [
    {
     "data": {
      "text/plain": [
       "{'days': [{'today_id': '20240131',\n",
       "   'items': [{'details': 'Alternate side parking and meters are in effect.',\n",
       "     'status': 'IN EFFECT',\n",
       "     'type': 'Alternate Side Parking'},\n",
       "    {'details': 'Trash, recycling, and compost collections are on schedule.',\n",
       "     'status': 'ON SCHEDULE',\n",
       "     'type': 'Collections'},\n",
       "    {'details': 'Public schools are open.',\n",
       "     'status': 'OPEN',\n",
       "     'type': 'Schools'}]},\n",
       "  {'today_id': '20240201',\n",
       "   'items': [{'details': 'Alternate side parking and meters are in effect.',\n",
       "     'status': 'IN EFFECT',\n",
       "     'type': 'Alternate Side Parking'},\n",
       "    {'details': 'Trash, recycling, and compost collections are on schedule.',\n",
       "     'status': 'ON SCHEDULE',\n",
       "     'type': 'Collections'},\n",
       "    {'details': 'Public schools are open.',\n",
       "     'status': 'OPEN',\n",
       "     'type': 'Schools'}]},\n",
       "  {'today_id': '20240202',\n",
       "   'items': [{'details': 'Alternate side parking and meters are in effect.',\n",
       "     'status': 'IN EFFECT',\n",
       "     'type': 'Alternate Side Parking'},\n",
       "    {'details': 'Trash, recycling, and compost collections are on schedule.',\n",
       "     'status': 'ON SCHEDULE',\n",
       "     'type': 'Collections'},\n",
       "    {'details': 'Public schools are open.',\n",
       "     'status': 'OPEN',\n",
       "     'type': 'Schools'}]},\n",
       "  {'today_id': '20240203',\n",
       "   'items': [{'details': 'Alternate side parking and meters are in effect.',\n",
       "     'status': 'IN EFFECT',\n",
       "     'type': 'Alternate Side Parking'},\n",
       "    {'details': 'Trash, recycling, and compost collections are on schedule.',\n",
       "     'status': 'ON SCHEDULE',\n",
       "     'type': 'Collections'},\n",
       "    {'details': 'Public schools are not in session.',\n",
       "     'status': 'NOT IN SESSION',\n",
       "     'type': 'Schools'}]},\n",
       "  {'today_id': '20240204',\n",
       "   'items': [{'details': 'Alternate side parking and meters are not in effect on Sundays.',\n",
       "     'status': 'NOT IN EFFECT',\n",
       "     'type': 'Alternate Side Parking'},\n",
       "    {'details': 'Trash, recycling, and compost collections are not in effect on Sundays.',\n",
       "     'status': 'NOT IN EFFECT',\n",
       "     'type': 'Collections'},\n",
       "    {'details': 'Public schools are not in session.',\n",
       "     'status': 'NOT IN SESSION',\n",
       "     'type': 'Schools'}]},\n",
       "  {'today_id': '20240205',\n",
       "   'items': [{'details': 'Alternate side parking and meters are in effect.',\n",
       "     'status': 'IN EFFECT',\n",
       "     'type': 'Alternate Side Parking'},\n",
       "    {'details': 'Trash, recycling, and compost collections are on schedule.',\n",
       "     'status': 'ON SCHEDULE',\n",
       "     'type': 'Collections'},\n",
       "    {'details': 'Public schools are open.',\n",
       "     'status': 'OPEN',\n",
       "     'type': 'Schools'}]},\n",
       "  {'today_id': '20240206',\n",
       "   'items': [{'details': 'Alternate side parking and meters are in effect.',\n",
       "     'status': 'IN EFFECT',\n",
       "     'type': 'Alternate Side Parking'},\n",
       "    {'details': 'Trash, recycling, and compost collections are on schedule.',\n",
       "     'status': 'ON SCHEDULE',\n",
       "     'type': 'Collections'},\n",
       "    {'details': 'Public schools are open.',\n",
       "     'status': 'OPEN',\n",
       "     'type': 'Schools'}]},\n",
       "  {'today_id': '20240207',\n",
       "   'items': [{'details': 'Alternate side parking and meters are in effect.',\n",
       "     'status': 'IN EFFECT',\n",
       "     'type': 'Alternate Side Parking'},\n",
       "    {'details': 'Trash, recycling, and compost collections are on schedule.',\n",
       "     'status': 'ON SCHEDULE',\n",
       "     'type': 'Collections'},\n",
       "    {'details': 'Public schools are open.',\n",
       "     'status': 'OPEN',\n",
       "     'type': 'Schools'}]},\n",
       "  {'today_id': '20240208',\n",
       "   'items': [{'details': 'Alternate side parking and meters are in effect.',\n",
       "     'status': 'IN EFFECT',\n",
       "     'type': 'Alternate Side Parking'},\n",
       "    {'details': 'Trash, recycling, and compost collections are on schedule.',\n",
       "     'status': 'ON SCHEDULE',\n",
       "     'type': 'Collections'},\n",
       "    {'details': 'Public schools are open.',\n",
       "     'status': 'OPEN',\n",
       "     'type': 'Schools'}]},\n",
       "  {'today_id': '20240209',\n",
       "   'items': [{'exceptionName': \"Lunar New Year's Eve 2024\",\n",
       "     'details': \"Alternate side parking is suspended for Lunar New Year's Eve. Meters are in effect.\",\n",
       "     'status': 'SUSPENDED',\n",
       "     'type': 'Alternate Side Parking'},\n",
       "    {'details': 'Trash, recycling, and compost collections are on schedule.',\n",
       "     'status': 'ON SCHEDULE',\n",
       "     'type': 'Collections'},\n",
       "    {'details': 'Public schools are open.',\n",
       "     'status': 'OPEN',\n",
       "     'type': 'Schools'}]},\n",
       "  {'today_id': '20240210',\n",
       "   'items': [{'exceptionName': 'Lunar New Year 2024',\n",
       "     'details': 'Alternate side parking is suspended for Lunar New Year. Meters are in effect.',\n",
       "     'status': 'SUSPENDED',\n",
       "     'type': 'Alternate Side Parking'},\n",
       "    {'details': 'Trash, recycling, and compost collections are on schedule.',\n",
       "     'status': 'ON SCHEDULE',\n",
       "     'type': 'Collections'},\n",
       "    {'details': 'Public schools are not in session.',\n",
       "     'status': 'NOT IN SESSION',\n",
       "     'type': 'Schools'}]},\n",
       "  {'today_id': '20240211',\n",
       "   'items': [{'details': 'Alternate side parking and meters are not in effect on Sundays.',\n",
       "     'status': 'NOT IN EFFECT',\n",
       "     'type': 'Alternate Side Parking'},\n",
       "    {'details': 'Trash, recycling, and compost collections are not in effect on Sundays.',\n",
       "     'status': 'NOT IN EFFECT',\n",
       "     'type': 'Collections'},\n",
       "    {'details': 'Public schools are not in session.',\n",
       "     'status': 'NOT IN SESSION',\n",
       "     'type': 'Schools'}]},\n",
       "  {'today_id': '20240212',\n",
       "   'items': [{'exceptionName': \"Lincoln's Birthday 2024\",\n",
       "     'details': \"Alternate side parking is suspended for Lincoln's Birthday. Meters are in effect.\",\n",
       "     'status': 'SUSPENDED',\n",
       "     'type': 'Alternate Side Parking'},\n",
       "    {'exceptionName': \"Lincoln's Birthday 2024\",\n",
       "     'details': \"Trash, recycling, and compost collections are suspended for Lincoln's Birthday.\",\n",
       "     'status': 'SUSPENDED',\n",
       "     'type': 'Collections'},\n",
       "    {'details': 'Public schools are open.',\n",
       "     'status': 'OPEN',\n",
       "     'type': 'Schools'}]},\n",
       "  {'today_id': '20240213',\n",
       "   'items': [{'exceptionName': 'Snow 2/13/2024',\n",
       "     'details': 'Alternate side parking is suspended due to snow. Meters are in effect.',\n",
       "     'status': 'SUSPENDED',\n",
       "     'type': 'Alternate Side Parking'},\n",
       "    {'exceptionName': \"Lincoln's Birthday and Snow Delayed 2/13 - 2/16/24\",\n",
       "     'details': 'Trash, recycling, and compost collections are delayed due to snow.',\n",
       "     'status': 'DELAYED',\n",
       "     'type': 'Collections'},\n",
       "    {'exceptionName': 'Snow 2/13/2024',\n",
       "     'details': 'All public school students are scheduled for remote learning due to snow.',\n",
       "     'status': 'REMOTE ONLY',\n",
       "     'type': 'Schools'}]},\n",
       "  {'today_id': '20240214',\n",
       "   'items': [{'exceptionName': 'Ash Wednesday 2024',\n",
       "     'details': 'Alternate side parking is suspended for Ash Wednesday. Meters are in effect.',\n",
       "     'status': 'SUSPENDED',\n",
       "     'type': 'Alternate Side Parking'},\n",
       "    {'exceptionName': \"Lincoln's Birthday and Snow Delayed 2/13 - 2/16/24\",\n",
       "     'details': 'Trash, recycling, and compost collections are delayed due to snow.',\n",
       "     'status': 'DELAYED',\n",
       "     'type': 'Collections'},\n",
       "    {'details': 'Public schools are open.',\n",
       "     'status': 'OPEN',\n",
       "     'type': 'Schools'}]},\n",
       "  {'today_id': '20240215',\n",
       "   'items': [{'exceptionName': 'Snow and Collections 2/15/24',\n",
       "     'details': 'Alternate side parking is suspended to facilitate weather and trash collection operations. Meters are in effect.',\n",
       "     'status': 'SUSPENDED',\n",
       "     'type': 'Alternate Side Parking'},\n",
       "    {'exceptionName': \"Lincoln's Birthday and Snow Delayed 2/13 - 2/16/24\",\n",
       "     'details': 'Trash, recycling, and compost collections are delayed due to snow.',\n",
       "     'status': 'DELAYED',\n",
       "     'type': 'Collections'},\n",
       "    {'details': 'Public schools are open.',\n",
       "     'status': 'OPEN',\n",
       "     'type': 'Schools'}]},\n",
       "  {'today_id': '20240216',\n",
       "   'items': [{'details': 'Alternate side parking and meters are in effect.',\n",
       "     'status': 'IN EFFECT',\n",
       "     'type': 'Alternate Side Parking'},\n",
       "    {'exceptionName': \"Lincoln's Birthday and Snow Delayed 2/13 - 2/16/24\",\n",
       "     'details': 'Trash, recycling, and compost collections are delayed due to snow.',\n",
       "     'status': 'DELAYED',\n",
       "     'type': 'Collections'},\n",
       "    {'details': 'Public schools are open.',\n",
       "     'status': 'OPEN',\n",
       "     'type': 'Schools'}]},\n",
       "  {'today_id': '20240217',\n",
       "   'items': [{'exceptionName': 'Snow 2/17/2024',\n",
       "     'details': 'Alternate side parking is suspended due to weather operations. Meters are in effect.',\n",
       "     'status': 'SUSPENDED',\n",
       "     'type': 'Alternate Side Parking'},\n",
       "    {'exceptionName': \"Lincoln's Birthday and Snow Delayed 2/13 - 2/16/24\",\n",
       "     'details': 'Trash, recycling, and compost collections are delayed due to snow.',\n",
       "     'status': 'DELAYED',\n",
       "     'type': 'Collections'},\n",
       "    {'details': 'Public schools are not in session.',\n",
       "     'status': 'NOT IN SESSION',\n",
       "     'type': 'Schools'}]},\n",
       "  {'today_id': '20240218',\n",
       "   'items': [{'details': 'Alternate side parking and meters are not in effect on Sundays.',\n",
       "     'status': 'NOT IN EFFECT',\n",
       "     'type': 'Alternate Side Parking'},\n",
       "    {'details': 'Trash, recycling, and compost collections are not in effect on Sundays.',\n",
       "     'status': 'NOT IN EFFECT',\n",
       "     'type': 'Collections'},\n",
       "    {'details': 'Public schools are not in session.',\n",
       "     'status': 'NOT IN SESSION',\n",
       "     'type': 'Schools'}]},\n",
       "  {'today_id': '20240219',\n",
       "   'items': [{'exceptionName': \"Washington's Birthday (Presidents' Day) 2024\",\n",
       "     'details': \"Alternate side parking is suspended for Washington's Birthday (Presidents' Day). Meters are in effect.\",\n",
       "     'status': 'SUSPENDED',\n",
       "     'type': 'Alternate Side Parking'},\n",
       "    {'exceptionName': \"Washington's Birthday (Presidents' Day) 2024\",\n",
       "     'details': \"Trash, recycling, and compost collections are suspended for Washington's Birthday (Presidents' Day).\",\n",
       "     'status': 'SUSPENDED',\n",
       "     'type': 'Collections'},\n",
       "    {'exceptionName': 'Midwinter Recess 2024',\n",
       "     'details': 'Public schools are closed for Midwinter Recess.',\n",
       "     'status': 'CLOSED',\n",
       "     'type': 'Schools'}]},\n",
       "  {'today_id': '20240220',\n",
       "   'items': [{'details': 'Alternate side parking and meters are in effect.',\n",
       "     'status': 'IN EFFECT',\n",
       "     'type': 'Alternate Side Parking'},\n",
       "    {'exceptionName': \"Washington's Birthday (Presidents' Day) Delayed 2/20 - 2/21/24\",\n",
       "     'details': 'Trash, recycling, and compost collections are delayed due to the backlog from the recent holiday.',\n",
       "     'status': 'DELAYED',\n",
       "     'type': 'Collections'},\n",
       "    {'exceptionName': 'Midwinter Recess 2024',\n",
       "     'details': 'Public schools are closed for Midwinter Recess.',\n",
       "     'status': 'CLOSED',\n",
       "     'type': 'Schools'}]},\n",
       "  {'today_id': '20240221',\n",
       "   'items': [{'details': 'Alternate side parking and meters are in effect.',\n",
       "     'status': 'IN EFFECT',\n",
       "     'type': 'Alternate Side Parking'},\n",
       "    {'exceptionName': \"Washington's Birthday (Presidents' Day) Delayed 2/20 - 2/21/24\",\n",
       "     'details': 'Trash, recycling, and compost collections are delayed due to the backlog from the recent holiday.',\n",
       "     'status': 'DELAYED',\n",
       "     'type': 'Collections'},\n",
       "    {'exceptionName': 'Midwinter Recess 2024',\n",
       "     'details': 'Public schools are closed for Midwinter Recess.',\n",
       "     'status': 'CLOSED',\n",
       "     'type': 'Schools'}]},\n",
       "  {'today_id': '20240222',\n",
       "   'items': [{'details': 'Alternate side parking and meters are in effect.',\n",
       "     'status': 'IN EFFECT',\n",
       "     'type': 'Alternate Side Parking'},\n",
       "    {'details': 'Trash, recycling, and compost collections are on schedule.',\n",
       "     'status': 'ON SCHEDULE',\n",
       "     'type': 'Collections'},\n",
       "    {'exceptionName': 'Midwinter Recess 2024',\n",
       "     'details': 'Public schools are closed for Midwinter Recess.',\n",
       "     'status': 'CLOSED',\n",
       "     'type': 'Schools'}]},\n",
       "  {'today_id': '20240223',\n",
       "   'items': [{'details': 'Alternate side parking and meters are in effect.',\n",
       "     'status': 'IN EFFECT',\n",
       "     'type': 'Alternate Side Parking'},\n",
       "    {'details': 'Trash, recycling, and compost collections are on schedule.',\n",
       "     'status': 'ON SCHEDULE',\n",
       "     'type': 'Collections'},\n",
       "    {'exceptionName': 'Midwinter Recess Last Day 2024',\n",
       "     'details': 'Public schools are closed for Midwinter Recess. Students return Monday.',\n",
       "     'status': 'CLOSED',\n",
       "     'type': 'Schools'}]},\n",
       "  {'today_id': '20240224',\n",
       "   'items': [{'details': 'Alternate side parking and meters are in effect.',\n",
       "     'status': 'IN EFFECT',\n",
       "     'type': 'Alternate Side Parking'},\n",
       "    {'details': 'Trash, recycling, and compost collections are on schedule.',\n",
       "     'status': 'ON SCHEDULE',\n",
       "     'type': 'Collections'},\n",
       "    {'details': 'Public schools are not in session.',\n",
       "     'status': 'NOT IN SESSION',\n",
       "     'type': 'Schools'}]},\n",
       "  {'today_id': '20240225',\n",
       "   'items': [{'details': 'Alternate side parking and meters are not in effect on Sundays.',\n",
       "     'status': 'NOT IN EFFECT',\n",
       "     'type': 'Alternate Side Parking'},\n",
       "    {'details': 'Trash, recycling, and compost collections are not in effect on Sundays.',\n",
       "     'status': 'NOT IN EFFECT',\n",
       "     'type': 'Collections'},\n",
       "    {'details': 'Public schools are not in session.',\n",
       "     'status': 'NOT IN SESSION',\n",
       "     'type': 'Schools'}]},\n",
       "  {'today_id': '20240226',\n",
       "   'items': [{'details': 'Alternate side parking and meters are in effect.',\n",
       "     'status': 'IN EFFECT',\n",
       "     'type': 'Alternate Side Parking'},\n",
       "    {'details': 'Trash, recycling, and compost collections are on schedule.',\n",
       "     'status': 'ON SCHEDULE',\n",
       "     'type': 'Collections'},\n",
       "    {'details': 'Public schools are open.',\n",
       "     'status': 'OPEN',\n",
       "     'type': 'Schools'}]},\n",
       "  {'today_id': '20240227',\n",
       "   'items': [{'details': 'Alternate side parking and meters are in effect.',\n",
       "     'status': 'IN EFFECT',\n",
       "     'type': 'Alternate Side Parking'},\n",
       "    {'details': 'Trash, recycling, and compost collections are on schedule.',\n",
       "     'status': 'ON SCHEDULE',\n",
       "     'type': 'Collections'},\n",
       "    {'details': 'Public schools are open.',\n",
       "     'status': 'OPEN',\n",
       "     'type': 'Schools'}]},\n",
       "  {'today_id': '20240228',\n",
       "   'items': [{'details': 'Alternate side parking and meters are in effect.',\n",
       "     'status': 'IN EFFECT',\n",
       "     'type': 'Alternate Side Parking'},\n",
       "    {'details': 'Trash, recycling, and compost collections are on schedule.',\n",
       "     'status': 'ON SCHEDULE',\n",
       "     'type': 'Collections'},\n",
       "    {'details': 'Public schools are open.',\n",
       "     'status': 'OPEN',\n",
       "     'type': 'Schools'}]},\n",
       "  {'today_id': '20240229',\n",
       "   'items': [{'details': 'Alternate side parking and meters are in effect.',\n",
       "     'status': 'IN EFFECT',\n",
       "     'type': 'Alternate Side Parking'},\n",
       "    {'details': 'Trash, recycling, and compost collections are on schedule.',\n",
       "     'status': 'ON SCHEDULE',\n",
       "     'type': 'Collections'},\n",
       "    {'details': 'Public schools are open.',\n",
       "     'status': 'OPEN',\n",
       "     'type': 'Schools'}]},\n",
       "  {'today_id': '20240301',\n",
       "   'items': [{'details': 'Alternate side parking and meters are in effect.',\n",
       "     'status': 'IN EFFECT',\n",
       "     'type': 'Alternate Side Parking'},\n",
       "    {'details': 'Trash, recycling, and compost collections are on schedule.',\n",
       "     'status': 'ON SCHEDULE',\n",
       "     'type': 'Collections'},\n",
       "    {'details': 'Public schools are open.',\n",
       "     'status': 'OPEN',\n",
       "     'type': 'Schools'}]},\n",
       "  {'today_id': '20240302',\n",
       "   'items': [{'details': 'Alternate side parking and meters are in effect.',\n",
       "     'status': 'IN EFFECT',\n",
       "     'type': 'Alternate Side Parking'},\n",
       "    {'details': 'Trash, recycling, and compost collections are on schedule.',\n",
       "     'status': 'ON SCHEDULE',\n",
       "     'type': 'Collections'},\n",
       "    {'details': 'Public schools are not in session.',\n",
       "     'status': 'NOT IN SESSION',\n",
       "     'type': 'Schools'}]},\n",
       "  {'today_id': '20240303',\n",
       "   'items': [{'details': 'Alternate side parking and meters are not in effect on Sundays.',\n",
       "     'status': 'NOT IN EFFECT',\n",
       "     'type': 'Alternate Side Parking'},\n",
       "    {'details': 'Trash, recycling, and compost collections are not in effect on Sundays.',\n",
       "     'status': 'NOT IN EFFECT',\n",
       "     'type': 'Collections'},\n",
       "    {'details': 'Public schools are not in session.',\n",
       "     'status': 'NOT IN SESSION',\n",
       "     'type': 'Schools'}]},\n",
       "  {'today_id': '20240304',\n",
       "   'items': [{'details': 'Alternate side parking and meters are in effect.',\n",
       "     'status': 'IN EFFECT',\n",
       "     'type': 'Alternate Side Parking'},\n",
       "    {'details': 'Trash, recycling, and compost collections are on schedule.',\n",
       "     'status': 'ON SCHEDULE',\n",
       "     'type': 'Collections'},\n",
       "    {'details': 'Public schools are open.',\n",
       "     'status': 'OPEN',\n",
       "     'type': 'Schools'}]},\n",
       "  {'today_id': '20240305',\n",
       "   'items': [{'details': 'Alternate side parking and meters are in effect.',\n",
       "     'status': 'IN EFFECT',\n",
       "     'type': 'Alternate Side Parking'},\n",
       "    {'details': 'Trash, recycling, and compost collections are on schedule.',\n",
       "     'status': 'ON SCHEDULE',\n",
       "     'type': 'Collections'},\n",
       "    {'details': 'Public schools are open.',\n",
       "     'status': 'OPEN',\n",
       "     'type': 'Schools'}]},\n",
       "  {'today_id': '20240306',\n",
       "   'items': [{'details': 'Alternate side parking and meters are in effect.',\n",
       "     'status': 'IN EFFECT',\n",
       "     'type': 'Alternate Side Parking'},\n",
       "    {'details': 'Trash, recycling, and compost collections are on schedule.',\n",
       "     'status': 'ON SCHEDULE',\n",
       "     'type': 'Collections'},\n",
       "    {'details': 'Public schools are open.',\n",
       "     'status': 'OPEN',\n",
       "     'type': 'Schools'}]},\n",
       "  {'today_id': '20240307',\n",
       "   'items': [{'details': 'Alternate side parking and meters are in effect.',\n",
       "     'status': 'IN EFFECT',\n",
       "     'type': 'Alternate Side Parking'},\n",
       "    {'details': 'Trash, recycling, and compost collections are on schedule.',\n",
       "     'status': 'ON SCHEDULE',\n",
       "     'type': 'Collections'},\n",
       "    {'details': 'Public schools are open.',\n",
       "     'status': 'OPEN',\n",
       "     'type': 'Schools'}]},\n",
       "  {'today_id': '20240308',\n",
       "   'items': [{'details': 'Alternate side parking and meters are in effect.',\n",
       "     'status': 'IN EFFECT',\n",
       "     'type': 'Alternate Side Parking'},\n",
       "    {'details': 'Trash, recycling, and compost collections are on schedule.',\n",
       "     'status': 'ON SCHEDULE',\n",
       "     'type': 'Collections'},\n",
       "    {'details': 'Public schools are open.',\n",
       "     'status': 'OPEN',\n",
       "     'type': 'Schools'}]},\n",
       "  {'today_id': '20240309',\n",
       "   'items': [{'details': 'Alternate side parking and meters are in effect.',\n",
       "     'status': 'IN EFFECT',\n",
       "     'type': 'Alternate Side Parking'},\n",
       "    {'details': 'Trash, recycling, and compost collections are on schedule.',\n",
       "     'status': 'ON SCHEDULE',\n",
       "     'type': 'Collections'},\n",
       "    {'details': 'Public schools are not in session.',\n",
       "     'status': 'NOT IN SESSION',\n",
       "     'type': 'Schools'}]},\n",
       "  {'today_id': '20240310',\n",
       "   'items': [{'details': 'Alternate side parking and meters are not in effect on Sundays.',\n",
       "     'status': 'NOT IN EFFECT',\n",
       "     'type': 'Alternate Side Parking'},\n",
       "    {'details': 'Trash, recycling, and compost collections are not in effect on Sundays.',\n",
       "     'status': 'NOT IN EFFECT',\n",
       "     'type': 'Collections'},\n",
       "    {'details': 'Public schools are not in session.',\n",
       "     'status': 'NOT IN SESSION',\n",
       "     'type': 'Schools'}]},\n",
       "  {'today_id': '20240311',\n",
       "   'items': [{'details': 'Alternate side parking and meters are in effect.',\n",
       "     'status': 'IN EFFECT',\n",
       "     'type': 'Alternate Side Parking'},\n",
       "    {'details': 'Trash, recycling, and compost collections are on schedule.',\n",
       "     'status': 'ON SCHEDULE',\n",
       "     'type': 'Collections'},\n",
       "    {'details': 'Public schools are open.',\n",
       "     'status': 'OPEN',\n",
       "     'type': 'Schools'}]},\n",
       "  {'today_id': '20240312',\n",
       "   'items': [{'details': 'Alternate side parking and meters are in effect.',\n",
       "     'status': 'IN EFFECT',\n",
       "     'type': 'Alternate Side Parking'},\n",
       "    {'details': 'Trash, recycling, and compost collections are on schedule.',\n",
       "     'status': 'ON SCHEDULE',\n",
       "     'type': 'Collections'},\n",
       "    {'details': 'Public schools are open.',\n",
       "     'status': 'OPEN',\n",
       "     'type': 'Schools'}]},\n",
       "  {'today_id': '20240313',\n",
       "   'items': [{'details': 'Alternate side parking and meters are in effect.',\n",
       "     'status': 'IN EFFECT',\n",
       "     'type': 'Alternate Side Parking'},\n",
       "    {'details': 'Trash, recycling, and compost collections are on schedule.',\n",
       "     'status': 'ON SCHEDULE',\n",
       "     'type': 'Collections'},\n",
       "    {'details': 'Public schools are open.',\n",
       "     'status': 'OPEN',\n",
       "     'type': 'Schools'}]},\n",
       "  {'today_id': '20240314',\n",
       "   'items': [{'details': 'Alternate side parking and meters are in effect.',\n",
       "     'status': 'IN EFFECT',\n",
       "     'type': 'Alternate Side Parking'},\n",
       "    {'details': 'Trash, recycling, and compost collections are on schedule.',\n",
       "     'status': 'ON SCHEDULE',\n",
       "     'type': 'Collections'},\n",
       "    {'details': 'Public schools are open.',\n",
       "     'status': 'OPEN',\n",
       "     'type': 'Schools'}]},\n",
       "  {'today_id': '20240315',\n",
       "   'items': [{'details': 'Alternate side parking and meters are in effect.',\n",
       "     'status': 'IN EFFECT',\n",
       "     'type': 'Alternate Side Parking'},\n",
       "    {'details': 'Trash, recycling, and compost collections are on schedule.',\n",
       "     'status': 'ON SCHEDULE',\n",
       "     'type': 'Collections'},\n",
       "    {'details': 'Public schools are open.',\n",
       "     'status': 'OPEN',\n",
       "     'type': 'Schools'}]}]}"
      ]
     },
     "execution_count": 830,
     "metadata": {},
     "output_type": "execute_result"
    }
   ],
   "source": [
    "#create a dataframe from json response \n",
    "api_df = response_json\n",
    "api_df"
   ]
  },
  {
   "cell_type": "code",
   "execution_count": 831,
   "metadata": {},
   "outputs": [
    {
     "data": {
      "text/html": [
       "<div>\n",
       "<style scoped>\n",
       "    .dataframe tbody tr th:only-of-type {\n",
       "        vertical-align: middle;\n",
       "    }\n",
       "\n",
       "    .dataframe tbody tr th {\n",
       "        vertical-align: top;\n",
       "    }\n",
       "\n",
       "    .dataframe thead th {\n",
       "        text-align: right;\n",
       "    }\n",
       "</style>\n",
       "<table border=\"1\" class=\"dataframe\">\n",
       "  <thead>\n",
       "    <tr style=\"text-align: right;\">\n",
       "      <th></th>\n",
       "      <th>today_id</th>\n",
       "      <th>details</th>\n",
       "      <th>status</th>\n",
       "      <th>type</th>\n",
       "      <th>exceptionName</th>\n",
       "    </tr>\n",
       "  </thead>\n",
       "  <tbody>\n",
       "    <tr>\n",
       "      <th>0</th>\n",
       "      <td>20240131</td>\n",
       "      <td>Alternate side parking and meters are in effect.</td>\n",
       "      <td>IN EFFECT</td>\n",
       "      <td>Alternate Side Parking</td>\n",
       "      <td>NaN</td>\n",
       "    </tr>\n",
       "    <tr>\n",
       "      <th>1</th>\n",
       "      <td>20240131</td>\n",
       "      <td>Trash, recycling, and compost collections are ...</td>\n",
       "      <td>ON SCHEDULE</td>\n",
       "      <td>Collections</td>\n",
       "      <td>NaN</td>\n",
       "    </tr>\n",
       "    <tr>\n",
       "      <th>2</th>\n",
       "      <td>20240131</td>\n",
       "      <td>Public schools are open.</td>\n",
       "      <td>OPEN</td>\n",
       "      <td>Schools</td>\n",
       "      <td>NaN</td>\n",
       "    </tr>\n",
       "    <tr>\n",
       "      <th>3</th>\n",
       "      <td>20240201</td>\n",
       "      <td>Alternate side parking and meters are in effect.</td>\n",
       "      <td>IN EFFECT</td>\n",
       "      <td>Alternate Side Parking</td>\n",
       "      <td>NaN</td>\n",
       "    </tr>\n",
       "    <tr>\n",
       "      <th>4</th>\n",
       "      <td>20240201</td>\n",
       "      <td>Trash, recycling, and compost collections are ...</td>\n",
       "      <td>ON SCHEDULE</td>\n",
       "      <td>Collections</td>\n",
       "      <td>NaN</td>\n",
       "    </tr>\n",
       "    <tr>\n",
       "      <th>...</th>\n",
       "      <td>...</td>\n",
       "      <td>...</td>\n",
       "      <td>...</td>\n",
       "      <td>...</td>\n",
       "      <td>...</td>\n",
       "    </tr>\n",
       "    <tr>\n",
       "      <th>130</th>\n",
       "      <td>20240314</td>\n",
       "      <td>Trash, recycling, and compost collections are ...</td>\n",
       "      <td>ON SCHEDULE</td>\n",
       "      <td>Collections</td>\n",
       "      <td>NaN</td>\n",
       "    </tr>\n",
       "    <tr>\n",
       "      <th>131</th>\n",
       "      <td>20240314</td>\n",
       "      <td>Public schools are open.</td>\n",
       "      <td>OPEN</td>\n",
       "      <td>Schools</td>\n",
       "      <td>NaN</td>\n",
       "    </tr>\n",
       "    <tr>\n",
       "      <th>132</th>\n",
       "      <td>20240315</td>\n",
       "      <td>Alternate side parking and meters are in effect.</td>\n",
       "      <td>IN EFFECT</td>\n",
       "      <td>Alternate Side Parking</td>\n",
       "      <td>NaN</td>\n",
       "    </tr>\n",
       "    <tr>\n",
       "      <th>133</th>\n",
       "      <td>20240315</td>\n",
       "      <td>Trash, recycling, and compost collections are ...</td>\n",
       "      <td>ON SCHEDULE</td>\n",
       "      <td>Collections</td>\n",
       "      <td>NaN</td>\n",
       "    </tr>\n",
       "    <tr>\n",
       "      <th>134</th>\n",
       "      <td>20240315</td>\n",
       "      <td>Public schools are open.</td>\n",
       "      <td>OPEN</td>\n",
       "      <td>Schools</td>\n",
       "      <td>NaN</td>\n",
       "    </tr>\n",
       "  </tbody>\n",
       "</table>\n",
       "<p>135 rows × 5 columns</p>\n",
       "</div>"
      ],
      "text/plain": [
       "     today_id                                            details       status  \\\n",
       "0    20240131   Alternate side parking and meters are in effect.    IN EFFECT   \n",
       "1    20240131  Trash, recycling, and compost collections are ...  ON SCHEDULE   \n",
       "2    20240131                           Public schools are open.         OPEN   \n",
       "3    20240201   Alternate side parking and meters are in effect.    IN EFFECT   \n",
       "4    20240201  Trash, recycling, and compost collections are ...  ON SCHEDULE   \n",
       "..        ...                                                ...          ...   \n",
       "130  20240314  Trash, recycling, and compost collections are ...  ON SCHEDULE   \n",
       "131  20240314                           Public schools are open.         OPEN   \n",
       "132  20240315   Alternate side parking and meters are in effect.    IN EFFECT   \n",
       "133  20240315  Trash, recycling, and compost collections are ...  ON SCHEDULE   \n",
       "134  20240315                           Public schools are open.         OPEN   \n",
       "\n",
       "                       type exceptionName  \n",
       "0    Alternate Side Parking           NaN  \n",
       "1               Collections           NaN  \n",
       "2                   Schools           NaN  \n",
       "3    Alternate Side Parking           NaN  \n",
       "4               Collections           NaN  \n",
       "..                      ...           ...  \n",
       "130             Collections           NaN  \n",
       "131                 Schools           NaN  \n",
       "132  Alternate Side Parking           NaN  \n",
       "133             Collections           NaN  \n",
       "134                 Schools           NaN  \n",
       "\n",
       "[135 rows x 5 columns]"
      ]
     },
     "execution_count": 831,
     "metadata": {},
     "output_type": "execute_result"
    }
   ],
   "source": [
    "#create a empty list to store data\n",
    "rows = []\n",
    "# Loop through the data and extract information\n",
    "for day in api_df['days']:\n",
    "    today_id = day['today_id']\n",
    "    for type in day['items']:\n",
    "        row = {'today_id': today_id}\n",
    "        row.update(type)\n",
    "        rows.append(row)\n",
    "trash_cleaned_df = pd.DataFrame(rows)\n",
    "#display dataframe \n",
    "trash_cleaned_df"
   ]
  },
  {
   "cell_type": "code",
   "execution_count": 832,
   "metadata": {},
   "outputs": [
    {
     "data": {
      "text/html": [
       "<div>\n",
       "<style scoped>\n",
       "    .dataframe tbody tr th:only-of-type {\n",
       "        vertical-align: middle;\n",
       "    }\n",
       "\n",
       "    .dataframe tbody tr th {\n",
       "        vertical-align: top;\n",
       "    }\n",
       "\n",
       "    .dataframe thead th {\n",
       "        text-align: right;\n",
       "    }\n",
       "</style>\n",
       "<table border=\"1\" class=\"dataframe\">\n",
       "  <thead>\n",
       "    <tr style=\"text-align: right;\">\n",
       "      <th></th>\n",
       "      <th>today_id</th>\n",
       "      <th>status</th>\n",
       "      <th>type</th>\n",
       "    </tr>\n",
       "  </thead>\n",
       "  <tbody>\n",
       "    <tr>\n",
       "      <th>1</th>\n",
       "      <td>20240131</td>\n",
       "      <td>ON SCHEDULE</td>\n",
       "      <td>Collections</td>\n",
       "    </tr>\n",
       "    <tr>\n",
       "      <th>4</th>\n",
       "      <td>20240201</td>\n",
       "      <td>ON SCHEDULE</td>\n",
       "      <td>Collections</td>\n",
       "    </tr>\n",
       "    <tr>\n",
       "      <th>7</th>\n",
       "      <td>20240202</td>\n",
       "      <td>ON SCHEDULE</td>\n",
       "      <td>Collections</td>\n",
       "    </tr>\n",
       "    <tr>\n",
       "      <th>10</th>\n",
       "      <td>20240203</td>\n",
       "      <td>ON SCHEDULE</td>\n",
       "      <td>Collections</td>\n",
       "    </tr>\n",
       "    <tr>\n",
       "      <th>13</th>\n",
       "      <td>20240204</td>\n",
       "      <td>NOT IN EFFECT</td>\n",
       "      <td>Collections</td>\n",
       "    </tr>\n",
       "  </tbody>\n",
       "</table>\n",
       "</div>"
      ],
      "text/plain": [
       "    today_id         status         type\n",
       "1   20240131    ON SCHEDULE  Collections\n",
       "4   20240201    ON SCHEDULE  Collections\n",
       "7   20240202    ON SCHEDULE  Collections\n",
       "10  20240203    ON SCHEDULE  Collections\n",
       "13  20240204  NOT IN EFFECT  Collections"
      ]
     },
     "execution_count": 832,
     "metadata": {},
     "output_type": "execute_result"
    }
   ],
   "source": [
    "collections_list = []\n",
    "\n",
    "# Iterating over each 'day' in the 'days' column of api_df\n",
    "for day in api_df['days']:\n",
    "    # Iterating over each 'item' in the 'items' list of the current 'day'\n",
    "    for item in day['items']:\n",
    "        # Appending a dictionary to collections_list for each 'item'\n",
    "        collections_list.append({\n",
    "            'today_id': day['today_id'],  # Storing 'today_id' from the current 'day'\n",
    "            'status': item['status'],     # Storing 'status' from the current 'item'\n",
    "            'type': item['type']          # Storing 'type' from the current 'item'\n",
    "        })\n",
    "\n",
    "# Creating a DataFrame using collections_list\n",
    "types_df = pd.DataFrame(collections_list)\n",
    "\n",
    "# Filtering rows in types_df where 'type' column equals 'Collections'\n",
    "specific_type = 'Collections'\n",
    "trash_filtered_df = types_df[types_df['type'] == specific_type]\n",
    "\n",
    "# Displaying the first few rows of the filtered DataFrame\n",
    "trash_filtered_df.head()\n"
   ]
  },
  {
   "cell_type": "markdown",
   "metadata": {},
   "source": [
    "### Extracting the the first trimester of 2024 from 311 service request dataset open data "
   ]
  },
  {
   "cell_type": "code",
   "execution_count": 833,
   "metadata": {},
   "outputs": [
    {
     "name": "stdout",
     "output_type": "stream",
     "text": [
      "794354\n"
     ]
    }
   ],
   "source": [
    "# Define date range\n",
    "start_date = datetime(2024, 1, 1).isoformat()  # January 1, 2023\n",
    "end_date = datetime(2024, 4, 1).isoformat()  # January 1, 2024\n",
    "\n",
    "\n",
    "# Example authenticated client (needed for non-public datasets):\n",
    "client = Socrata(\n",
    "    \"data.cityofnewyork.us\",\n",
    "    token311,\n",
    "    username= username,\n",
    "    password= password,\n",
    "    timeout=1000\n",
    ")\n",
    "\n",
    "# First 794354 results, returned as JSON from API / converted to Python list of\n",
    "# dictionaries by sodapy.\n",
    "# Query dataset with date filter \n",
    "#in this case we se a limit of limit=794354 because that's the number of rows we need to get the first trimester, we cannot set it to default because it only retrive 1000 max.\n",
    "results = client.get(\"erm2-nwe9\", where=f\"created_date between '{start_date}' and '{end_date}'\", limit=794354)\n",
    "print(len(results))\n",
    "# Convert to pandas DataFrame\n",
    "results_df = pd.DataFrame.from_records(results)\n"
   ]
  },
  {
   "cell_type": "code",
   "execution_count": 834,
   "metadata": {},
   "outputs": [
    {
     "data": {
      "text/html": [
       "<div>\n",
       "<style scoped>\n",
       "    .dataframe tbody tr th:only-of-type {\n",
       "        vertical-align: middle;\n",
       "    }\n",
       "\n",
       "    .dataframe tbody tr th {\n",
       "        vertical-align: top;\n",
       "    }\n",
       "\n",
       "    .dataframe thead th {\n",
       "        text-align: right;\n",
       "    }\n",
       "</style>\n",
       "<table border=\"1\" class=\"dataframe\">\n",
       "  <thead>\n",
       "    <tr style=\"text-align: right;\">\n",
       "      <th></th>\n",
       "      <th>unique_key</th>\n",
       "      <th>created_date</th>\n",
       "      <th>closed_date</th>\n",
       "      <th>agency</th>\n",
       "      <th>agency_name</th>\n",
       "      <th>complaint_type</th>\n",
       "      <th>descriptor</th>\n",
       "      <th>location_type</th>\n",
       "      <th>incident_zip</th>\n",
       "      <th>incident_address</th>\n",
       "      <th>...</th>\n",
       "      <th>location</th>\n",
       "      <th>vehicle_type</th>\n",
       "      <th>facility_type</th>\n",
       "      <th>due_date</th>\n",
       "      <th>taxi_pick_up_location</th>\n",
       "      <th>bridge_highway_name</th>\n",
       "      <th>bridge_highway_segment</th>\n",
       "      <th>bridge_highway_direction</th>\n",
       "      <th>road_ramp</th>\n",
       "      <th>taxi_company_borough</th>\n",
       "    </tr>\n",
       "  </thead>\n",
       "  <tbody>\n",
       "    <tr>\n",
       "      <th>0</th>\n",
       "      <td>60746805</td>\n",
       "      <td>2024-04-01T00:00:00.000</td>\n",
       "      <td>2024-04-01T00:00:01.000</td>\n",
       "      <td>DOHMH</td>\n",
       "      <td>Department of Health and Mental Hygiene</td>\n",
       "      <td>Food Poisoning</td>\n",
       "      <td>1 or 2</td>\n",
       "      <td>Restaurant/Bar/Deli/Bakery</td>\n",
       "      <td>11211</td>\n",
       "      <td>76 AINSLIE STREET</td>\n",
       "      <td>...</td>\n",
       "      <td>{'latitude': '40.71256007953489', 'longitude':...</td>\n",
       "      <td>NaN</td>\n",
       "      <td>NaN</td>\n",
       "      <td>NaN</td>\n",
       "      <td>NaN</td>\n",
       "      <td>NaN</td>\n",
       "      <td>NaN</td>\n",
       "      <td>NaN</td>\n",
       "      <td>NaN</td>\n",
       "      <td>NaN</td>\n",
       "    </tr>\n",
       "    <tr>\n",
       "      <th>1</th>\n",
       "      <td>60740007</td>\n",
       "      <td>2024-03-31T23:59:36.000</td>\n",
       "      <td>2024-04-01T05:20:38.000</td>\n",
       "      <td>DOT</td>\n",
       "      <td>Department of Transportation</td>\n",
       "      <td>Street Sign - Damaged</td>\n",
       "      <td>No Parking, Standing, Stopping</td>\n",
       "      <td>Street</td>\n",
       "      <td>11205</td>\n",
       "      <td>920 KENT AVENUE</td>\n",
       "      <td>...</td>\n",
       "      <td>{'latitude': '40.693075024696356', 'longitude'...</td>\n",
       "      <td>NaN</td>\n",
       "      <td>NaN</td>\n",
       "      <td>NaN</td>\n",
       "      <td>NaN</td>\n",
       "      <td>NaN</td>\n",
       "      <td>NaN</td>\n",
       "      <td>NaN</td>\n",
       "      <td>NaN</td>\n",
       "      <td>NaN</td>\n",
       "    </tr>\n",
       "    <tr>\n",
       "      <th>2</th>\n",
       "      <td>60734332</td>\n",
       "      <td>2024-03-31T23:59:09.000</td>\n",
       "      <td>2024-04-01T09:12:45.000</td>\n",
       "      <td>HPD</td>\n",
       "      <td>Department of Housing Preservation and Develop...</td>\n",
       "      <td>HEAT/HOT WATER</td>\n",
       "      <td>ENTIRE BUILDING</td>\n",
       "      <td>RESIDENTIAL BUILDING</td>\n",
       "      <td>10454</td>\n",
       "      <td>313 EAST  140 STREET</td>\n",
       "      <td>...</td>\n",
       "      <td>{'latitude': '40.81154285376075', 'longitude':...</td>\n",
       "      <td>NaN</td>\n",
       "      <td>NaN</td>\n",
       "      <td>NaN</td>\n",
       "      <td>NaN</td>\n",
       "      <td>NaN</td>\n",
       "      <td>NaN</td>\n",
       "      <td>NaN</td>\n",
       "      <td>NaN</td>\n",
       "      <td>NaN</td>\n",
       "    </tr>\n",
       "    <tr>\n",
       "      <th>3</th>\n",
       "      <td>60738841</td>\n",
       "      <td>2024-03-31T23:58:47.000</td>\n",
       "      <td>2024-04-02T22:34:59.000</td>\n",
       "      <td>HPD</td>\n",
       "      <td>Department of Housing Preservation and Develop...</td>\n",
       "      <td>HEAT/HOT WATER</td>\n",
       "      <td>APARTMENT ONLY</td>\n",
       "      <td>RESIDENTIAL BUILDING</td>\n",
       "      <td>10128</td>\n",
       "      <td>1670 YORK AVENUE</td>\n",
       "      <td>...</td>\n",
       "      <td>{'latitude': '40.777070197706855', 'longitude'...</td>\n",
       "      <td>NaN</td>\n",
       "      <td>NaN</td>\n",
       "      <td>NaN</td>\n",
       "      <td>NaN</td>\n",
       "      <td>NaN</td>\n",
       "      <td>NaN</td>\n",
       "      <td>NaN</td>\n",
       "      <td>NaN</td>\n",
       "      <td>NaN</td>\n",
       "    </tr>\n",
       "    <tr>\n",
       "      <th>4</th>\n",
       "      <td>60739109</td>\n",
       "      <td>2024-03-31T23:58:39.000</td>\n",
       "      <td>2024-04-02T15:08:50.000</td>\n",
       "      <td>DOT</td>\n",
       "      <td>Department of Transportation</td>\n",
       "      <td>Street Condition</td>\n",
       "      <td>Defective Hardware</td>\n",
       "      <td>Street</td>\n",
       "      <td>10009</td>\n",
       "      <td>324 EAST    8 STREET</td>\n",
       "      <td>...</td>\n",
       "      <td>{'latitude': '40.72501024136251', 'longitude':...</td>\n",
       "      <td>NaN</td>\n",
       "      <td>NaN</td>\n",
       "      <td>NaN</td>\n",
       "      <td>NaN</td>\n",
       "      <td>NaN</td>\n",
       "      <td>NaN</td>\n",
       "      <td>NaN</td>\n",
       "      <td>NaN</td>\n",
       "      <td>NaN</td>\n",
       "    </tr>\n",
       "    <tr>\n",
       "      <th>...</th>\n",
       "      <td>...</td>\n",
       "      <td>...</td>\n",
       "      <td>...</td>\n",
       "      <td>...</td>\n",
       "      <td>...</td>\n",
       "      <td>...</td>\n",
       "      <td>...</td>\n",
       "      <td>...</td>\n",
       "      <td>...</td>\n",
       "      <td>...</td>\n",
       "      <td>...</td>\n",
       "      <td>...</td>\n",
       "      <td>...</td>\n",
       "      <td>...</td>\n",
       "      <td>...</td>\n",
       "      <td>...</td>\n",
       "      <td>...</td>\n",
       "      <td>...</td>\n",
       "      <td>...</td>\n",
       "      <td>...</td>\n",
       "      <td>...</td>\n",
       "    </tr>\n",
       "    <tr>\n",
       "      <th>794349</th>\n",
       "      <td>59887043</td>\n",
       "      <td>2024-01-01T00:00:20.000</td>\n",
       "      <td>2024-01-01T00:41:01.000</td>\n",
       "      <td>NYPD</td>\n",
       "      <td>New York City Police Department</td>\n",
       "      <td>Illegal Fireworks</td>\n",
       "      <td>N/A</td>\n",
       "      <td>Street/Sidewalk</td>\n",
       "      <td>11228</td>\n",
       "      <td>7223 FORT HAMILTON PARKWAY</td>\n",
       "      <td>...</td>\n",
       "      <td>{'latitude': '40.62709413549678', 'longitude':...</td>\n",
       "      <td>NaN</td>\n",
       "      <td>NaN</td>\n",
       "      <td>NaN</td>\n",
       "      <td>NaN</td>\n",
       "      <td>NaN</td>\n",
       "      <td>NaN</td>\n",
       "      <td>NaN</td>\n",
       "      <td>NaN</td>\n",
       "      <td>NaN</td>\n",
       "    </tr>\n",
       "    <tr>\n",
       "      <th>794350</th>\n",
       "      <td>59896272</td>\n",
       "      <td>2024-01-01T00:00:00.000</td>\n",
       "      <td>2024-01-02T00:00:01.000</td>\n",
       "      <td>DOHMH</td>\n",
       "      <td>Department of Health and Mental Hygiene</td>\n",
       "      <td>Food Poisoning</td>\n",
       "      <td>1 or 2</td>\n",
       "      <td>Restaurant/Bar/Deli/Bakery</td>\n",
       "      <td>11211</td>\n",
       "      <td>145 GRAND STREET EXTENSION</td>\n",
       "      <td>...</td>\n",
       "      <td>{'latitude': '40.710675306389646', 'longitude'...</td>\n",
       "      <td>NaN</td>\n",
       "      <td>NaN</td>\n",
       "      <td>NaN</td>\n",
       "      <td>NaN</td>\n",
       "      <td>NaN</td>\n",
       "      <td>NaN</td>\n",
       "      <td>NaN</td>\n",
       "      <td>NaN</td>\n",
       "      <td>NaN</td>\n",
       "    </tr>\n",
       "    <tr>\n",
       "      <th>794351</th>\n",
       "      <td>59899838</td>\n",
       "      <td>2024-01-01T00:00:00.000</td>\n",
       "      <td>2024-01-02T09:42:25.000</td>\n",
       "      <td>DOHMH</td>\n",
       "      <td>Department of Health and Mental Hygiene</td>\n",
       "      <td>Food Poisoning</td>\n",
       "      <td>1 or 2</td>\n",
       "      <td>Restaurant/Bar/Deli/Bakery</td>\n",
       "      <td>10022</td>\n",
       "      <td>1069 1 AVENUE</td>\n",
       "      <td>...</td>\n",
       "      <td>{'latitude': '40.759191822016476', 'longitude'...</td>\n",
       "      <td>NaN</td>\n",
       "      <td>NaN</td>\n",
       "      <td>NaN</td>\n",
       "      <td>NaN</td>\n",
       "      <td>NaN</td>\n",
       "      <td>NaN</td>\n",
       "      <td>NaN</td>\n",
       "      <td>NaN</td>\n",
       "      <td>NaN</td>\n",
       "    </tr>\n",
       "    <tr>\n",
       "      <th>794352</th>\n",
       "      <td>59894610</td>\n",
       "      <td>2024-01-01T00:00:00.000</td>\n",
       "      <td>2024-01-02T09:46:32.000</td>\n",
       "      <td>DOHMH</td>\n",
       "      <td>Department of Health and Mental Hygiene</td>\n",
       "      <td>Food Poisoning</td>\n",
       "      <td>1 or 2</td>\n",
       "      <td>Restaurant/Bar/Deli/Bakery</td>\n",
       "      <td>10304</td>\n",
       "      <td>7 NAVY PIER COURT</td>\n",
       "      <td>...</td>\n",
       "      <td>{'latitude': '40.628827651071944', 'longitude'...</td>\n",
       "      <td>NaN</td>\n",
       "      <td>NaN</td>\n",
       "      <td>NaN</td>\n",
       "      <td>NaN</td>\n",
       "      <td>NaN</td>\n",
       "      <td>NaN</td>\n",
       "      <td>NaN</td>\n",
       "      <td>NaN</td>\n",
       "      <td>NaN</td>\n",
       "    </tr>\n",
       "    <tr>\n",
       "      <th>794353</th>\n",
       "      <td>59898042</td>\n",
       "      <td>2024-01-01T00:00:00.000</td>\n",
       "      <td>2024-01-02T09:24:45.000</td>\n",
       "      <td>DOHMH</td>\n",
       "      <td>Department of Health and Mental Hygiene</td>\n",
       "      <td>Food Poisoning</td>\n",
       "      <td>1 or 2</td>\n",
       "      <td>Restaurant/Bar/Deli/Bakery</td>\n",
       "      <td>10462</td>\n",
       "      <td>711 MORRIS PARK AVENUE</td>\n",
       "      <td>...</td>\n",
       "      <td>{'latitude': '40.84533975748463', 'longitude':...</td>\n",
       "      <td>NaN</td>\n",
       "      <td>NaN</td>\n",
       "      <td>NaN</td>\n",
       "      <td>NaN</td>\n",
       "      <td>NaN</td>\n",
       "      <td>NaN</td>\n",
       "      <td>NaN</td>\n",
       "      <td>NaN</td>\n",
       "      <td>NaN</td>\n",
       "    </tr>\n",
       "  </tbody>\n",
       "</table>\n",
       "<p>794354 rows × 41 columns</p>\n",
       "</div>"
      ],
      "text/plain": [
       "       unique_key             created_date              closed_date agency  \\\n",
       "0        60746805  2024-04-01T00:00:00.000  2024-04-01T00:00:01.000  DOHMH   \n",
       "1        60740007  2024-03-31T23:59:36.000  2024-04-01T05:20:38.000    DOT   \n",
       "2        60734332  2024-03-31T23:59:09.000  2024-04-01T09:12:45.000    HPD   \n",
       "3        60738841  2024-03-31T23:58:47.000  2024-04-02T22:34:59.000    HPD   \n",
       "4        60739109  2024-03-31T23:58:39.000  2024-04-02T15:08:50.000    DOT   \n",
       "...           ...                      ...                      ...    ...   \n",
       "794349   59887043  2024-01-01T00:00:20.000  2024-01-01T00:41:01.000   NYPD   \n",
       "794350   59896272  2024-01-01T00:00:00.000  2024-01-02T00:00:01.000  DOHMH   \n",
       "794351   59899838  2024-01-01T00:00:00.000  2024-01-02T09:42:25.000  DOHMH   \n",
       "794352   59894610  2024-01-01T00:00:00.000  2024-01-02T09:46:32.000  DOHMH   \n",
       "794353   59898042  2024-01-01T00:00:00.000  2024-01-02T09:24:45.000  DOHMH   \n",
       "\n",
       "                                              agency_name  \\\n",
       "0                 Department of Health and Mental Hygiene   \n",
       "1                            Department of Transportation   \n",
       "2       Department of Housing Preservation and Develop...   \n",
       "3       Department of Housing Preservation and Develop...   \n",
       "4                            Department of Transportation   \n",
       "...                                                   ...   \n",
       "794349                    New York City Police Department   \n",
       "794350            Department of Health and Mental Hygiene   \n",
       "794351            Department of Health and Mental Hygiene   \n",
       "794352            Department of Health and Mental Hygiene   \n",
       "794353            Department of Health and Mental Hygiene   \n",
       "\n",
       "               complaint_type                      descriptor  \\\n",
       "0              Food Poisoning                          1 or 2   \n",
       "1       Street Sign - Damaged  No Parking, Standing, Stopping   \n",
       "2              HEAT/HOT WATER                 ENTIRE BUILDING   \n",
       "3              HEAT/HOT WATER                  APARTMENT ONLY   \n",
       "4            Street Condition              Defective Hardware   \n",
       "...                       ...                             ...   \n",
       "794349      Illegal Fireworks                             N/A   \n",
       "794350         Food Poisoning                          1 or 2   \n",
       "794351         Food Poisoning                          1 or 2   \n",
       "794352         Food Poisoning                          1 or 2   \n",
       "794353         Food Poisoning                          1 or 2   \n",
       "\n",
       "                     location_type incident_zip            incident_address  \\\n",
       "0       Restaurant/Bar/Deli/Bakery        11211           76 AINSLIE STREET   \n",
       "1                           Street        11205             920 KENT AVENUE   \n",
       "2             RESIDENTIAL BUILDING        10454        313 EAST  140 STREET   \n",
       "3             RESIDENTIAL BUILDING        10128            1670 YORK AVENUE   \n",
       "4                           Street        10009        324 EAST    8 STREET   \n",
       "...                            ...          ...                         ...   \n",
       "794349             Street/Sidewalk        11228  7223 FORT HAMILTON PARKWAY   \n",
       "794350  Restaurant/Bar/Deli/Bakery        11211  145 GRAND STREET EXTENSION   \n",
       "794351  Restaurant/Bar/Deli/Bakery        10022               1069 1 AVENUE   \n",
       "794352  Restaurant/Bar/Deli/Bakery        10304           7 NAVY PIER COURT   \n",
       "794353  Restaurant/Bar/Deli/Bakery        10462      711 MORRIS PARK AVENUE   \n",
       "\n",
       "        ...                                           location vehicle_type  \\\n",
       "0       ...  {'latitude': '40.71256007953489', 'longitude':...          NaN   \n",
       "1       ...  {'latitude': '40.693075024696356', 'longitude'...          NaN   \n",
       "2       ...  {'latitude': '40.81154285376075', 'longitude':...          NaN   \n",
       "3       ...  {'latitude': '40.777070197706855', 'longitude'...          NaN   \n",
       "4       ...  {'latitude': '40.72501024136251', 'longitude':...          NaN   \n",
       "...     ...                                                ...          ...   \n",
       "794349  ...  {'latitude': '40.62709413549678', 'longitude':...          NaN   \n",
       "794350  ...  {'latitude': '40.710675306389646', 'longitude'...          NaN   \n",
       "794351  ...  {'latitude': '40.759191822016476', 'longitude'...          NaN   \n",
       "794352  ...  {'latitude': '40.628827651071944', 'longitude'...          NaN   \n",
       "794353  ...  {'latitude': '40.84533975748463', 'longitude':...          NaN   \n",
       "\n",
       "       facility_type due_date taxi_pick_up_location bridge_highway_name  \\\n",
       "0                NaN      NaN                   NaN                 NaN   \n",
       "1                NaN      NaN                   NaN                 NaN   \n",
       "2                NaN      NaN                   NaN                 NaN   \n",
       "3                NaN      NaN                   NaN                 NaN   \n",
       "4                NaN      NaN                   NaN                 NaN   \n",
       "...              ...      ...                   ...                 ...   \n",
       "794349           NaN      NaN                   NaN                 NaN   \n",
       "794350           NaN      NaN                   NaN                 NaN   \n",
       "794351           NaN      NaN                   NaN                 NaN   \n",
       "794352           NaN      NaN                   NaN                 NaN   \n",
       "794353           NaN      NaN                   NaN                 NaN   \n",
       "\n",
       "       bridge_highway_segment bridge_highway_direction road_ramp  \\\n",
       "0                         NaN                      NaN       NaN   \n",
       "1                         NaN                      NaN       NaN   \n",
       "2                         NaN                      NaN       NaN   \n",
       "3                         NaN                      NaN       NaN   \n",
       "4                         NaN                      NaN       NaN   \n",
       "...                       ...                      ...       ...   \n",
       "794349                    NaN                      NaN       NaN   \n",
       "794350                    NaN                      NaN       NaN   \n",
       "794351                    NaN                      NaN       NaN   \n",
       "794352                    NaN                      NaN       NaN   \n",
       "794353                    NaN                      NaN       NaN   \n",
       "\n",
       "       taxi_company_borough  \n",
       "0                       NaN  \n",
       "1                       NaN  \n",
       "2                       NaN  \n",
       "3                       NaN  \n",
       "4                       NaN  \n",
       "...                     ...  \n",
       "794349                  NaN  \n",
       "794350                  NaN  \n",
       "794351                  NaN  \n",
       "794352                  NaN  \n",
       "794353                  NaN  \n",
       "\n",
       "[794354 rows x 41 columns]"
      ]
     },
     "execution_count": 834,
     "metadata": {},
     "output_type": "execute_result"
    }
   ],
   "source": [
    "#Displaying the 311 service request dataframe \n",
    "results_df"
   ]
  },
  {
   "cell_type": "code",
   "execution_count": 835,
   "metadata": {},
   "outputs": [
    {
     "name": "stdout",
     "output_type": "stream",
     "text": [
      "<class 'pandas.core.frame.DataFrame'>\n",
      "RangeIndex: 794354 entries, 0 to 794353\n",
      "Data columns (total 41 columns):\n",
      " #   Column                          Non-Null Count   Dtype \n",
      "---  ------                          --------------   ----- \n",
      " 0   unique_key                      794354 non-null  object\n",
      " 1   created_date                    794354 non-null  object\n",
      " 2   closed_date                     774363 non-null  object\n",
      " 3   agency                          794354 non-null  object\n",
      " 4   agency_name                     794354 non-null  object\n",
      " 5   complaint_type                  794354 non-null  object\n",
      " 6   descriptor                      788994 non-null  object\n",
      " 7   location_type                   695950 non-null  object\n",
      " 8   incident_zip                    785089 non-null  object\n",
      " 9   incident_address                762451 non-null  object\n",
      " 10  street_name                     762428 non-null  object\n",
      " 11  cross_street_1                  502948 non-null  object\n",
      " 12  cross_street_2                  502805 non-null  object\n",
      " 13  intersection_street_1           475215 non-null  object\n",
      " 14  intersection_street_2           475428 non-null  object\n",
      " 15  address_type                    790413 non-null  object\n",
      " 16  city                            761603 non-null  object\n",
      " 17  landmark                        421991 non-null  object\n",
      " 18  status                          794354 non-null  object\n",
      " 19  resolution_description          780111 non-null  object\n",
      " 20  resolution_action_updated_date  786439 non-null  object\n",
      " 21  community_board                 794354 non-null  object\n",
      " 22  bbl                             711424 non-null  object\n",
      " 23  borough                         794354 non-null  object\n",
      " 24  x_coordinate_state_plane        780386 non-null  object\n",
      " 25  y_coordinate_state_plane        780487 non-null  object\n",
      " 26  open_data_channel_type          794354 non-null  object\n",
      " 27  park_facility_name              794354 non-null  object\n",
      " 28  park_borough                    794354 non-null  object\n",
      " 29  latitude                        780374 non-null  object\n",
      " 30  longitude                       780374 non-null  object\n",
      " 31  location                        780374 non-null  object\n",
      " 32  vehicle_type                    37391 non-null   object\n",
      " 33  facility_type                   60920 non-null   object\n",
      " 34  due_date                        4195 non-null    object\n",
      " 35  taxi_pick_up_location           8736 non-null    object\n",
      " 36  bridge_highway_name             5384 non-null    object\n",
      " 37  bridge_highway_segment          5385 non-null    object\n",
      " 38  bridge_highway_direction        3108 non-null    object\n",
      " 39  road_ramp                       2372 non-null    object\n",
      " 40  taxi_company_borough            664 non-null     object\n",
      "dtypes: object(41)\n",
      "memory usage: 248.5+ MB\n"
     ]
    }
   ],
   "source": [
    "#Getting a brief summary of the results_df dataframe \n",
    "results_df.info()"
   ]
  },
  {
   "cell_type": "code",
   "execution_count": 836,
   "metadata": {},
   "outputs": [
    {
     "data": {
      "text/plain": [
       "Index(['unique_key', 'created_date', 'closed_date', 'agency', 'agency_name',\n",
       "       'complaint_type', 'descriptor', 'location_type', 'incident_zip',\n",
       "       'incident_address', 'street_name', 'cross_street_1', 'cross_street_2',\n",
       "       'intersection_street_1', 'intersection_street_2', 'address_type',\n",
       "       'city', 'landmark', 'status', 'resolution_description',\n",
       "       'resolution_action_updated_date', 'community_board', 'bbl', 'borough',\n",
       "       'x_coordinate_state_plane', 'y_coordinate_state_plane',\n",
       "       'open_data_channel_type', 'park_facility_name', 'park_borough',\n",
       "       'latitude', 'longitude', 'location', 'vehicle_type', 'facility_type',\n",
       "       'due_date', 'taxi_pick_up_location', 'bridge_highway_name',\n",
       "       'bridge_highway_segment', 'bridge_highway_direction', 'road_ramp',\n",
       "       'taxi_company_borough'],\n",
       "      dtype='object')"
      ]
     },
     "execution_count": 836,
     "metadata": {},
     "output_type": "execute_result"
    }
   ],
   "source": [
    "# Get the results_df columns\n",
    "results_df.columns"
   ]
  },
  {
   "cell_type": "code",
   "execution_count": 837,
   "metadata": {},
   "outputs": [
    {
     "data": {
      "text/html": [
       "<div>\n",
       "<style scoped>\n",
       "    .dataframe tbody tr th:only-of-type {\n",
       "        vertical-align: middle;\n",
       "    }\n",
       "\n",
       "    .dataframe tbody tr th {\n",
       "        vertical-align: top;\n",
       "    }\n",
       "\n",
       "    .dataframe thead th {\n",
       "        text-align: right;\n",
       "    }\n",
       "</style>\n",
       "<table border=\"1\" class=\"dataframe\">\n",
       "  <thead>\n",
       "    <tr style=\"text-align: right;\">\n",
       "      <th></th>\n",
       "      <th>unique_key</th>\n",
       "      <th>created_date</th>\n",
       "      <th>closed_date</th>\n",
       "      <th>agency</th>\n",
       "      <th>agency_name</th>\n",
       "      <th>complaint_type</th>\n",
       "      <th>descriptor</th>\n",
       "      <th>location_type</th>\n",
       "      <th>incident_zip</th>\n",
       "      <th>incident_address</th>\n",
       "      <th>...</th>\n",
       "      <th>facility_type</th>\n",
       "      <th>due_date</th>\n",
       "      <th>taxi_pick_up_location</th>\n",
       "      <th>bridge_highway_name</th>\n",
       "      <th>bridge_highway_segment</th>\n",
       "      <th>bridge_highway_direction</th>\n",
       "      <th>road_ramp</th>\n",
       "      <th>taxi_company_borough</th>\n",
       "      <th>location_</th>\n",
       "      <th>location_subtype</th>\n",
       "    </tr>\n",
       "  </thead>\n",
       "  <tbody>\n",
       "    <tr>\n",
       "      <th>0</th>\n",
       "      <td>60746805</td>\n",
       "      <td>2024-04-01T00:00:00.000</td>\n",
       "      <td>2024-04-01T00:00:01.000</td>\n",
       "      <td>DOHMH</td>\n",
       "      <td>Department of Health and Mental Hygiene</td>\n",
       "      <td>Food Poisoning</td>\n",
       "      <td>1 or 2</td>\n",
       "      <td>Restaurant/Bar/Deli/Bakery</td>\n",
       "      <td>11211</td>\n",
       "      <td>76 AINSLIE STREET</td>\n",
       "      <td>...</td>\n",
       "      <td>NaN</td>\n",
       "      <td>NaN</td>\n",
       "      <td>NaN</td>\n",
       "      <td>NaN</td>\n",
       "      <td>NaN</td>\n",
       "      <td>NaN</td>\n",
       "      <td>NaN</td>\n",
       "      <td>NaN</td>\n",
       "      <td>Restaurant</td>\n",
       "      <td>Bar/Deli/Bakery</td>\n",
       "    </tr>\n",
       "    <tr>\n",
       "      <th>1</th>\n",
       "      <td>60740007</td>\n",
       "      <td>2024-03-31T23:59:36.000</td>\n",
       "      <td>2024-04-01T05:20:38.000</td>\n",
       "      <td>DOT</td>\n",
       "      <td>Department of Transportation</td>\n",
       "      <td>Street Sign - Damaged</td>\n",
       "      <td>No Parking, Standing, Stopping</td>\n",
       "      <td>Street</td>\n",
       "      <td>11205</td>\n",
       "      <td>920 KENT AVENUE</td>\n",
       "      <td>...</td>\n",
       "      <td>NaN</td>\n",
       "      <td>NaN</td>\n",
       "      <td>NaN</td>\n",
       "      <td>NaN</td>\n",
       "      <td>NaN</td>\n",
       "      <td>NaN</td>\n",
       "      <td>NaN</td>\n",
       "      <td>NaN</td>\n",
       "      <td>Street</td>\n",
       "      <td>None</td>\n",
       "    </tr>\n",
       "    <tr>\n",
       "      <th>2</th>\n",
       "      <td>60734332</td>\n",
       "      <td>2024-03-31T23:59:09.000</td>\n",
       "      <td>2024-04-01T09:12:45.000</td>\n",
       "      <td>HPD</td>\n",
       "      <td>Department of Housing Preservation and Develop...</td>\n",
       "      <td>HEAT/HOT WATER</td>\n",
       "      <td>ENTIRE BUILDING</td>\n",
       "      <td>RESIDENTIAL BUILDING</td>\n",
       "      <td>10454</td>\n",
       "      <td>313 EAST  140 STREET</td>\n",
       "      <td>...</td>\n",
       "      <td>NaN</td>\n",
       "      <td>NaN</td>\n",
       "      <td>NaN</td>\n",
       "      <td>NaN</td>\n",
       "      <td>NaN</td>\n",
       "      <td>NaN</td>\n",
       "      <td>NaN</td>\n",
       "      <td>NaN</td>\n",
       "      <td>RESIDENTIAL BUILDING</td>\n",
       "      <td>None</td>\n",
       "    </tr>\n",
       "    <tr>\n",
       "      <th>3</th>\n",
       "      <td>60738841</td>\n",
       "      <td>2024-03-31T23:58:47.000</td>\n",
       "      <td>2024-04-02T22:34:59.000</td>\n",
       "      <td>HPD</td>\n",
       "      <td>Department of Housing Preservation and Develop...</td>\n",
       "      <td>HEAT/HOT WATER</td>\n",
       "      <td>APARTMENT ONLY</td>\n",
       "      <td>RESIDENTIAL BUILDING</td>\n",
       "      <td>10128</td>\n",
       "      <td>1670 YORK AVENUE</td>\n",
       "      <td>...</td>\n",
       "      <td>NaN</td>\n",
       "      <td>NaN</td>\n",
       "      <td>NaN</td>\n",
       "      <td>NaN</td>\n",
       "      <td>NaN</td>\n",
       "      <td>NaN</td>\n",
       "      <td>NaN</td>\n",
       "      <td>NaN</td>\n",
       "      <td>RESIDENTIAL BUILDING</td>\n",
       "      <td>None</td>\n",
       "    </tr>\n",
       "    <tr>\n",
       "      <th>4</th>\n",
       "      <td>60739109</td>\n",
       "      <td>2024-03-31T23:58:39.000</td>\n",
       "      <td>2024-04-02T15:08:50.000</td>\n",
       "      <td>DOT</td>\n",
       "      <td>Department of Transportation</td>\n",
       "      <td>Street Condition</td>\n",
       "      <td>Defective Hardware</td>\n",
       "      <td>Street</td>\n",
       "      <td>10009</td>\n",
       "      <td>324 EAST    8 STREET</td>\n",
       "      <td>...</td>\n",
       "      <td>NaN</td>\n",
       "      <td>NaN</td>\n",
       "      <td>NaN</td>\n",
       "      <td>NaN</td>\n",
       "      <td>NaN</td>\n",
       "      <td>NaN</td>\n",
       "      <td>NaN</td>\n",
       "      <td>NaN</td>\n",
       "      <td>Street</td>\n",
       "      <td>None</td>\n",
       "    </tr>\n",
       "  </tbody>\n",
       "</table>\n",
       "<p>5 rows × 43 columns</p>\n",
       "</div>"
      ],
      "text/plain": [
       "  unique_key             created_date              closed_date agency  \\\n",
       "0   60746805  2024-04-01T00:00:00.000  2024-04-01T00:00:01.000  DOHMH   \n",
       "1   60740007  2024-03-31T23:59:36.000  2024-04-01T05:20:38.000    DOT   \n",
       "2   60734332  2024-03-31T23:59:09.000  2024-04-01T09:12:45.000    HPD   \n",
       "3   60738841  2024-03-31T23:58:47.000  2024-04-02T22:34:59.000    HPD   \n",
       "4   60739109  2024-03-31T23:58:39.000  2024-04-02T15:08:50.000    DOT   \n",
       "\n",
       "                                         agency_name         complaint_type  \\\n",
       "0            Department of Health and Mental Hygiene         Food Poisoning   \n",
       "1                       Department of Transportation  Street Sign - Damaged   \n",
       "2  Department of Housing Preservation and Develop...         HEAT/HOT WATER   \n",
       "3  Department of Housing Preservation and Develop...         HEAT/HOT WATER   \n",
       "4                       Department of Transportation       Street Condition   \n",
       "\n",
       "                       descriptor               location_type incident_zip  \\\n",
       "0                          1 or 2  Restaurant/Bar/Deli/Bakery        11211   \n",
       "1  No Parking, Standing, Stopping                      Street        11205   \n",
       "2                 ENTIRE BUILDING        RESIDENTIAL BUILDING        10454   \n",
       "3                  APARTMENT ONLY        RESIDENTIAL BUILDING        10128   \n",
       "4              Defective Hardware                      Street        10009   \n",
       "\n",
       "       incident_address  ... facility_type due_date taxi_pick_up_location  \\\n",
       "0     76 AINSLIE STREET  ...           NaN      NaN                   NaN   \n",
       "1       920 KENT AVENUE  ...           NaN      NaN                   NaN   \n",
       "2  313 EAST  140 STREET  ...           NaN      NaN                   NaN   \n",
       "3      1670 YORK AVENUE  ...           NaN      NaN                   NaN   \n",
       "4  324 EAST    8 STREET  ...           NaN      NaN                   NaN   \n",
       "\n",
       "  bridge_highway_name bridge_highway_segment bridge_highway_direction  \\\n",
       "0                 NaN                    NaN                      NaN   \n",
       "1                 NaN                    NaN                      NaN   \n",
       "2                 NaN                    NaN                      NaN   \n",
       "3                 NaN                    NaN                      NaN   \n",
       "4                 NaN                    NaN                      NaN   \n",
       "\n",
       "  road_ramp taxi_company_borough             location_ location_subtype  \n",
       "0       NaN                  NaN            Restaurant  Bar/Deli/Bakery  \n",
       "1       NaN                  NaN                Street             None  \n",
       "2       NaN                  NaN  RESIDENTIAL BUILDING             None  \n",
       "3       NaN                  NaN  RESIDENTIAL BUILDING             None  \n",
       "4       NaN                  NaN                Street             None  \n",
       "\n",
       "[5 rows x 43 columns]"
      ]
     },
     "execution_count": 837,
     "metadata": {},
     "output_type": "execute_result"
    }
   ],
   "source": [
    "#Assigning  location and location_subtype values to the location and location_subtype columns \n",
    "try:\n",
    "    results_df[['location_', 'location_subtype']] = results_df['location_type'].str.split(\"/\", n=1, expand=True)\n",
    "\n",
    "except  ValueError:\n",
    "\n",
    "    results_df['location_subtype'] = None \n",
    "results_df.head()"
   ]
  },
  {
   "cell_type": "code",
   "execution_count": 838,
   "metadata": {},
   "outputs": [
    {
     "data": {
      "text/plain": [
       "Index(['unique_key', 'created_date', 'closed_date', 'agency', 'agency_name',\n",
       "       'complaint_type', 'descriptor', 'location_type', 'incident_zip',\n",
       "       'incident_address', 'street_name', 'cross_street_1', 'cross_street_2',\n",
       "       'intersection_street_1', 'intersection_street_2', 'address_type',\n",
       "       'city', 'landmark', 'status', 'resolution_description',\n",
       "       'resolution_action_updated_date', 'community_board', 'bbl', 'borough',\n",
       "       'x_coordinate_state_plane', 'y_coordinate_state_plane',\n",
       "       'open_data_channel_type', 'park_facility_name', 'park_borough',\n",
       "       'latitude', 'longitude', 'location', 'vehicle_type', 'facility_type',\n",
       "       'due_date', 'taxi_pick_up_location', 'bridge_highway_name',\n",
       "       'bridge_highway_segment', 'bridge_highway_direction', 'road_ramp',\n",
       "       'taxi_company_borough', 'location_', 'location_subtype'],\n",
       "      dtype='object')"
      ]
     },
     "execution_count": 838,
     "metadata": {},
     "output_type": "execute_result"
    }
   ],
   "source": [
    "# Get the results_df columns to check changes \n",
    "results_df.columns"
   ]
  },
  {
   "cell_type": "code",
   "execution_count": 839,
   "metadata": {},
   "outputs": [
    {
     "data": {
      "text/plain": [
       "Index(['unique_key', 'created_date', 'closed_date', 'agency', 'agency_name',\n",
       "       'complaint_type', 'descriptor', 'incident_zip', 'incident_address',\n",
       "       'street_name', 'cross_street_1', 'cross_street_2',\n",
       "       'intersection_street_1', 'intersection_street_2', 'address_type',\n",
       "       'city', 'landmark', 'status', 'resolution_description',\n",
       "       'resolution_action_updated_date', 'community_board', 'bbl', 'borough',\n",
       "       'x_coordinate_state_plane', 'y_coordinate_state_plane',\n",
       "       'open_data_channel_type', 'park_facility_name', 'park_borough',\n",
       "       'latitude', 'longitude', 'location', 'vehicle_type', 'facility_type',\n",
       "       'due_date', 'taxi_pick_up_location', 'bridge_highway_name',\n",
       "       'bridge_highway_segment', 'bridge_highway_direction', 'road_ramp',\n",
       "       'taxi_company_borough', 'location_', 'location_subtype'],\n",
       "      dtype='object')"
      ]
     },
     "execution_count": 839,
     "metadata": {},
     "output_type": "execute_result"
    }
   ],
   "source": [
    "#Doucble check how it looks like and the delete the location_type column\n",
    "results_df[['location_type', 'location_','location_subtype']]\n",
    "results_df_ = results_df.drop(['location_type'], axis=1)\n",
    "results_df_.columns"
   ]
  },
  {
   "cell_type": "markdown",
   "metadata": {},
   "source": [
    "### Complaints and Boroughs Dataframes\n",
    "___"
   ]
  },
  {
   "cell_type": "code",
   "execution_count": 840,
   "metadata": {},
   "outputs": [
    {
     "name": "stdout",
     "output_type": "stream",
     "text": [
      "183\n"
     ]
    }
   ],
   "source": [
    "complaint_type = results_df['complaint_type'].unique()\n",
    "complaint_type\n",
    "\n",
    "print(len(complaint_type))"
   ]
  },
  {
   "cell_type": "code",
   "execution_count": 841,
   "metadata": {},
   "outputs": [
    {
     "name": "stdout",
     "output_type": "stream",
     "text": [
      "6\n"
     ]
    }
   ],
   "source": [
    "boroughs = results_df['borough'].unique()\n",
    "boroughs\n",
    "\n",
    "print(len(boroughs))"
   ]
  },
  {
   "cell_type": "code",
   "execution_count": 842,
   "metadata": {},
   "outputs": [
    {
     "name": "stdout",
     "output_type": "stream",
     "text": [
      "[  1   2   3   4   5   6   7   8   9  10  11  12  13  14  15  16  17  18\n",
      "  19  20  21  22  23  24  25  26  27  28  29  30  31  32  33  34  35  36\n",
      "  37  38  39  40  41  42  43  44  45  46  47  48  49  50  51  52  53  54\n",
      "  55  56  57  58  59  60  61  62  63  64  65  66  67  68  69  70  71  72\n",
      "  73  74  75  76  77  78  79  80  81  82  83  84  85  86  87  88  89  90\n",
      "  91  92  93  94  95  96  97  98  99 100 101 102 103 104 105 106 107 108\n",
      " 109 110 111 112 113 114 115 116 117 118 119 120 121 122 123 124 125 126\n",
      " 127 128 129 130 131 132 133 134 135 136 137 138 139 140 141 142 143 144\n",
      " 145 146 147 148 149 150 151 152 153 154 155 156 157 158 159 160 161 162\n",
      " 163 164 165 166 167 168 169 170 171 172 173 174 175 176 177 178 179 180\n",
      " 181 182 183]\n"
     ]
    }
   ],
   "source": [
    "# Create numpy arrays for the complaints_type\n",
    "complaints_ids_numbers = np.arange(1, 184)\n",
    "print(complaints_ids_numbers)"
   ]
  },
  {
   "cell_type": "code",
   "execution_count": 843,
   "metadata": {},
   "outputs": [
    {
     "name": "stdout",
     "output_type": "stream",
     "text": [
      "[1 2 3 4 5 6]\n"
     ]
    }
   ],
   "source": [
    "boroughs_ids_numbers = np.arange(1,7)\n",
    "print(boroughs_ids_numbers)"
   ]
  },
  {
   "cell_type": "code",
   "execution_count": 844,
   "metadata": {},
   "outputs": [],
   "source": [
    "#Use a list comprehension to add \"cmpT\" to each complaints_ids_number as complaint_id and complaint_type as complaint_type\n",
    "complaints_ids = [\"cmpT\" + str(complaint_id) for complaint_id in complaints_ids_numbers]\n",
    "\n",
    "#Use a list comprehension to add \"brgh\" to each boroughs_ids_number as complaint_id and complaint_type as complaint_type\n",
    "boroughs_ids = ['brgh' + str(borough_id) for borough_id in boroughs_ids_numbers]"
   ]
  },
  {
   "cell_type": "code",
   "execution_count": 879,
   "metadata": {},
   "outputs": [
    {
     "data": {
      "text/html": [
       "<div>\n",
       "<style scoped>\n",
       "    .dataframe tbody tr th:only-of-type {\n",
       "        vertical-align: middle;\n",
       "    }\n",
       "\n",
       "    .dataframe tbody tr th {\n",
       "        vertical-align: top;\n",
       "    }\n",
       "\n",
       "    .dataframe thead th {\n",
       "        text-align: right;\n",
       "    }\n",
       "</style>\n",
       "<table border=\"1\" class=\"dataframe\">\n",
       "  <thead>\n",
       "    <tr style=\"text-align: right;\">\n",
       "      <th></th>\n",
       "      <th>complaint_id</th>\n",
       "      <th>complaint_type</th>\n",
       "    </tr>\n",
       "  </thead>\n",
       "  <tbody>\n",
       "    <tr>\n",
       "      <th>178</th>\n",
       "      <td>cmpT179</td>\n",
       "      <td>DEP Highway Condition</td>\n",
       "    </tr>\n",
       "    <tr>\n",
       "      <th>179</th>\n",
       "      <td>cmpT180</td>\n",
       "      <td>Seasonal Collection</td>\n",
       "    </tr>\n",
       "    <tr>\n",
       "      <th>180</th>\n",
       "      <td>cmpT181</td>\n",
       "      <td>DSNY Internal</td>\n",
       "    </tr>\n",
       "    <tr>\n",
       "      <th>181</th>\n",
       "      <td>cmpT182</td>\n",
       "      <td>SNW</td>\n",
       "    </tr>\n",
       "    <tr>\n",
       "      <th>182</th>\n",
       "      <td>cmpT183</td>\n",
       "      <td>Radioactive Material</td>\n",
       "    </tr>\n",
       "  </tbody>\n",
       "</table>\n",
       "</div>"
      ],
      "text/plain": [
       "    complaint_id         complaint_type\n",
       "178      cmpT179  DEP Highway Condition\n",
       "179      cmpT180    Seasonal Collection\n",
       "180      cmpT181          DSNY Internal\n",
       "181      cmpT182                    SNW\n",
       "182      cmpT183   Radioactive Material"
      ]
     },
     "execution_count": 879,
     "metadata": {},
     "output_type": "execute_result"
    }
   ],
   "source": [
    "# Create a borough DataFrame for the borough_ids \n",
    "\n",
    "boroughs_df = pd.DataFrame({\n",
    "    \"borough_id\": boroughs_ids,\n",
    "    \"borough\" : boroughs\n",
    "})\n",
    "\n",
    "# Create a category DataFrame for the complaints_ids \n",
    "\n",
    "complaints_df = pd.DataFrame({\n",
    "    \"complaint_id\": complaints_ids,\n",
    "    \"complaint_type\" : complaint_type\n",
    "})\n",
    "boroughs_df.head()\n",
    "complaints_df.tail()"
   ]
  },
  {
   "cell_type": "code",
   "execution_count": 846,
   "metadata": {},
   "outputs": [],
   "source": [
    "# Export complaints_df as CSV files.\n",
    "complaints_df.to_csv(\"Resources/complaints.csv\", index=False)"
   ]
  },
  {
   "cell_type": "code",
   "execution_count": 847,
   "metadata": {},
   "outputs": [],
   "source": [
    "# Export boroughs_df as CSV files.\n",
    "boroughs_df.to_csv(\"Resources/boroughs.csv\", index=False)"
   ]
  },
  {
   "cell_type": "markdown",
   "metadata": {},
   "source": [
    "### Updating 311 service dataframe datatype\n",
    "---"
   ]
  },
  {
   "cell_type": "code",
   "execution_count": 848,
   "metadata": {},
   "outputs": [
    {
     "data": {
      "text/html": [
       "<div>\n",
       "<style scoped>\n",
       "    .dataframe tbody tr th:only-of-type {\n",
       "        vertical-align: middle;\n",
       "    }\n",
       "\n",
       "    .dataframe tbody tr th {\n",
       "        vertical-align: top;\n",
       "    }\n",
       "\n",
       "    .dataframe thead th {\n",
       "        text-align: right;\n",
       "    }\n",
       "</style>\n",
       "<table border=\"1\" class=\"dataframe\">\n",
       "  <thead>\n",
       "    <tr style=\"text-align: right;\">\n",
       "      <th></th>\n",
       "      <th>unique_key</th>\n",
       "      <th>created_date</th>\n",
       "      <th>closed_date</th>\n",
       "      <th>agency</th>\n",
       "      <th>agency_name</th>\n",
       "      <th>complaint_type</th>\n",
       "      <th>descriptor</th>\n",
       "      <th>incident_zip</th>\n",
       "      <th>incident_address</th>\n",
       "      <th>street_name</th>\n",
       "      <th>...</th>\n",
       "      <th>facility_type</th>\n",
       "      <th>due_date</th>\n",
       "      <th>taxi_pick_up_location</th>\n",
       "      <th>bridge_highway_name</th>\n",
       "      <th>bridge_highway_segment</th>\n",
       "      <th>bridge_highway_direction</th>\n",
       "      <th>road_ramp</th>\n",
       "      <th>taxi_company_borough</th>\n",
       "      <th>location_</th>\n",
       "      <th>location_subtype</th>\n",
       "    </tr>\n",
       "  </thead>\n",
       "  <tbody>\n",
       "    <tr>\n",
       "      <th>0</th>\n",
       "      <td>60746805</td>\n",
       "      <td>2024-04-01T00:00:00.000</td>\n",
       "      <td>2024-04-01T00:00:01.000</td>\n",
       "      <td>DOHMH</td>\n",
       "      <td>Department of Health and Mental Hygiene</td>\n",
       "      <td>Food Poisoning</td>\n",
       "      <td>1 or 2</td>\n",
       "      <td>11211</td>\n",
       "      <td>76 AINSLIE STREET</td>\n",
       "      <td>AINSLIE STREET</td>\n",
       "      <td>...</td>\n",
       "      <td>NaN</td>\n",
       "      <td>NaN</td>\n",
       "      <td>NaN</td>\n",
       "      <td>NaN</td>\n",
       "      <td>NaN</td>\n",
       "      <td>NaN</td>\n",
       "      <td>NaN</td>\n",
       "      <td>NaN</td>\n",
       "      <td>Restaurant</td>\n",
       "      <td>Bar/Deli/Bakery</td>\n",
       "    </tr>\n",
       "    <tr>\n",
       "      <th>1</th>\n",
       "      <td>60740007</td>\n",
       "      <td>2024-03-31T23:59:36.000</td>\n",
       "      <td>2024-04-01T05:20:38.000</td>\n",
       "      <td>DOT</td>\n",
       "      <td>Department of Transportation</td>\n",
       "      <td>Street Sign - Damaged</td>\n",
       "      <td>No Parking, Standing, Stopping</td>\n",
       "      <td>11205</td>\n",
       "      <td>920 KENT AVENUE</td>\n",
       "      <td>KENT AVENUE</td>\n",
       "      <td>...</td>\n",
       "      <td>NaN</td>\n",
       "      <td>NaN</td>\n",
       "      <td>NaN</td>\n",
       "      <td>NaN</td>\n",
       "      <td>NaN</td>\n",
       "      <td>NaN</td>\n",
       "      <td>NaN</td>\n",
       "      <td>NaN</td>\n",
       "      <td>Street</td>\n",
       "      <td>None</td>\n",
       "    </tr>\n",
       "    <tr>\n",
       "      <th>2</th>\n",
       "      <td>60734332</td>\n",
       "      <td>2024-03-31T23:59:09.000</td>\n",
       "      <td>2024-04-01T09:12:45.000</td>\n",
       "      <td>HPD</td>\n",
       "      <td>Department of Housing Preservation and Develop...</td>\n",
       "      <td>HEAT/HOT WATER</td>\n",
       "      <td>ENTIRE BUILDING</td>\n",
       "      <td>10454</td>\n",
       "      <td>313 EAST  140 STREET</td>\n",
       "      <td>EAST  140 STREET</td>\n",
       "      <td>...</td>\n",
       "      <td>NaN</td>\n",
       "      <td>NaN</td>\n",
       "      <td>NaN</td>\n",
       "      <td>NaN</td>\n",
       "      <td>NaN</td>\n",
       "      <td>NaN</td>\n",
       "      <td>NaN</td>\n",
       "      <td>NaN</td>\n",
       "      <td>RESIDENTIAL BUILDING</td>\n",
       "      <td>None</td>\n",
       "    </tr>\n",
       "    <tr>\n",
       "      <th>3</th>\n",
       "      <td>60738841</td>\n",
       "      <td>2024-03-31T23:58:47.000</td>\n",
       "      <td>2024-04-02T22:34:59.000</td>\n",
       "      <td>HPD</td>\n",
       "      <td>Department of Housing Preservation and Develop...</td>\n",
       "      <td>HEAT/HOT WATER</td>\n",
       "      <td>APARTMENT ONLY</td>\n",
       "      <td>10128</td>\n",
       "      <td>1670 YORK AVENUE</td>\n",
       "      <td>YORK AVENUE</td>\n",
       "      <td>...</td>\n",
       "      <td>NaN</td>\n",
       "      <td>NaN</td>\n",
       "      <td>NaN</td>\n",
       "      <td>NaN</td>\n",
       "      <td>NaN</td>\n",
       "      <td>NaN</td>\n",
       "      <td>NaN</td>\n",
       "      <td>NaN</td>\n",
       "      <td>RESIDENTIAL BUILDING</td>\n",
       "      <td>None</td>\n",
       "    </tr>\n",
       "    <tr>\n",
       "      <th>4</th>\n",
       "      <td>60739109</td>\n",
       "      <td>2024-03-31T23:58:39.000</td>\n",
       "      <td>2024-04-02T15:08:50.000</td>\n",
       "      <td>DOT</td>\n",
       "      <td>Department of Transportation</td>\n",
       "      <td>Street Condition</td>\n",
       "      <td>Defective Hardware</td>\n",
       "      <td>10009</td>\n",
       "      <td>324 EAST    8 STREET</td>\n",
       "      <td>EAST    8 STREET</td>\n",
       "      <td>...</td>\n",
       "      <td>NaN</td>\n",
       "      <td>NaN</td>\n",
       "      <td>NaN</td>\n",
       "      <td>NaN</td>\n",
       "      <td>NaN</td>\n",
       "      <td>NaN</td>\n",
       "      <td>NaN</td>\n",
       "      <td>NaN</td>\n",
       "      <td>Street</td>\n",
       "      <td>None</td>\n",
       "    </tr>\n",
       "  </tbody>\n",
       "</table>\n",
       "<p>5 rows × 42 columns</p>\n",
       "</div>"
      ],
      "text/plain": [
       "  unique_key             created_date              closed_date agency  \\\n",
       "0   60746805  2024-04-01T00:00:00.000  2024-04-01T00:00:01.000  DOHMH   \n",
       "1   60740007  2024-03-31T23:59:36.000  2024-04-01T05:20:38.000    DOT   \n",
       "2   60734332  2024-03-31T23:59:09.000  2024-04-01T09:12:45.000    HPD   \n",
       "3   60738841  2024-03-31T23:58:47.000  2024-04-02T22:34:59.000    HPD   \n",
       "4   60739109  2024-03-31T23:58:39.000  2024-04-02T15:08:50.000    DOT   \n",
       "\n",
       "                                         agency_name         complaint_type  \\\n",
       "0            Department of Health and Mental Hygiene         Food Poisoning   \n",
       "1                       Department of Transportation  Street Sign - Damaged   \n",
       "2  Department of Housing Preservation and Develop...         HEAT/HOT WATER   \n",
       "3  Department of Housing Preservation and Develop...         HEAT/HOT WATER   \n",
       "4                       Department of Transportation       Street Condition   \n",
       "\n",
       "                       descriptor incident_zip      incident_address  \\\n",
       "0                          1 or 2        11211     76 AINSLIE STREET   \n",
       "1  No Parking, Standing, Stopping        11205       920 KENT AVENUE   \n",
       "2                 ENTIRE BUILDING        10454  313 EAST  140 STREET   \n",
       "3                  APARTMENT ONLY        10128      1670 YORK AVENUE   \n",
       "4              Defective Hardware        10009  324 EAST    8 STREET   \n",
       "\n",
       "        street_name  ... facility_type due_date taxi_pick_up_location  \\\n",
       "0    AINSLIE STREET  ...           NaN      NaN                   NaN   \n",
       "1       KENT AVENUE  ...           NaN      NaN                   NaN   \n",
       "2  EAST  140 STREET  ...           NaN      NaN                   NaN   \n",
       "3       YORK AVENUE  ...           NaN      NaN                   NaN   \n",
       "4  EAST    8 STREET  ...           NaN      NaN                   NaN   \n",
       "\n",
       "  bridge_highway_name bridge_highway_segment bridge_highway_direction  \\\n",
       "0                 NaN                    NaN                      NaN   \n",
       "1                 NaN                    NaN                      NaN   \n",
       "2                 NaN                    NaN                      NaN   \n",
       "3                 NaN                    NaN                      NaN   \n",
       "4                 NaN                    NaN                      NaN   \n",
       "\n",
       "  road_ramp taxi_company_borough             location_ location_subtype  \n",
       "0       NaN                  NaN            Restaurant  Bar/Deli/Bakery  \n",
       "1       NaN                  NaN                Street             None  \n",
       "2       NaN                  NaN  RESIDENTIAL BUILDING             None  \n",
       "3       NaN                  NaN  RESIDENTIAL BUILDING             None  \n",
       "4       NaN                  NaN                Street             None  \n",
       "\n",
       "[5 rows x 42 columns]"
      ]
     },
     "execution_count": 848,
     "metadata": {},
     "output_type": "execute_result"
    }
   ],
   "source": [
    "# Create a copy of the results_df_ dataframe \n",
    "copy_311service_request = results_df_.copy()\n",
    "copy_311service_request.head()"
   ]
  },
  {
   "cell_type": "code",
   "execution_count": 849,
   "metadata": {},
   "outputs": [],
   "source": [
    "#Renaming the descriptor column\n",
    "copy_311service_request = copy_311service_request.rename(columns={'descriptor': 'complaint_descriptor','location_': 'location_type'})"
   ]
  },
  {
   "cell_type": "code",
   "execution_count": 850,
   "metadata": {},
   "outputs": [],
   "source": [
    "#reordering dataframe with location and location_subtype after descriptor \n",
    "# and we're also ignoring the 'agency_name' column since the metadata says that column is currenlty showing incorrect values.\n",
    "nyc311_service_line = copy_311service_request[['unique_key', 'created_date', 'closed_date', 'agency',\n",
    "       'complaint_type', 'complaint_descriptor','location_type','location_subtype', 'incident_zip', 'incident_address',\n",
    "       'street_name', 'cross_street_1', 'cross_street_2',\n",
    "       'intersection_street_1', 'intersection_street_2', 'address_type',\n",
    "       'city', 'landmark', 'status', 'resolution_description',\n",
    "       'resolution_action_updated_date', 'community_board', 'bbl', 'borough',\n",
    "       'x_coordinate_state_plane', 'y_coordinate_state_plane',\n",
    "       'open_data_channel_type', 'park_facility_name', 'park_borough',\n",
    "       'latitude', 'longitude', 'vehicle_type', 'facility_type',\n",
    "       'due_date', 'taxi_pick_up_location', 'bridge_highway_name',\n",
    "       'bridge_highway_segment', 'bridge_highway_direction', 'road_ramp',\n",
    "       'taxi_company_borough']]"
   ]
  },
  {
   "cell_type": "code",
   "execution_count": 851,
   "metadata": {},
   "outputs": [
    {
     "name": "stderr",
     "output_type": "stream",
     "text": [
      "/var/folders/fv/ltttqpzd0bn28sqs0_gjbh300000gn/T/ipykernel_24512/2379949684.py:5: SettingWithCopyWarning:\n",
      "\n",
      "\n",
      "A value is trying to be set on a copy of a slice from a DataFrame.\n",
      "Try using .loc[row_indexer,col_indexer] = value instead\n",
      "\n",
      "See the caveats in the documentation: https://pandas.pydata.org/pandas-docs/stable/user_guide/indexing.html#returning-a-view-versus-a-copy\n",
      "\n",
      "/var/folders/fv/ltttqpzd0bn28sqs0_gjbh300000gn/T/ipykernel_24512/2379949684.py:5: SettingWithCopyWarning:\n",
      "\n",
      "\n",
      "A value is trying to be set on a copy of a slice from a DataFrame.\n",
      "Try using .loc[row_indexer,col_indexer] = value instead\n",
      "\n",
      "See the caveats in the documentation: https://pandas.pydata.org/pandas-docs/stable/user_guide/indexing.html#returning-a-view-versus-a-copy\n",
      "\n",
      "/var/folders/fv/ltttqpzd0bn28sqs0_gjbh300000gn/T/ipykernel_24512/2379949684.py:5: SettingWithCopyWarning:\n",
      "\n",
      "\n",
      "A value is trying to be set on a copy of a slice from a DataFrame.\n",
      "Try using .loc[row_indexer,col_indexer] = value instead\n",
      "\n",
      "See the caveats in the documentation: https://pandas.pydata.org/pandas-docs/stable/user_guide/indexing.html#returning-a-view-versus-a-copy\n",
      "\n",
      "/var/folders/fv/ltttqpzd0bn28sqs0_gjbh300000gn/T/ipykernel_24512/2379949684.py:5: SettingWithCopyWarning:\n",
      "\n",
      "\n",
      "A value is trying to be set on a copy of a slice from a DataFrame.\n",
      "Try using .loc[row_indexer,col_indexer] = value instead\n",
      "\n",
      "See the caveats in the documentation: https://pandas.pydata.org/pandas-docs/stable/user_guide/indexing.html#returning-a-view-versus-a-copy\n",
      "\n"
     ]
    }
   ],
   "source": [
    "# # Convert the created_date, closed_date, due_date, and resolution_action_updated_date  columns to datetime format\n",
    "\n",
    "date_columns = ['created_date', 'closed_date', 'due_date', 'resolution_action_updated_date']\n",
    "for col in date_columns:\n",
    "    nyc311_service_line[col] = pd.to_datetime(nyc311_service_line[col])\n"
   ]
  },
  {
   "cell_type": "code",
   "execution_count": 852,
   "metadata": {},
   "outputs": [
    {
     "name": "stderr",
     "output_type": "stream",
     "text": [
      "/var/folders/fv/ltttqpzd0bn28sqs0_gjbh300000gn/T/ipykernel_24512/2074501442.py:4: SettingWithCopyWarning:\n",
      "\n",
      "\n",
      "A value is trying to be set on a copy of a slice from a DataFrame.\n",
      "Try using .loc[row_indexer,col_indexer] = value instead\n",
      "\n",
      "See the caveats in the documentation: https://pandas.pydata.org/pandas-docs/stable/user_guide/indexing.html#returning-a-view-versus-a-copy\n",
      "\n",
      "/var/folders/fv/ltttqpzd0bn28sqs0_gjbh300000gn/T/ipykernel_24512/2074501442.py:4: SettingWithCopyWarning:\n",
      "\n",
      "\n",
      "A value is trying to be set on a copy of a slice from a DataFrame.\n",
      "Try using .loc[row_indexer,col_indexer] = value instead\n",
      "\n",
      "See the caveats in the documentation: https://pandas.pydata.org/pandas-docs/stable/user_guide/indexing.html#returning-a-view-versus-a-copy\n",
      "\n",
      "/var/folders/fv/ltttqpzd0bn28sqs0_gjbh300000gn/T/ipykernel_24512/2074501442.py:9: SettingWithCopyWarning:\n",
      "\n",
      "\n",
      "A value is trying to be set on a copy of a slice from a DataFrame.\n",
      "Try using .loc[row_indexer,col_indexer] = value instead\n",
      "\n",
      "See the caveats in the documentation: https://pandas.pydata.org/pandas-docs/stable/user_guide/indexing.html#returning-a-view-versus-a-copy\n",
      "\n",
      "/var/folders/fv/ltttqpzd0bn28sqs0_gjbh300000gn/T/ipykernel_24512/2074501442.py:9: SettingWithCopyWarning:\n",
      "\n",
      "\n",
      "A value is trying to be set on a copy of a slice from a DataFrame.\n",
      "Try using .loc[row_indexer,col_indexer] = value instead\n",
      "\n",
      "See the caveats in the documentation: https://pandas.pydata.org/pandas-docs/stable/user_guide/indexing.html#returning-a-view-versus-a-copy\n",
      "\n",
      "/var/folders/fv/ltttqpzd0bn28sqs0_gjbh300000gn/T/ipykernel_24512/2074501442.py:14: SettingWithCopyWarning:\n",
      "\n",
      "\n",
      "A value is trying to be set on a copy of a slice from a DataFrame.\n",
      "Try using .loc[row_indexer,col_indexer] = value instead\n",
      "\n",
      "See the caveats in the documentation: https://pandas.pydata.org/pandas-docs/stable/user_guide/indexing.html#returning-a-view-versus-a-copy\n",
      "\n"
     ]
    }
   ],
   "source": [
    "# Convert latitude and longitude columns to float format\n",
    "float_columns = ['latitude', 'longitude']\n",
    "for float_column in float_columns:\n",
    "    nyc311_service_line[float_column] = nyc311_service_line[float_column].astype(float)\n",
    "\n",
    "# # Convert y_coordinate_state_plane and x_coordinate_state_plane columns to integer format\n",
    "int_columns = ['y_coordinate_state_plane', 'x_coordinate_state_plane']\n",
    "for int_column in int_columns:\n",
    "    nyc311_service_line[int_column] = nyc311_service_line[int_column].notnull().astype(int)\n",
    "\n",
    "#convert incident_zip and unique_key to integer columns \n",
    "integers_columns = [ 'incident_zip'] # here we have the columns without Nan values \n",
    "for integer_columns in integers_columns:\n",
    "    nyc311_service_line[integer_columns] = nyc311_service_line[integer_columns].notnull().astype(int)"
   ]
  },
  {
   "cell_type": "code",
   "execution_count": 853,
   "metadata": {},
   "outputs": [
    {
     "data": {
      "text/plain": [
       "unique_key                                object\n",
       "created_date                      datetime64[ns]\n",
       "closed_date                       datetime64[ns]\n",
       "agency                                    object\n",
       "complaint_type                            object\n",
       "complaint_descriptor                      object\n",
       "location_type                             object\n",
       "location_subtype                          object\n",
       "incident_zip                               int64\n",
       "incident_address                          object\n",
       "street_name                               object\n",
       "cross_street_1                            object\n",
       "cross_street_2                            object\n",
       "intersection_street_1                     object\n",
       "intersection_street_2                     object\n",
       "address_type                              object\n",
       "city                                      object\n",
       "landmark                                  object\n",
       "status                                    object\n",
       "resolution_description                    object\n",
       "resolution_action_updated_date    datetime64[ns]\n",
       "community_board                           object\n",
       "bbl                                       object\n",
       "borough                                   object\n",
       "x_coordinate_state_plane                   int64\n",
       "y_coordinate_state_plane                   int64\n",
       "open_data_channel_type                    object\n",
       "park_facility_name                        object\n",
       "park_borough                              object\n",
       "latitude                                 float64\n",
       "longitude                                float64\n",
       "vehicle_type                              object\n",
       "facility_type                             object\n",
       "due_date                          datetime64[ns]\n",
       "taxi_pick_up_location                     object\n",
       "bridge_highway_name                       object\n",
       "bridge_highway_segment                    object\n",
       "bridge_highway_direction                  object\n",
       "road_ramp                                 object\n",
       "taxi_company_borough                      object\n",
       "dtype: object"
      ]
     },
     "execution_count": 853,
     "metadata": {},
     "output_type": "execute_result"
    }
   ],
   "source": [
    "# Checking the datatypes\n",
    "nyc311_service_line.dtypes"
   ]
  },
  {
   "cell_type": "code",
   "execution_count": 855,
   "metadata": {},
   "outputs": [
    {
     "data": {
      "text/html": [
       "<div>\n",
       "<style scoped>\n",
       "    .dataframe tbody tr th:only-of-type {\n",
       "        vertical-align: middle;\n",
       "    }\n",
       "\n",
       "    .dataframe tbody tr th {\n",
       "        vertical-align: top;\n",
       "    }\n",
       "\n",
       "    .dataframe thead th {\n",
       "        text-align: right;\n",
       "    }\n",
       "</style>\n",
       "<table border=\"1\" class=\"dataframe\">\n",
       "  <thead>\n",
       "    <tr style=\"text-align: right;\">\n",
       "      <th></th>\n",
       "      <th>unique_key</th>\n",
       "      <th>created_date</th>\n",
       "      <th>closed_date</th>\n",
       "      <th>agency</th>\n",
       "      <th>complaint_type</th>\n",
       "      <th>complaint_descriptor</th>\n",
       "      <th>location_type</th>\n",
       "      <th>location_subtype</th>\n",
       "      <th>incident_zip</th>\n",
       "      <th>incident_address</th>\n",
       "      <th>...</th>\n",
       "      <th>facility_type</th>\n",
       "      <th>due_date</th>\n",
       "      <th>taxi_pick_up_location</th>\n",
       "      <th>bridge_highway_name</th>\n",
       "      <th>bridge_highway_segment</th>\n",
       "      <th>bridge_highway_direction</th>\n",
       "      <th>road_ramp</th>\n",
       "      <th>taxi_company_borough</th>\n",
       "      <th>complaint_id</th>\n",
       "      <th>borough_id</th>\n",
       "    </tr>\n",
       "  </thead>\n",
       "  <tbody>\n",
       "    <tr>\n",
       "      <th>794344</th>\n",
       "      <td>59889054</td>\n",
       "      <td>2024-01-01 00:00:51</td>\n",
       "      <td>2024-01-01 00:29:32</td>\n",
       "      <td>NYPD</td>\n",
       "      <td>Noise - Street/Sidewalk</td>\n",
       "      <td>Loud Music/Party</td>\n",
       "      <td>Street</td>\n",
       "      <td>Sidewalk</td>\n",
       "      <td>1</td>\n",
       "      <td>85-04 95 AVENUE</td>\n",
       "      <td>...</td>\n",
       "      <td>NaN</td>\n",
       "      <td>NaT</td>\n",
       "      <td>NaN</td>\n",
       "      <td>NaN</td>\n",
       "      <td>NaN</td>\n",
       "      <td>NaN</td>\n",
       "      <td>NaN</td>\n",
       "      <td>NaN</td>\n",
       "      <td>cmpT8</td>\n",
       "      <td>brgh4</td>\n",
       "    </tr>\n",
       "    <tr>\n",
       "      <th>794345</th>\n",
       "      <td>59892651</td>\n",
       "      <td>2024-01-01 00:00:48</td>\n",
       "      <td>2024-01-01 00:48:34</td>\n",
       "      <td>NYPD</td>\n",
       "      <td>Noise - Street/Sidewalk</td>\n",
       "      <td>Loud Music/Party</td>\n",
       "      <td>Street</td>\n",
       "      <td>Sidewalk</td>\n",
       "      <td>1</td>\n",
       "      <td>41-52 72 STREET</td>\n",
       "      <td>...</td>\n",
       "      <td>NaN</td>\n",
       "      <td>NaT</td>\n",
       "      <td>NaN</td>\n",
       "      <td>NaN</td>\n",
       "      <td>NaN</td>\n",
       "      <td>NaN</td>\n",
       "      <td>NaN</td>\n",
       "      <td>NaN</td>\n",
       "      <td>cmpT8</td>\n",
       "      <td>brgh4</td>\n",
       "    </tr>\n",
       "    <tr>\n",
       "      <th>794346</th>\n",
       "      <td>59891528</td>\n",
       "      <td>2024-01-01 00:00:46</td>\n",
       "      <td>2024-01-01 01:07:17</td>\n",
       "      <td>NYPD</td>\n",
       "      <td>Illegal Fireworks</td>\n",
       "      <td>N/A</td>\n",
       "      <td>Residential Building</td>\n",
       "      <td>House</td>\n",
       "      <td>1</td>\n",
       "      <td>106-23 75 STREET</td>\n",
       "      <td>...</td>\n",
       "      <td>NaN</td>\n",
       "      <td>NaT</td>\n",
       "      <td>NaN</td>\n",
       "      <td>NaN</td>\n",
       "      <td>NaN</td>\n",
       "      <td>NaN</td>\n",
       "      <td>NaN</td>\n",
       "      <td>NaN</td>\n",
       "      <td>cmpT82</td>\n",
       "      <td>brgh4</td>\n",
       "    </tr>\n",
       "    <tr>\n",
       "      <th>794347</th>\n",
       "      <td>59888940</td>\n",
       "      <td>2024-01-01 00:00:43</td>\n",
       "      <td>2024-01-01 00:56:45</td>\n",
       "      <td>NYPD</td>\n",
       "      <td>Noise - Residential</td>\n",
       "      <td>Banging/Pounding</td>\n",
       "      <td>Residential Building</td>\n",
       "      <td>House</td>\n",
       "      <td>1</td>\n",
       "      <td>640 STANLEY AVENUE</td>\n",
       "      <td>...</td>\n",
       "      <td>NaN</td>\n",
       "      <td>NaT</td>\n",
       "      <td>NaN</td>\n",
       "      <td>NaN</td>\n",
       "      <td>NaN</td>\n",
       "      <td>NaN</td>\n",
       "      <td>NaN</td>\n",
       "      <td>NaN</td>\n",
       "      <td>cmpT5</td>\n",
       "      <td>brgh1</td>\n",
       "    </tr>\n",
       "    <tr>\n",
       "      <th>794348</th>\n",
       "      <td>59889016</td>\n",
       "      <td>2024-01-01 00:00:20</td>\n",
       "      <td>2024-01-01 00:59:31</td>\n",
       "      <td>NYPD</td>\n",
       "      <td>Noise - Residential</td>\n",
       "      <td>Loud Music/Party</td>\n",
       "      <td>Residential Building</td>\n",
       "      <td>House</td>\n",
       "      <td>1</td>\n",
       "      <td>233 LANDING ROAD</td>\n",
       "      <td>...</td>\n",
       "      <td>NaN</td>\n",
       "      <td>NaT</td>\n",
       "      <td>NaN</td>\n",
       "      <td>NaN</td>\n",
       "      <td>NaN</td>\n",
       "      <td>NaN</td>\n",
       "      <td>NaN</td>\n",
       "      <td>NaN</td>\n",
       "      <td>cmpT5</td>\n",
       "      <td>brgh2</td>\n",
       "    </tr>\n",
       "    <tr>\n",
       "      <th>794349</th>\n",
       "      <td>59887043</td>\n",
       "      <td>2024-01-01 00:00:20</td>\n",
       "      <td>2024-01-01 00:41:01</td>\n",
       "      <td>NYPD</td>\n",
       "      <td>Illegal Fireworks</td>\n",
       "      <td>N/A</td>\n",
       "      <td>Street</td>\n",
       "      <td>Sidewalk</td>\n",
       "      <td>1</td>\n",
       "      <td>7223 FORT HAMILTON PARKWAY</td>\n",
       "      <td>...</td>\n",
       "      <td>NaN</td>\n",
       "      <td>NaT</td>\n",
       "      <td>NaN</td>\n",
       "      <td>NaN</td>\n",
       "      <td>NaN</td>\n",
       "      <td>NaN</td>\n",
       "      <td>NaN</td>\n",
       "      <td>NaN</td>\n",
       "      <td>cmpT82</td>\n",
       "      <td>brgh1</td>\n",
       "    </tr>\n",
       "    <tr>\n",
       "      <th>794350</th>\n",
       "      <td>59896272</td>\n",
       "      <td>2024-01-01 00:00:00</td>\n",
       "      <td>2024-01-02 00:00:01</td>\n",
       "      <td>DOHMH</td>\n",
       "      <td>Food Poisoning</td>\n",
       "      <td>1 or 2</td>\n",
       "      <td>Restaurant</td>\n",
       "      <td>Bar/Deli/Bakery</td>\n",
       "      <td>1</td>\n",
       "      <td>145 GRAND STREET EXTENSION</td>\n",
       "      <td>...</td>\n",
       "      <td>NaN</td>\n",
       "      <td>NaT</td>\n",
       "      <td>NaN</td>\n",
       "      <td>NaN</td>\n",
       "      <td>NaN</td>\n",
       "      <td>NaN</td>\n",
       "      <td>NaN</td>\n",
       "      <td>NaN</td>\n",
       "      <td>cmpT1</td>\n",
       "      <td>brgh1</td>\n",
       "    </tr>\n",
       "    <tr>\n",
       "      <th>794351</th>\n",
       "      <td>59899838</td>\n",
       "      <td>2024-01-01 00:00:00</td>\n",
       "      <td>2024-01-02 09:42:25</td>\n",
       "      <td>DOHMH</td>\n",
       "      <td>Food Poisoning</td>\n",
       "      <td>1 or 2</td>\n",
       "      <td>Restaurant</td>\n",
       "      <td>Bar/Deli/Bakery</td>\n",
       "      <td>1</td>\n",
       "      <td>1069 1 AVENUE</td>\n",
       "      <td>...</td>\n",
       "      <td>NaN</td>\n",
       "      <td>NaT</td>\n",
       "      <td>NaN</td>\n",
       "      <td>NaN</td>\n",
       "      <td>NaN</td>\n",
       "      <td>NaN</td>\n",
       "      <td>NaN</td>\n",
       "      <td>NaN</td>\n",
       "      <td>cmpT1</td>\n",
       "      <td>brgh3</td>\n",
       "    </tr>\n",
       "    <tr>\n",
       "      <th>794352</th>\n",
       "      <td>59894610</td>\n",
       "      <td>2024-01-01 00:00:00</td>\n",
       "      <td>2024-01-02 09:46:32</td>\n",
       "      <td>DOHMH</td>\n",
       "      <td>Food Poisoning</td>\n",
       "      <td>1 or 2</td>\n",
       "      <td>Restaurant</td>\n",
       "      <td>Bar/Deli/Bakery</td>\n",
       "      <td>1</td>\n",
       "      <td>7 NAVY PIER COURT</td>\n",
       "      <td>...</td>\n",
       "      <td>NaN</td>\n",
       "      <td>NaT</td>\n",
       "      <td>NaN</td>\n",
       "      <td>NaN</td>\n",
       "      <td>NaN</td>\n",
       "      <td>NaN</td>\n",
       "      <td>NaN</td>\n",
       "      <td>NaN</td>\n",
       "      <td>cmpT1</td>\n",
       "      <td>brgh5</td>\n",
       "    </tr>\n",
       "    <tr>\n",
       "      <th>794353</th>\n",
       "      <td>59898042</td>\n",
       "      <td>2024-01-01 00:00:00</td>\n",
       "      <td>2024-01-02 09:24:45</td>\n",
       "      <td>DOHMH</td>\n",
       "      <td>Food Poisoning</td>\n",
       "      <td>1 or 2</td>\n",
       "      <td>Restaurant</td>\n",
       "      <td>Bar/Deli/Bakery</td>\n",
       "      <td>1</td>\n",
       "      <td>711 MORRIS PARK AVENUE</td>\n",
       "      <td>...</td>\n",
       "      <td>NaN</td>\n",
       "      <td>NaT</td>\n",
       "      <td>NaN</td>\n",
       "      <td>NaN</td>\n",
       "      <td>NaN</td>\n",
       "      <td>NaN</td>\n",
       "      <td>NaN</td>\n",
       "      <td>NaN</td>\n",
       "      <td>cmpT1</td>\n",
       "      <td>brgh2</td>\n",
       "    </tr>\n",
       "  </tbody>\n",
       "</table>\n",
       "<p>10 rows × 42 columns</p>\n",
       "</div>"
      ],
      "text/plain": [
       "       unique_key        created_date         closed_date agency  \\\n",
       "794344   59889054 2024-01-01 00:00:51 2024-01-01 00:29:32   NYPD   \n",
       "794345   59892651 2024-01-01 00:00:48 2024-01-01 00:48:34   NYPD   \n",
       "794346   59891528 2024-01-01 00:00:46 2024-01-01 01:07:17   NYPD   \n",
       "794347   59888940 2024-01-01 00:00:43 2024-01-01 00:56:45   NYPD   \n",
       "794348   59889016 2024-01-01 00:00:20 2024-01-01 00:59:31   NYPD   \n",
       "794349   59887043 2024-01-01 00:00:20 2024-01-01 00:41:01   NYPD   \n",
       "794350   59896272 2024-01-01 00:00:00 2024-01-02 00:00:01  DOHMH   \n",
       "794351   59899838 2024-01-01 00:00:00 2024-01-02 09:42:25  DOHMH   \n",
       "794352   59894610 2024-01-01 00:00:00 2024-01-02 09:46:32  DOHMH   \n",
       "794353   59898042 2024-01-01 00:00:00 2024-01-02 09:24:45  DOHMH   \n",
       "\n",
       "                 complaint_type complaint_descriptor         location_type  \\\n",
       "794344  Noise - Street/Sidewalk     Loud Music/Party                Street   \n",
       "794345  Noise - Street/Sidewalk     Loud Music/Party                Street   \n",
       "794346        Illegal Fireworks                  N/A  Residential Building   \n",
       "794347      Noise - Residential     Banging/Pounding  Residential Building   \n",
       "794348      Noise - Residential     Loud Music/Party  Residential Building   \n",
       "794349        Illegal Fireworks                  N/A                Street   \n",
       "794350           Food Poisoning               1 or 2            Restaurant   \n",
       "794351           Food Poisoning               1 or 2            Restaurant   \n",
       "794352           Food Poisoning               1 or 2            Restaurant   \n",
       "794353           Food Poisoning               1 or 2            Restaurant   \n",
       "\n",
       "       location_subtype  incident_zip            incident_address  ...  \\\n",
       "794344         Sidewalk             1             85-04 95 AVENUE  ...   \n",
       "794345         Sidewalk             1             41-52 72 STREET  ...   \n",
       "794346            House             1            106-23 75 STREET  ...   \n",
       "794347            House             1          640 STANLEY AVENUE  ...   \n",
       "794348            House             1            233 LANDING ROAD  ...   \n",
       "794349         Sidewalk             1  7223 FORT HAMILTON PARKWAY  ...   \n",
       "794350  Bar/Deli/Bakery             1  145 GRAND STREET EXTENSION  ...   \n",
       "794351  Bar/Deli/Bakery             1               1069 1 AVENUE  ...   \n",
       "794352  Bar/Deli/Bakery             1           7 NAVY PIER COURT  ...   \n",
       "794353  Bar/Deli/Bakery             1      711 MORRIS PARK AVENUE  ...   \n",
       "\n",
       "       facility_type due_date taxi_pick_up_location bridge_highway_name  \\\n",
       "794344           NaN      NaT                   NaN                 NaN   \n",
       "794345           NaN      NaT                   NaN                 NaN   \n",
       "794346           NaN      NaT                   NaN                 NaN   \n",
       "794347           NaN      NaT                   NaN                 NaN   \n",
       "794348           NaN      NaT                   NaN                 NaN   \n",
       "794349           NaN      NaT                   NaN                 NaN   \n",
       "794350           NaN      NaT                   NaN                 NaN   \n",
       "794351           NaN      NaT                   NaN                 NaN   \n",
       "794352           NaN      NaT                   NaN                 NaN   \n",
       "794353           NaN      NaT                   NaN                 NaN   \n",
       "\n",
       "       bridge_highway_segment bridge_highway_direction road_ramp  \\\n",
       "794344                    NaN                      NaN       NaN   \n",
       "794345                    NaN                      NaN       NaN   \n",
       "794346                    NaN                      NaN       NaN   \n",
       "794347                    NaN                      NaN       NaN   \n",
       "794348                    NaN                      NaN       NaN   \n",
       "794349                    NaN                      NaN       NaN   \n",
       "794350                    NaN                      NaN       NaN   \n",
       "794351                    NaN                      NaN       NaN   \n",
       "794352                    NaN                      NaN       NaN   \n",
       "794353                    NaN                      NaN       NaN   \n",
       "\n",
       "       taxi_company_borough complaint_id borough_id  \n",
       "794344                  NaN        cmpT8      brgh4  \n",
       "794345                  NaN        cmpT8      brgh4  \n",
       "794346                  NaN       cmpT82      brgh4  \n",
       "794347                  NaN        cmpT5      brgh1  \n",
       "794348                  NaN        cmpT5      brgh2  \n",
       "794349                  NaN       cmpT82      brgh1  \n",
       "794350                  NaN        cmpT1      brgh1  \n",
       "794351                  NaN        cmpT1      brgh3  \n",
       "794352                  NaN        cmpT1      brgh5  \n",
       "794353                  NaN        cmpT1      brgh2  \n",
       "\n",
       "[10 rows x 42 columns]"
      ]
     },
     "execution_count": 855,
     "metadata": {},
     "output_type": "execute_result"
    }
   ],
   "source": [
    "# Merge the campaign_df with the category_df on the \"category\" column and\n",
    "# the subcategory_df on the \"subcategory\" column.\n",
    "\n",
    "nyc311_merged_df = nyc311_service_line.merge(complaints_df, on='complaint_type', how='left').merge(boroughs_df, on='borough', how='left')\n",
    "nyc311_merged_df.tail(10)\n"
   ]
  },
  {
   "cell_type": "code",
   "execution_count": 880,
   "metadata": {},
   "outputs": [],
   "source": [
    "\n",
    "# Export the  nyc311_service_line DataFrame as a CSV file. \n",
    "nyc311_merged_df.to_csv(\"Resources/nyc311_merged_df.csv\", index=False)"
   ]
  },
  {
   "cell_type": "markdown",
   "metadata": {},
   "source": [
    "#   Analysis\n",
    "\n",
    " ### Which are the top 10 most popular report ploblems 311 receives?\n",
    " -----\n",
    " "
   ]
  },
  {
   "cell_type": "code",
   "execution_count": 857,
   "metadata": {},
   "outputs": [
    {
     "data": {
      "text/html": [
       "<div>\n",
       "<style scoped>\n",
       "    .dataframe tbody tr th:only-of-type {\n",
       "        vertical-align: middle;\n",
       "    }\n",
       "\n",
       "    .dataframe tbody tr th {\n",
       "        vertical-align: top;\n",
       "    }\n",
       "\n",
       "    .dataframe thead th {\n",
       "        text-align: right;\n",
       "    }\n",
       "</style>\n",
       "<table border=\"1\" class=\"dataframe\">\n",
       "  <thead>\n",
       "    <tr style=\"text-align: right;\">\n",
       "      <th></th>\n",
       "      <th>complaint_type</th>\n",
       "      <th>unique_key</th>\n",
       "    </tr>\n",
       "  </thead>\n",
       "  <tbody>\n",
       "    <tr>\n",
       "      <th>1</th>\n",
       "      <td>Illegal Parking</td>\n",
       "      <td>123,083</td>\n",
       "    </tr>\n",
       "    <tr>\n",
       "      <th>2</th>\n",
       "      <td>HEAT/HOT WATER</td>\n",
       "      <td>106,450</td>\n",
       "    </tr>\n",
       "    <tr>\n",
       "      <th>3</th>\n",
       "      <td>Noise - Residential</td>\n",
       "      <td>68,498</td>\n",
       "    </tr>\n",
       "    <tr>\n",
       "      <th>4</th>\n",
       "      <td>Blocked Driveway</td>\n",
       "      <td>43,067</td>\n",
       "    </tr>\n",
       "    <tr>\n",
       "      <th>5</th>\n",
       "      <td>UNSANITARY CONDITION</td>\n",
       "      <td>28,192</td>\n",
       "    </tr>\n",
       "    <tr>\n",
       "      <th>6</th>\n",
       "      <td>Street Condition</td>\n",
       "      <td>19,016</td>\n",
       "    </tr>\n",
       "    <tr>\n",
       "      <th>7</th>\n",
       "      <td>Abandoned Vehicle</td>\n",
       "      <td>17,625</td>\n",
       "    </tr>\n",
       "    <tr>\n",
       "      <th>8</th>\n",
       "      <td>PLUMBING</td>\n",
       "      <td>17,406</td>\n",
       "    </tr>\n",
       "    <tr>\n",
       "      <th>9</th>\n",
       "      <td>PAINT/PLASTER</td>\n",
       "      <td>17,331</td>\n",
       "    </tr>\n",
       "    <tr>\n",
       "      <th>10</th>\n",
       "      <td>Noise - Street/Sidewalk</td>\n",
       "      <td>15,722</td>\n",
       "    </tr>\n",
       "  </tbody>\n",
       "</table>\n",
       "</div>"
      ],
      "text/plain": [
       "             complaint_type unique_key\n",
       "1           Illegal Parking    123,083\n",
       "2            HEAT/HOT WATER    106,450\n",
       "3       Noise - Residential     68,498\n",
       "4          Blocked Driveway     43,067\n",
       "5      UNSANITARY CONDITION     28,192\n",
       "6          Street Condition     19,016\n",
       "7         Abandoned Vehicle     17,625\n",
       "8                  PLUMBING     17,406\n",
       "9             PAINT/PLASTER     17,331\n",
       "10  Noise - Street/Sidewalk     15,722"
      ]
     },
     "execution_count": 857,
     "metadata": {},
     "output_type": "execute_result"
    }
   ],
   "source": [
    "#This first dataframe answer the first question to analyse \n",
    "complaints_311 = nyc311_service_line.groupby(\"complaint_type\")[\"unique_key\"].count().reset_index().sort_values(by='unique_key', ascending=False)\n",
    "top_10_complaints =  complaints_311.reset_index(drop=True).head(10)\n",
    "#here we decided to add this commas for better reading since \n",
    "top_10_complaints['unique_key'] = top_10_complaints['unique_key'].map(\"{:,}\".format)\n",
    "top_10_complaints.rename(columns = {\"unique_key\": \"unique_key_count\"})\n",
    "top_10_complaints.index = top_10_complaints.index + 1\n",
    "top_10_complaints\n"
   ]
  },
  {
   "cell_type": "code",
   "execution_count": 858,
   "metadata": {},
   "outputs": [
    {
     "data": {
      "application/vnd.plotly.v1+json": {
       "config": {
        "plotlyServerURL": "https://plot.ly"
       },
       "data": [
        {
         "alignmentgroup": "True",
         "hovertemplate": "Amount of Incidents=%{x}<br>Complaint Types=%{y}<extra></extra>",
         "legendgroup": "",
         "marker": {
          "color": "rgb(158,202,225)",
          "line": {
           "color": "rgb(8,48,107)"
          },
          "pattern": {
           "shape": ""
          }
         },
         "name": "",
         "offsetgroup": "",
         "orientation": "v",
         "showlegend": false,
         "textposition": "auto",
         "type": "bar",
         "x": [
          "123,083",
          "106,450",
          "68,498",
          "43,067",
          "28,192",
          "19,016",
          "17,625",
          "17,406",
          "17,331",
          "15,722"
         ],
         "xaxis": "x",
         "y": [
          "Illegal Parking",
          "HEAT/HOT WATER",
          "Noise - Residential",
          "Blocked Driveway",
          "UNSANITARY CONDITION",
          "Street Condition",
          "Abandoned Vehicle",
          "PLUMBING",
          "PAINT/PLASTER",
          "Noise - Street/Sidewalk"
         ],
         "yaxis": "y"
        }
       ],
       "layout": {
        "barmode": "relative",
        "legend": {
         "tracegroupgap": 0
        },
        "template": {
         "data": {
          "bar": [
           {
            "error_x": {
             "color": "#2a3f5f"
            },
            "error_y": {
             "color": "#2a3f5f"
            },
            "marker": {
             "line": {
              "color": "#E5ECF6",
              "width": 0.5
             },
             "pattern": {
              "fillmode": "overlay",
              "size": 10,
              "solidity": 0.2
             }
            },
            "type": "bar"
           }
          ],
          "barpolar": [
           {
            "marker": {
             "line": {
              "color": "#E5ECF6",
              "width": 0.5
             },
             "pattern": {
              "fillmode": "overlay",
              "size": 10,
              "solidity": 0.2
             }
            },
            "type": "barpolar"
           }
          ],
          "carpet": [
           {
            "aaxis": {
             "endlinecolor": "#2a3f5f",
             "gridcolor": "white",
             "linecolor": "white",
             "minorgridcolor": "white",
             "startlinecolor": "#2a3f5f"
            },
            "baxis": {
             "endlinecolor": "#2a3f5f",
             "gridcolor": "white",
             "linecolor": "white",
             "minorgridcolor": "white",
             "startlinecolor": "#2a3f5f"
            },
            "type": "carpet"
           }
          ],
          "choropleth": [
           {
            "colorbar": {
             "outlinewidth": 0,
             "ticks": ""
            },
            "type": "choropleth"
           }
          ],
          "contour": [
           {
            "colorbar": {
             "outlinewidth": 0,
             "ticks": ""
            },
            "colorscale": [
             [
              0,
              "#0d0887"
             ],
             [
              0.1111111111111111,
              "#46039f"
             ],
             [
              0.2222222222222222,
              "#7201a8"
             ],
             [
              0.3333333333333333,
              "#9c179e"
             ],
             [
              0.4444444444444444,
              "#bd3786"
             ],
             [
              0.5555555555555556,
              "#d8576b"
             ],
             [
              0.6666666666666666,
              "#ed7953"
             ],
             [
              0.7777777777777778,
              "#fb9f3a"
             ],
             [
              0.8888888888888888,
              "#fdca26"
             ],
             [
              1,
              "#f0f921"
             ]
            ],
            "type": "contour"
           }
          ],
          "contourcarpet": [
           {
            "colorbar": {
             "outlinewidth": 0,
             "ticks": ""
            },
            "type": "contourcarpet"
           }
          ],
          "heatmap": [
           {
            "colorbar": {
             "outlinewidth": 0,
             "ticks": ""
            },
            "colorscale": [
             [
              0,
              "#0d0887"
             ],
             [
              0.1111111111111111,
              "#46039f"
             ],
             [
              0.2222222222222222,
              "#7201a8"
             ],
             [
              0.3333333333333333,
              "#9c179e"
             ],
             [
              0.4444444444444444,
              "#bd3786"
             ],
             [
              0.5555555555555556,
              "#d8576b"
             ],
             [
              0.6666666666666666,
              "#ed7953"
             ],
             [
              0.7777777777777778,
              "#fb9f3a"
             ],
             [
              0.8888888888888888,
              "#fdca26"
             ],
             [
              1,
              "#f0f921"
             ]
            ],
            "type": "heatmap"
           }
          ],
          "heatmapgl": [
           {
            "colorbar": {
             "outlinewidth": 0,
             "ticks": ""
            },
            "colorscale": [
             [
              0,
              "#0d0887"
             ],
             [
              0.1111111111111111,
              "#46039f"
             ],
             [
              0.2222222222222222,
              "#7201a8"
             ],
             [
              0.3333333333333333,
              "#9c179e"
             ],
             [
              0.4444444444444444,
              "#bd3786"
             ],
             [
              0.5555555555555556,
              "#d8576b"
             ],
             [
              0.6666666666666666,
              "#ed7953"
             ],
             [
              0.7777777777777778,
              "#fb9f3a"
             ],
             [
              0.8888888888888888,
              "#fdca26"
             ],
             [
              1,
              "#f0f921"
             ]
            ],
            "type": "heatmapgl"
           }
          ],
          "histogram": [
           {
            "marker": {
             "pattern": {
              "fillmode": "overlay",
              "size": 10,
              "solidity": 0.2
             }
            },
            "type": "histogram"
           }
          ],
          "histogram2d": [
           {
            "colorbar": {
             "outlinewidth": 0,
             "ticks": ""
            },
            "colorscale": [
             [
              0,
              "#0d0887"
             ],
             [
              0.1111111111111111,
              "#46039f"
             ],
             [
              0.2222222222222222,
              "#7201a8"
             ],
             [
              0.3333333333333333,
              "#9c179e"
             ],
             [
              0.4444444444444444,
              "#bd3786"
             ],
             [
              0.5555555555555556,
              "#d8576b"
             ],
             [
              0.6666666666666666,
              "#ed7953"
             ],
             [
              0.7777777777777778,
              "#fb9f3a"
             ],
             [
              0.8888888888888888,
              "#fdca26"
             ],
             [
              1,
              "#f0f921"
             ]
            ],
            "type": "histogram2d"
           }
          ],
          "histogram2dcontour": [
           {
            "colorbar": {
             "outlinewidth": 0,
             "ticks": ""
            },
            "colorscale": [
             [
              0,
              "#0d0887"
             ],
             [
              0.1111111111111111,
              "#46039f"
             ],
             [
              0.2222222222222222,
              "#7201a8"
             ],
             [
              0.3333333333333333,
              "#9c179e"
             ],
             [
              0.4444444444444444,
              "#bd3786"
             ],
             [
              0.5555555555555556,
              "#d8576b"
             ],
             [
              0.6666666666666666,
              "#ed7953"
             ],
             [
              0.7777777777777778,
              "#fb9f3a"
             ],
             [
              0.8888888888888888,
              "#fdca26"
             ],
             [
              1,
              "#f0f921"
             ]
            ],
            "type": "histogram2dcontour"
           }
          ],
          "mesh3d": [
           {
            "colorbar": {
             "outlinewidth": 0,
             "ticks": ""
            },
            "type": "mesh3d"
           }
          ],
          "parcoords": [
           {
            "line": {
             "colorbar": {
              "outlinewidth": 0,
              "ticks": ""
             }
            },
            "type": "parcoords"
           }
          ],
          "pie": [
           {
            "automargin": true,
            "type": "pie"
           }
          ],
          "scatter": [
           {
            "fillpattern": {
             "fillmode": "overlay",
             "size": 10,
             "solidity": 0.2
            },
            "type": "scatter"
           }
          ],
          "scatter3d": [
           {
            "line": {
             "colorbar": {
              "outlinewidth": 0,
              "ticks": ""
             }
            },
            "marker": {
             "colorbar": {
              "outlinewidth": 0,
              "ticks": ""
             }
            },
            "type": "scatter3d"
           }
          ],
          "scattercarpet": [
           {
            "marker": {
             "colorbar": {
              "outlinewidth": 0,
              "ticks": ""
             }
            },
            "type": "scattercarpet"
           }
          ],
          "scattergeo": [
           {
            "marker": {
             "colorbar": {
              "outlinewidth": 0,
              "ticks": ""
             }
            },
            "type": "scattergeo"
           }
          ],
          "scattergl": [
           {
            "marker": {
             "colorbar": {
              "outlinewidth": 0,
              "ticks": ""
             }
            },
            "type": "scattergl"
           }
          ],
          "scattermapbox": [
           {
            "marker": {
             "colorbar": {
              "outlinewidth": 0,
              "ticks": ""
             }
            },
            "type": "scattermapbox"
           }
          ],
          "scatterpolar": [
           {
            "marker": {
             "colorbar": {
              "outlinewidth": 0,
              "ticks": ""
             }
            },
            "type": "scatterpolar"
           }
          ],
          "scatterpolargl": [
           {
            "marker": {
             "colorbar": {
              "outlinewidth": 0,
              "ticks": ""
             }
            },
            "type": "scatterpolargl"
           }
          ],
          "scatterternary": [
           {
            "marker": {
             "colorbar": {
              "outlinewidth": 0,
              "ticks": ""
             }
            },
            "type": "scatterternary"
           }
          ],
          "surface": [
           {
            "colorbar": {
             "outlinewidth": 0,
             "ticks": ""
            },
            "colorscale": [
             [
              0,
              "#0d0887"
             ],
             [
              0.1111111111111111,
              "#46039f"
             ],
             [
              0.2222222222222222,
              "#7201a8"
             ],
             [
              0.3333333333333333,
              "#9c179e"
             ],
             [
              0.4444444444444444,
              "#bd3786"
             ],
             [
              0.5555555555555556,
              "#d8576b"
             ],
             [
              0.6666666666666666,
              "#ed7953"
             ],
             [
              0.7777777777777778,
              "#fb9f3a"
             ],
             [
              0.8888888888888888,
              "#fdca26"
             ],
             [
              1,
              "#f0f921"
             ]
            ],
            "type": "surface"
           }
          ],
          "table": [
           {
            "cells": {
             "fill": {
              "color": "#EBF0F8"
             },
             "line": {
              "color": "white"
             }
            },
            "header": {
             "fill": {
              "color": "#C8D4E3"
             },
             "line": {
              "color": "white"
             }
            },
            "type": "table"
           }
          ]
         },
         "layout": {
          "annotationdefaults": {
           "arrowcolor": "#2a3f5f",
           "arrowhead": 0,
           "arrowwidth": 1
          },
          "autotypenumbers": "strict",
          "coloraxis": {
           "colorbar": {
            "outlinewidth": 0,
            "ticks": ""
           }
          },
          "colorscale": {
           "diverging": [
            [
             0,
             "#8e0152"
            ],
            [
             0.1,
             "#c51b7d"
            ],
            [
             0.2,
             "#de77ae"
            ],
            [
             0.3,
             "#f1b6da"
            ],
            [
             0.4,
             "#fde0ef"
            ],
            [
             0.5,
             "#f7f7f7"
            ],
            [
             0.6,
             "#e6f5d0"
            ],
            [
             0.7,
             "#b8e186"
            ],
            [
             0.8,
             "#7fbc41"
            ],
            [
             0.9,
             "#4d9221"
            ],
            [
             1,
             "#276419"
            ]
           ],
           "sequential": [
            [
             0,
             "#0d0887"
            ],
            [
             0.1111111111111111,
             "#46039f"
            ],
            [
             0.2222222222222222,
             "#7201a8"
            ],
            [
             0.3333333333333333,
             "#9c179e"
            ],
            [
             0.4444444444444444,
             "#bd3786"
            ],
            [
             0.5555555555555556,
             "#d8576b"
            ],
            [
             0.6666666666666666,
             "#ed7953"
            ],
            [
             0.7777777777777778,
             "#fb9f3a"
            ],
            [
             0.8888888888888888,
             "#fdca26"
            ],
            [
             1,
             "#f0f921"
            ]
           ],
           "sequentialminus": [
            [
             0,
             "#0d0887"
            ],
            [
             0.1111111111111111,
             "#46039f"
            ],
            [
             0.2222222222222222,
             "#7201a8"
            ],
            [
             0.3333333333333333,
             "#9c179e"
            ],
            [
             0.4444444444444444,
             "#bd3786"
            ],
            [
             0.5555555555555556,
             "#d8576b"
            ],
            [
             0.6666666666666666,
             "#ed7953"
            ],
            [
             0.7777777777777778,
             "#fb9f3a"
            ],
            [
             0.8888888888888888,
             "#fdca26"
            ],
            [
             1,
             "#f0f921"
            ]
           ]
          },
          "colorway": [
           "#636efa",
           "#EF553B",
           "#00cc96",
           "#ab63fa",
           "#FFA15A",
           "#19d3f3",
           "#FF6692",
           "#B6E880",
           "#FF97FF",
           "#FECB52"
          ],
          "font": {
           "color": "#2a3f5f"
          },
          "geo": {
           "bgcolor": "white",
           "lakecolor": "white",
           "landcolor": "#E5ECF6",
           "showlakes": true,
           "showland": true,
           "subunitcolor": "white"
          },
          "hoverlabel": {
           "align": "left"
          },
          "hovermode": "closest",
          "mapbox": {
           "style": "light"
          },
          "paper_bgcolor": "white",
          "plot_bgcolor": "#E5ECF6",
          "polar": {
           "angularaxis": {
            "gridcolor": "white",
            "linecolor": "white",
            "ticks": ""
           },
           "bgcolor": "#E5ECF6",
           "radialaxis": {
            "gridcolor": "white",
            "linecolor": "white",
            "ticks": ""
           }
          },
          "scene": {
           "xaxis": {
            "backgroundcolor": "#E5ECF6",
            "gridcolor": "white",
            "gridwidth": 2,
            "linecolor": "white",
            "showbackground": true,
            "ticks": "",
            "zerolinecolor": "white"
           },
           "yaxis": {
            "backgroundcolor": "#E5ECF6",
            "gridcolor": "white",
            "gridwidth": 2,
            "linecolor": "white",
            "showbackground": true,
            "ticks": "",
            "zerolinecolor": "white"
           },
           "zaxis": {
            "backgroundcolor": "#E5ECF6",
            "gridcolor": "white",
            "gridwidth": 2,
            "linecolor": "white",
            "showbackground": true,
            "ticks": "",
            "zerolinecolor": "white"
           }
          },
          "shapedefaults": {
           "line": {
            "color": "#2a3f5f"
           }
          },
          "ternary": {
           "aaxis": {
            "gridcolor": "white",
            "linecolor": "white",
            "ticks": ""
           },
           "baxis": {
            "gridcolor": "white",
            "linecolor": "white",
            "ticks": ""
           },
           "bgcolor": "#E5ECF6",
           "caxis": {
            "gridcolor": "white",
            "linecolor": "white",
            "ticks": ""
           }
          },
          "title": {
           "x": 0.05
          },
          "xaxis": {
           "automargin": true,
           "gridcolor": "white",
           "linecolor": "white",
           "ticks": "",
           "title": {
            "standoff": 15
           },
           "zerolinecolor": "white",
           "zerolinewidth": 2
          },
          "yaxis": {
           "automargin": true,
           "gridcolor": "white",
           "linecolor": "white",
           "ticks": "",
           "title": {
            "standoff": 15
           },
           "zerolinecolor": "white",
           "zerolinewidth": 2
          }
         }
        },
        "title": {
         "text": "Top 10 Complaint Types"
        },
        "xaxis": {
         "anchor": "y",
         "domain": [
          0,
          1
         ],
         "title": {
          "text": "Amount of Incidents"
         }
        },
        "yaxis": {
         "anchor": "x",
         "domain": [
          0,
          1
         ],
         "title": {
          "text": "Complaint Types"
         }
        }
       }
      }
     },
     "metadata": {},
     "output_type": "display_data"
    }
   ],
   "source": [
    "#Here we are creating the a bar chart to present the top 10 complaints types \n",
    "fig_top_10_complaints = px.bar(top_10_complaints, x='unique_key', y='complaint_type', \n",
    "                               title=\"Top 10 Complaint Types\",\n",
    "                               labels={'complaint_type':'Complaint Types',\n",
    "                                       'unique_key': 'Amount of Incidents'})\n",
    "fig_top_10_complaints.update_traces(marker_color='rgb(158,202,225)', marker_line_color='rgb(8,48,107)')\n",
    "fig_top_10_complaints.show()"
   ]
  },
  {
   "cell_type": "code",
   "execution_count": 859,
   "metadata": {},
   "outputs": [],
   "source": [
    "#Here we decided to create a fuction to look for the top 10 complaint type during the course of the three first months of the years to not repeat ourselves :\n",
    "\n",
    "def analyze_complaint_types(start_date, end_date, data):\n",
    "    # Filter data based on the specified start and end dates\n",
    "    complaints_data = data.loc[(data['created_date'].dt.date >= start_date) & \n",
    "                               (data['created_date'].dt.date <= end_date), :]\n",
    "    \n",
    "    # Group by complaint type and count the unique keys\n",
    "    complaints_grouped = complaints_data.groupby(\"complaint_type\")[\"unique_key\"].count().reset_index().sort_values(by='unique_key', ascending=False)\n",
    "    \n",
    "    # Get the top 10 complaint types\n",
    "    top_10_complaints = complaints_grouped.reset_index(drop=True).head(10)\n",
    "    \n",
    "    # Format the unique key count\n",
    "    top_10_complaints['unique_key'] = top_10_complaints['unique_key'].map(\"{:,}\".format)\n",
    "    \n",
    "    # Rename the column\n",
    "    top_10_complaints.rename(columns={\"unique_key\": \"unique_key_count\"}, inplace=True)\n",
    "    \n",
    "    # Adjust the index to start from 1\n",
    "    top_10_complaints.index = top_10_complaints.index + 1\n",
    "    \n",
    "    return top_10_complaints"
   ]
  },
  {
   "cell_type": "code",
   "execution_count": 860,
   "metadata": {},
   "outputs": [
    {
     "data": {
      "text/html": [
       "<div>\n",
       "<style scoped>\n",
       "    .dataframe tbody tr th:only-of-type {\n",
       "        vertical-align: middle;\n",
       "    }\n",
       "\n",
       "    .dataframe tbody tr th {\n",
       "        vertical-align: top;\n",
       "    }\n",
       "\n",
       "    .dataframe thead th {\n",
       "        text-align: right;\n",
       "    }\n",
       "</style>\n",
       "<table border=\"1\" class=\"dataframe\">\n",
       "  <thead>\n",
       "    <tr style=\"text-align: right;\">\n",
       "      <th></th>\n",
       "      <th>complaint_type</th>\n",
       "      <th>unique_key_count</th>\n",
       "      <th>Month</th>\n",
       "    </tr>\n",
       "  </thead>\n",
       "  <tbody>\n",
       "    <tr>\n",
       "      <th>1</th>\n",
       "      <td>HEAT/HOT WATER</td>\n",
       "      <td>51,325</td>\n",
       "      <td>January</td>\n",
       "    </tr>\n",
       "    <tr>\n",
       "      <th>2</th>\n",
       "      <td>Illegal Parking</td>\n",
       "      <td>41,124</td>\n",
       "      <td>January</td>\n",
       "    </tr>\n",
       "    <tr>\n",
       "      <th>3</th>\n",
       "      <td>Noise - Residential</td>\n",
       "      <td>22,091</td>\n",
       "      <td>January</td>\n",
       "    </tr>\n",
       "    <tr>\n",
       "      <th>4</th>\n",
       "      <td>Blocked Driveway</td>\n",
       "      <td>14,966</td>\n",
       "      <td>January</td>\n",
       "    </tr>\n",
       "    <tr>\n",
       "      <th>5</th>\n",
       "      <td>UNSANITARY CONDITION</td>\n",
       "      <td>10,720</td>\n",
       "      <td>January</td>\n",
       "    </tr>\n",
       "    <tr>\n",
       "      <th>6</th>\n",
       "      <td>PLUMBING</td>\n",
       "      <td>6,800</td>\n",
       "      <td>January</td>\n",
       "    </tr>\n",
       "    <tr>\n",
       "      <th>7</th>\n",
       "      <td>PAINT/PLASTER</td>\n",
       "      <td>6,755</td>\n",
       "      <td>January</td>\n",
       "    </tr>\n",
       "    <tr>\n",
       "      <th>8</th>\n",
       "      <td>Abandoned Vehicle</td>\n",
       "      <td>6,079</td>\n",
       "      <td>January</td>\n",
       "    </tr>\n",
       "    <tr>\n",
       "      <th>9</th>\n",
       "      <td>WATER LEAK</td>\n",
       "      <td>5,863</td>\n",
       "      <td>January</td>\n",
       "    </tr>\n",
       "    <tr>\n",
       "      <th>10</th>\n",
       "      <td>Traffic Signal Condition</td>\n",
       "      <td>5,225</td>\n",
       "      <td>January</td>\n",
       "    </tr>\n",
       "  </tbody>\n",
       "</table>\n",
       "</div>"
      ],
      "text/plain": [
       "              complaint_type unique_key_count    Month\n",
       "1             HEAT/HOT WATER           51,325  January\n",
       "2            Illegal Parking           41,124  January\n",
       "3        Noise - Residential           22,091  January\n",
       "4           Blocked Driveway           14,966  January\n",
       "5       UNSANITARY CONDITION           10,720  January\n",
       "6                   PLUMBING            6,800  January\n",
       "7              PAINT/PLASTER            6,755  January\n",
       "8          Abandoned Vehicle            6,079  January\n",
       "9                 WATER LEAK            5,863  January\n",
       "10  Traffic Signal Condition            5,225  January"
      ]
     },
     "execution_count": 860,
     "metadata": {},
     "output_type": "execute_result"
    }
   ],
   "source": [
    "#how have the complaint types change over othe course of these there months \n",
    "# Convert date strings to datetime objects\n",
    "start_date_jan = pd.to_datetime('2024-01-01').date()\n",
    "end_date_jan = pd.to_datetime('2024-01-31').date()\n",
    "\n",
    "top_10_complaints_jan =  analyze_complaint_types(start_date_jan, end_date_jan, nyc311_service_line)\n",
    "top_10_complaints_jan['Month'] = 'January'\n",
    "top_10_complaints_jan\n"
   ]
  },
  {
   "cell_type": "code",
   "execution_count": 861,
   "metadata": {},
   "outputs": [
    {
     "data": {
      "text/html": [
       "<div>\n",
       "<style scoped>\n",
       "    .dataframe tbody tr th:only-of-type {\n",
       "        vertical-align: middle;\n",
       "    }\n",
       "\n",
       "    .dataframe tbody tr th {\n",
       "        vertical-align: top;\n",
       "    }\n",
       "\n",
       "    .dataframe thead th {\n",
       "        text-align: right;\n",
       "    }\n",
       "</style>\n",
       "<table border=\"1\" class=\"dataframe\">\n",
       "  <thead>\n",
       "    <tr style=\"text-align: right;\">\n",
       "      <th></th>\n",
       "      <th>complaint_type</th>\n",
       "      <th>unique_key_count</th>\n",
       "      <th>Month</th>\n",
       "    </tr>\n",
       "  </thead>\n",
       "  <tbody>\n",
       "    <tr>\n",
       "      <th>1</th>\n",
       "      <td>Illegal Parking</td>\n",
       "      <td>38,792</td>\n",
       "      <td>February</td>\n",
       "    </tr>\n",
       "    <tr>\n",
       "      <th>2</th>\n",
       "      <td>HEAT/HOT WATER</td>\n",
       "      <td>30,316</td>\n",
       "      <td>February</td>\n",
       "    </tr>\n",
       "    <tr>\n",
       "      <th>3</th>\n",
       "      <td>Noise - Residential</td>\n",
       "      <td>21,511</td>\n",
       "      <td>February</td>\n",
       "    </tr>\n",
       "    <tr>\n",
       "      <th>4</th>\n",
       "      <td>Blocked Driveway</td>\n",
       "      <td>13,642</td>\n",
       "      <td>February</td>\n",
       "    </tr>\n",
       "    <tr>\n",
       "      <th>5</th>\n",
       "      <td>UNSANITARY CONDITION</td>\n",
       "      <td>8,488</td>\n",
       "      <td>February</td>\n",
       "    </tr>\n",
       "    <tr>\n",
       "      <th>6</th>\n",
       "      <td>Street Condition</td>\n",
       "      <td>5,870</td>\n",
       "      <td>February</td>\n",
       "    </tr>\n",
       "    <tr>\n",
       "      <th>7</th>\n",
       "      <td>Abandoned Vehicle</td>\n",
       "      <td>5,387</td>\n",
       "      <td>February</td>\n",
       "    </tr>\n",
       "    <tr>\n",
       "      <th>8</th>\n",
       "      <td>PLUMBING</td>\n",
       "      <td>5,260</td>\n",
       "      <td>February</td>\n",
       "    </tr>\n",
       "    <tr>\n",
       "      <th>9</th>\n",
       "      <td>PAINT/PLASTER</td>\n",
       "      <td>4,970</td>\n",
       "      <td>February</td>\n",
       "    </tr>\n",
       "    <tr>\n",
       "      <th>10</th>\n",
       "      <td>Noise - Commercial</td>\n",
       "      <td>4,552</td>\n",
       "      <td>February</td>\n",
       "    </tr>\n",
       "  </tbody>\n",
       "</table>\n",
       "</div>"
      ],
      "text/plain": [
       "          complaint_type unique_key_count     Month\n",
       "1        Illegal Parking           38,792  February\n",
       "2         HEAT/HOT WATER           30,316  February\n",
       "3    Noise - Residential           21,511  February\n",
       "4       Blocked Driveway           13,642  February\n",
       "5   UNSANITARY CONDITION            8,488  February\n",
       "6       Street Condition            5,870  February\n",
       "7      Abandoned Vehicle            5,387  February\n",
       "8               PLUMBING            5,260  February\n",
       "9          PAINT/PLASTER            4,970  February\n",
       "10    Noise - Commercial            4,552  February"
      ]
     },
     "execution_count": 861,
     "metadata": {},
     "output_type": "execute_result"
    }
   ],
   "source": [
    "#Feb analysis\n",
    "# Convert date strings to datetime objects\n",
    "start_date_feb = pd.to_datetime('2024-02-01').date()\n",
    "end_date_feb = pd.to_datetime('2024-02-29').date()\n",
    "\n",
    "\n",
    "top_10_complaints_feb =  analyze_complaint_types(start_date_feb, end_date_feb, nyc311_service_line)\n",
    "top_10_complaints_feb['Month'] = 'February'\n",
    "top_10_complaints_feb\n"
   ]
  },
  {
   "cell_type": "code",
   "execution_count": 862,
   "metadata": {},
   "outputs": [
    {
     "data": {
      "text/html": [
       "<div>\n",
       "<style scoped>\n",
       "    .dataframe tbody tr th:only-of-type {\n",
       "        vertical-align: middle;\n",
       "    }\n",
       "\n",
       "    .dataframe tbody tr th {\n",
       "        vertical-align: top;\n",
       "    }\n",
       "\n",
       "    .dataframe thead th {\n",
       "        text-align: right;\n",
       "    }\n",
       "</style>\n",
       "<table border=\"1\" class=\"dataframe\">\n",
       "  <thead>\n",
       "    <tr style=\"text-align: right;\">\n",
       "      <th></th>\n",
       "      <th>complaint_type</th>\n",
       "      <th>unique_key_count</th>\n",
       "      <th>Month</th>\n",
       "    </tr>\n",
       "  </thead>\n",
       "  <tbody>\n",
       "    <tr>\n",
       "      <th>1</th>\n",
       "      <td>Illegal Parking</td>\n",
       "      <td>43,167</td>\n",
       "      <td>March</td>\n",
       "    </tr>\n",
       "    <tr>\n",
       "      <th>2</th>\n",
       "      <td>Noise - Residential</td>\n",
       "      <td>24,896</td>\n",
       "      <td>March</td>\n",
       "    </tr>\n",
       "    <tr>\n",
       "      <th>3</th>\n",
       "      <td>HEAT/HOT WATER</td>\n",
       "      <td>24,809</td>\n",
       "      <td>March</td>\n",
       "    </tr>\n",
       "    <tr>\n",
       "      <th>4</th>\n",
       "      <td>Blocked Driveway</td>\n",
       "      <td>14,459</td>\n",
       "      <td>March</td>\n",
       "    </tr>\n",
       "    <tr>\n",
       "      <th>5</th>\n",
       "      <td>UNSANITARY CONDITION</td>\n",
       "      <td>8,984</td>\n",
       "      <td>March</td>\n",
       "    </tr>\n",
       "    <tr>\n",
       "      <th>6</th>\n",
       "      <td>Street Condition</td>\n",
       "      <td>8,142</td>\n",
       "      <td>March</td>\n",
       "    </tr>\n",
       "    <tr>\n",
       "      <th>7</th>\n",
       "      <td>Noise - Street/Sidewalk</td>\n",
       "      <td>7,609</td>\n",
       "      <td>March</td>\n",
       "    </tr>\n",
       "    <tr>\n",
       "      <th>8</th>\n",
       "      <td>Noise - Commercial</td>\n",
       "      <td>6,376</td>\n",
       "      <td>March</td>\n",
       "    </tr>\n",
       "    <tr>\n",
       "      <th>9</th>\n",
       "      <td>Abandoned Vehicle</td>\n",
       "      <td>6,159</td>\n",
       "      <td>March</td>\n",
       "    </tr>\n",
       "    <tr>\n",
       "      <th>10</th>\n",
       "      <td>PAINT/PLASTER</td>\n",
       "      <td>5,606</td>\n",
       "      <td>March</td>\n",
       "    </tr>\n",
       "  </tbody>\n",
       "</table>\n",
       "</div>"
      ],
      "text/plain": [
       "             complaint_type unique_key_count  Month\n",
       "1           Illegal Parking           43,167  March\n",
       "2       Noise - Residential           24,896  March\n",
       "3            HEAT/HOT WATER           24,809  March\n",
       "4          Blocked Driveway           14,459  March\n",
       "5      UNSANITARY CONDITION            8,984  March\n",
       "6          Street Condition            8,142  March\n",
       "7   Noise - Street/Sidewalk            7,609  March\n",
       "8        Noise - Commercial            6,376  March\n",
       "9         Abandoned Vehicle            6,159  March\n",
       "10            PAINT/PLASTER            5,606  March"
      ]
     },
     "execution_count": 862,
     "metadata": {},
     "output_type": "execute_result"
    }
   ],
   "source": [
    "#March analysis\n",
    "# Convert date strings to datetime objects\n",
    "start_date_march = pd.to_datetime('2024-03-01').date()\n",
    "end_date_march = pd.to_datetime('2024-03-31').date()\n",
    "\n",
    "top_10_complaints_march =  analyze_complaint_types(start_date_march, end_date_march, nyc311_service_line)\n",
    "top_10_complaints_march['Month'] = 'March'\n",
    "top_10_complaints_march\n"
   ]
  },
  {
   "cell_type": "code",
   "execution_count": 863,
   "metadata": {},
   "outputs": [
    {
     "data": {
      "application/vnd.plotly.v1+json": {
       "config": {
        "plotlyServerURL": "https://plot.ly"
       },
       "data": [
        {
         "alignmentgroup": "True",
         "hovertemplate": "Month=January<br>Complaint Types=%{x}<br>Number of Complaints=%{y}<extra></extra>",
         "legendgroup": "January",
         "marker": {
          "color": "rgb(158,202,225)",
          "pattern": {
           "shape": ""
          }
         },
         "name": "January",
         "offsetgroup": "January",
         "orientation": "v",
         "showlegend": true,
         "textposition": "auto",
         "type": "bar",
         "x": [
          "HEAT/HOT WATER",
          "Illegal Parking",
          "Noise - Residential",
          "Blocked Driveway",
          "UNSANITARY CONDITION",
          "PLUMBING",
          "PAINT/PLASTER",
          "Abandoned Vehicle",
          "WATER LEAK",
          "Traffic Signal Condition"
         ],
         "xaxis": "x",
         "y": [
          51325,
          41124,
          22091,
          14966,
          10720,
          6800,
          6755,
          6079,
          5863,
          5225
         ],
         "yaxis": "y"
        },
        {
         "alignmentgroup": "True",
         "hovertemplate": "Month=February<br>Complaint Types=%{x}<br>Number of Complaints=%{y}<extra></extra>",
         "legendgroup": "February",
         "marker": {
          "color": "rgb(135,206,235)",
          "pattern": {
           "shape": ""
          }
         },
         "name": "February",
         "offsetgroup": "February",
         "orientation": "v",
         "showlegend": true,
         "textposition": "auto",
         "type": "bar",
         "x": [
          "Illegal Parking",
          "HEAT/HOT WATER",
          "Noise - Residential",
          "Blocked Driveway",
          "UNSANITARY CONDITION",
          "Street Condition",
          "Abandoned Vehicle",
          "PLUMBING",
          "PAINT/PLASTER",
          "Noise - Commercial"
         ],
         "xaxis": "x",
         "y": [
          38792,
          30316,
          21511,
          13642,
          8488,
          5870,
          5387,
          5260,
          4970,
          4552
         ],
         "yaxis": "y"
        },
        {
         "alignmentgroup": "True",
         "hovertemplate": "Month=March<br>Complaint Types=%{x}<br>Number of Complaints=%{y}<extra></extra>",
         "legendgroup": "March",
         "marker": {
          "color": "rgb(70,130,180)",
          "pattern": {
           "shape": ""
          }
         },
         "name": "March",
         "offsetgroup": "March",
         "orientation": "v",
         "showlegend": true,
         "textposition": "auto",
         "type": "bar",
         "x": [
          "Illegal Parking",
          "Noise - Residential",
          "HEAT/HOT WATER",
          "Blocked Driveway",
          "UNSANITARY CONDITION",
          "Street Condition",
          "Noise - Street/Sidewalk",
          "Noise - Commercial",
          "Abandoned Vehicle",
          "PAINT/PLASTER"
         ],
         "xaxis": "x",
         "y": [
          43167,
          24896,
          24809,
          14459,
          8984,
          8142,
          7609,
          6376,
          6159,
          5606
         ],
         "yaxis": "y"
        }
       ],
       "layout": {
        "barmode": "group",
        "legend": {
         "title": {
          "text": "Month"
         },
         "tracegroupgap": 0
        },
        "template": {
         "data": {
          "bar": [
           {
            "error_x": {
             "color": "#2a3f5f"
            },
            "error_y": {
             "color": "#2a3f5f"
            },
            "marker": {
             "line": {
              "color": "#E5ECF6",
              "width": 0.5
             },
             "pattern": {
              "fillmode": "overlay",
              "size": 10,
              "solidity": 0.2
             }
            },
            "type": "bar"
           }
          ],
          "barpolar": [
           {
            "marker": {
             "line": {
              "color": "#E5ECF6",
              "width": 0.5
             },
             "pattern": {
              "fillmode": "overlay",
              "size": 10,
              "solidity": 0.2
             }
            },
            "type": "barpolar"
           }
          ],
          "carpet": [
           {
            "aaxis": {
             "endlinecolor": "#2a3f5f",
             "gridcolor": "white",
             "linecolor": "white",
             "minorgridcolor": "white",
             "startlinecolor": "#2a3f5f"
            },
            "baxis": {
             "endlinecolor": "#2a3f5f",
             "gridcolor": "white",
             "linecolor": "white",
             "minorgridcolor": "white",
             "startlinecolor": "#2a3f5f"
            },
            "type": "carpet"
           }
          ],
          "choropleth": [
           {
            "colorbar": {
             "outlinewidth": 0,
             "ticks": ""
            },
            "type": "choropleth"
           }
          ],
          "contour": [
           {
            "colorbar": {
             "outlinewidth": 0,
             "ticks": ""
            },
            "colorscale": [
             [
              0,
              "#0d0887"
             ],
             [
              0.1111111111111111,
              "#46039f"
             ],
             [
              0.2222222222222222,
              "#7201a8"
             ],
             [
              0.3333333333333333,
              "#9c179e"
             ],
             [
              0.4444444444444444,
              "#bd3786"
             ],
             [
              0.5555555555555556,
              "#d8576b"
             ],
             [
              0.6666666666666666,
              "#ed7953"
             ],
             [
              0.7777777777777778,
              "#fb9f3a"
             ],
             [
              0.8888888888888888,
              "#fdca26"
             ],
             [
              1,
              "#f0f921"
             ]
            ],
            "type": "contour"
           }
          ],
          "contourcarpet": [
           {
            "colorbar": {
             "outlinewidth": 0,
             "ticks": ""
            },
            "type": "contourcarpet"
           }
          ],
          "heatmap": [
           {
            "colorbar": {
             "outlinewidth": 0,
             "ticks": ""
            },
            "colorscale": [
             [
              0,
              "#0d0887"
             ],
             [
              0.1111111111111111,
              "#46039f"
             ],
             [
              0.2222222222222222,
              "#7201a8"
             ],
             [
              0.3333333333333333,
              "#9c179e"
             ],
             [
              0.4444444444444444,
              "#bd3786"
             ],
             [
              0.5555555555555556,
              "#d8576b"
             ],
             [
              0.6666666666666666,
              "#ed7953"
             ],
             [
              0.7777777777777778,
              "#fb9f3a"
             ],
             [
              0.8888888888888888,
              "#fdca26"
             ],
             [
              1,
              "#f0f921"
             ]
            ],
            "type": "heatmap"
           }
          ],
          "heatmapgl": [
           {
            "colorbar": {
             "outlinewidth": 0,
             "ticks": ""
            },
            "colorscale": [
             [
              0,
              "#0d0887"
             ],
             [
              0.1111111111111111,
              "#46039f"
             ],
             [
              0.2222222222222222,
              "#7201a8"
             ],
             [
              0.3333333333333333,
              "#9c179e"
             ],
             [
              0.4444444444444444,
              "#bd3786"
             ],
             [
              0.5555555555555556,
              "#d8576b"
             ],
             [
              0.6666666666666666,
              "#ed7953"
             ],
             [
              0.7777777777777778,
              "#fb9f3a"
             ],
             [
              0.8888888888888888,
              "#fdca26"
             ],
             [
              1,
              "#f0f921"
             ]
            ],
            "type": "heatmapgl"
           }
          ],
          "histogram": [
           {
            "marker": {
             "pattern": {
              "fillmode": "overlay",
              "size": 10,
              "solidity": 0.2
             }
            },
            "type": "histogram"
           }
          ],
          "histogram2d": [
           {
            "colorbar": {
             "outlinewidth": 0,
             "ticks": ""
            },
            "colorscale": [
             [
              0,
              "#0d0887"
             ],
             [
              0.1111111111111111,
              "#46039f"
             ],
             [
              0.2222222222222222,
              "#7201a8"
             ],
             [
              0.3333333333333333,
              "#9c179e"
             ],
             [
              0.4444444444444444,
              "#bd3786"
             ],
             [
              0.5555555555555556,
              "#d8576b"
             ],
             [
              0.6666666666666666,
              "#ed7953"
             ],
             [
              0.7777777777777778,
              "#fb9f3a"
             ],
             [
              0.8888888888888888,
              "#fdca26"
             ],
             [
              1,
              "#f0f921"
             ]
            ],
            "type": "histogram2d"
           }
          ],
          "histogram2dcontour": [
           {
            "colorbar": {
             "outlinewidth": 0,
             "ticks": ""
            },
            "colorscale": [
             [
              0,
              "#0d0887"
             ],
             [
              0.1111111111111111,
              "#46039f"
             ],
             [
              0.2222222222222222,
              "#7201a8"
             ],
             [
              0.3333333333333333,
              "#9c179e"
             ],
             [
              0.4444444444444444,
              "#bd3786"
             ],
             [
              0.5555555555555556,
              "#d8576b"
             ],
             [
              0.6666666666666666,
              "#ed7953"
             ],
             [
              0.7777777777777778,
              "#fb9f3a"
             ],
             [
              0.8888888888888888,
              "#fdca26"
             ],
             [
              1,
              "#f0f921"
             ]
            ],
            "type": "histogram2dcontour"
           }
          ],
          "mesh3d": [
           {
            "colorbar": {
             "outlinewidth": 0,
             "ticks": ""
            },
            "type": "mesh3d"
           }
          ],
          "parcoords": [
           {
            "line": {
             "colorbar": {
              "outlinewidth": 0,
              "ticks": ""
             }
            },
            "type": "parcoords"
           }
          ],
          "pie": [
           {
            "automargin": true,
            "type": "pie"
           }
          ],
          "scatter": [
           {
            "fillpattern": {
             "fillmode": "overlay",
             "size": 10,
             "solidity": 0.2
            },
            "type": "scatter"
           }
          ],
          "scatter3d": [
           {
            "line": {
             "colorbar": {
              "outlinewidth": 0,
              "ticks": ""
             }
            },
            "marker": {
             "colorbar": {
              "outlinewidth": 0,
              "ticks": ""
             }
            },
            "type": "scatter3d"
           }
          ],
          "scattercarpet": [
           {
            "marker": {
             "colorbar": {
              "outlinewidth": 0,
              "ticks": ""
             }
            },
            "type": "scattercarpet"
           }
          ],
          "scattergeo": [
           {
            "marker": {
             "colorbar": {
              "outlinewidth": 0,
              "ticks": ""
             }
            },
            "type": "scattergeo"
           }
          ],
          "scattergl": [
           {
            "marker": {
             "colorbar": {
              "outlinewidth": 0,
              "ticks": ""
             }
            },
            "type": "scattergl"
           }
          ],
          "scattermapbox": [
           {
            "marker": {
             "colorbar": {
              "outlinewidth": 0,
              "ticks": ""
             }
            },
            "type": "scattermapbox"
           }
          ],
          "scatterpolar": [
           {
            "marker": {
             "colorbar": {
              "outlinewidth": 0,
              "ticks": ""
             }
            },
            "type": "scatterpolar"
           }
          ],
          "scatterpolargl": [
           {
            "marker": {
             "colorbar": {
              "outlinewidth": 0,
              "ticks": ""
             }
            },
            "type": "scatterpolargl"
           }
          ],
          "scatterternary": [
           {
            "marker": {
             "colorbar": {
              "outlinewidth": 0,
              "ticks": ""
             }
            },
            "type": "scatterternary"
           }
          ],
          "surface": [
           {
            "colorbar": {
             "outlinewidth": 0,
             "ticks": ""
            },
            "colorscale": [
             [
              0,
              "#0d0887"
             ],
             [
              0.1111111111111111,
              "#46039f"
             ],
             [
              0.2222222222222222,
              "#7201a8"
             ],
             [
              0.3333333333333333,
              "#9c179e"
             ],
             [
              0.4444444444444444,
              "#bd3786"
             ],
             [
              0.5555555555555556,
              "#d8576b"
             ],
             [
              0.6666666666666666,
              "#ed7953"
             ],
             [
              0.7777777777777778,
              "#fb9f3a"
             ],
             [
              0.8888888888888888,
              "#fdca26"
             ],
             [
              1,
              "#f0f921"
             ]
            ],
            "type": "surface"
           }
          ],
          "table": [
           {
            "cells": {
             "fill": {
              "color": "#EBF0F8"
             },
             "line": {
              "color": "white"
             }
            },
            "header": {
             "fill": {
              "color": "#C8D4E3"
             },
             "line": {
              "color": "white"
             }
            },
            "type": "table"
           }
          ]
         },
         "layout": {
          "annotationdefaults": {
           "arrowcolor": "#2a3f5f",
           "arrowhead": 0,
           "arrowwidth": 1
          },
          "autotypenumbers": "strict",
          "coloraxis": {
           "colorbar": {
            "outlinewidth": 0,
            "ticks": ""
           }
          },
          "colorscale": {
           "diverging": [
            [
             0,
             "#8e0152"
            ],
            [
             0.1,
             "#c51b7d"
            ],
            [
             0.2,
             "#de77ae"
            ],
            [
             0.3,
             "#f1b6da"
            ],
            [
             0.4,
             "#fde0ef"
            ],
            [
             0.5,
             "#f7f7f7"
            ],
            [
             0.6,
             "#e6f5d0"
            ],
            [
             0.7,
             "#b8e186"
            ],
            [
             0.8,
             "#7fbc41"
            ],
            [
             0.9,
             "#4d9221"
            ],
            [
             1,
             "#276419"
            ]
           ],
           "sequential": [
            [
             0,
             "#0d0887"
            ],
            [
             0.1111111111111111,
             "#46039f"
            ],
            [
             0.2222222222222222,
             "#7201a8"
            ],
            [
             0.3333333333333333,
             "#9c179e"
            ],
            [
             0.4444444444444444,
             "#bd3786"
            ],
            [
             0.5555555555555556,
             "#d8576b"
            ],
            [
             0.6666666666666666,
             "#ed7953"
            ],
            [
             0.7777777777777778,
             "#fb9f3a"
            ],
            [
             0.8888888888888888,
             "#fdca26"
            ],
            [
             1,
             "#f0f921"
            ]
           ],
           "sequentialminus": [
            [
             0,
             "#0d0887"
            ],
            [
             0.1111111111111111,
             "#46039f"
            ],
            [
             0.2222222222222222,
             "#7201a8"
            ],
            [
             0.3333333333333333,
             "#9c179e"
            ],
            [
             0.4444444444444444,
             "#bd3786"
            ],
            [
             0.5555555555555556,
             "#d8576b"
            ],
            [
             0.6666666666666666,
             "#ed7953"
            ],
            [
             0.7777777777777778,
             "#fb9f3a"
            ],
            [
             0.8888888888888888,
             "#fdca26"
            ],
            [
             1,
             "#f0f921"
            ]
           ]
          },
          "colorway": [
           "#636efa",
           "#EF553B",
           "#00cc96",
           "#ab63fa",
           "#FFA15A",
           "#19d3f3",
           "#FF6692",
           "#B6E880",
           "#FF97FF",
           "#FECB52"
          ],
          "font": {
           "color": "#2a3f5f"
          },
          "geo": {
           "bgcolor": "white",
           "lakecolor": "white",
           "landcolor": "#E5ECF6",
           "showlakes": true,
           "showland": true,
           "subunitcolor": "white"
          },
          "hoverlabel": {
           "align": "left"
          },
          "hovermode": "closest",
          "mapbox": {
           "style": "light"
          },
          "paper_bgcolor": "white",
          "plot_bgcolor": "#E5ECF6",
          "polar": {
           "angularaxis": {
            "gridcolor": "white",
            "linecolor": "white",
            "ticks": ""
           },
           "bgcolor": "#E5ECF6",
           "radialaxis": {
            "gridcolor": "white",
            "linecolor": "white",
            "ticks": ""
           }
          },
          "scene": {
           "xaxis": {
            "backgroundcolor": "#E5ECF6",
            "gridcolor": "white",
            "gridwidth": 2,
            "linecolor": "white",
            "showbackground": true,
            "ticks": "",
            "zerolinecolor": "white"
           },
           "yaxis": {
            "backgroundcolor": "#E5ECF6",
            "gridcolor": "white",
            "gridwidth": 2,
            "linecolor": "white",
            "showbackground": true,
            "ticks": "",
            "zerolinecolor": "white"
           },
           "zaxis": {
            "backgroundcolor": "#E5ECF6",
            "gridcolor": "white",
            "gridwidth": 2,
            "linecolor": "white",
            "showbackground": true,
            "ticks": "",
            "zerolinecolor": "white"
           }
          },
          "shapedefaults": {
           "line": {
            "color": "#2a3f5f"
           }
          },
          "ternary": {
           "aaxis": {
            "gridcolor": "white",
            "linecolor": "white",
            "ticks": ""
           },
           "baxis": {
            "gridcolor": "white",
            "linecolor": "white",
            "ticks": ""
           },
           "bgcolor": "#E5ECF6",
           "caxis": {
            "gridcolor": "white",
            "linecolor": "white",
            "ticks": ""
           }
          },
          "title": {
           "x": 0.05
          },
          "xaxis": {
           "automargin": true,
           "gridcolor": "white",
           "linecolor": "white",
           "ticks": "",
           "title": {
            "standoff": 15
           },
           "zerolinecolor": "white",
           "zerolinewidth": 2
          },
          "yaxis": {
           "automargin": true,
           "gridcolor": "white",
           "linecolor": "white",
           "ticks": "",
           "title": {
            "standoff": 15
           },
           "zerolinecolor": "white",
           "zerolinewidth": 2
          }
         }
        },
        "title": {
         "text": "Top 10 Complaint Types Over Time"
        },
        "xaxis": {
         "anchor": "y",
         "domain": [
          0,
          1
         ],
         "tickangle": -45,
         "title": {
          "text": "Complaint Types"
         }
        },
        "yaxis": {
         "anchor": "x",
         "domain": [
          0,
          1
         ],
         "title": {
          "text": "Number of Complaints"
         }
        }
       }
      }
     },
     "metadata": {},
     "output_type": "display_data"
    }
   ],
   "source": [
    "#Here we're concatenating our code in order to built a bar chart presentating the fluctuation of complaint types for those three months \n",
    "\n",
    "# Combine the dataframes\n",
    "combined_df = pd.concat([top_10_complaints_jan, top_10_complaints_feb, top_10_complaints_march], ignore_index=True)\n",
    "\n",
    "# Ensure 'unique_key_count' is numeric\n",
    "combined_df['unique_key_count'] = combined_df['unique_key_count'].str.replace(',', '').astype(int)\n",
    "# ------------------------------------\n",
    "\n",
    "# Define colors\n",
    "colors = {\n",
    "    'January': 'rgb(158,202,225)',\n",
    "    'February': 'rgb(135,206,235)',  # Sky Blue\n",
    "    'March': 'rgb(70,130,180)'       # Steel Blue\n",
    "}\n",
    "\n",
    "# Create the bar chart\n",
    "fig_top_10_complaints_overtime = px.bar(\n",
    "    combined_df, \n",
    "    x='complaint_type', \n",
    "    y='unique_key_count', \n",
    "    color='Month', \n",
    "    color_discrete_map=colors,  # Apply color scheme\n",
    "    barmode='group',            # Group bars by month\n",
    "    title=\"Top 10 Complaint Types Over Time\",\n",
    "    labels={'complaint_type': 'Complaint Types', 'unique_key_count': 'Number of Complaints'}\n",
    ")\n",
    "\n",
    "# Customize the layout\n",
    "fig_top_10_complaints_overtime.update_layout(\n",
    "    xaxis_title='Complaint Types',\n",
    "    yaxis_title='Number of Complaints',\n",
    "    xaxis_tickangle=-45  # Rotate x-axis labels for better readability\n",
    ")\n",
    "\n",
    "# Show the plot\n",
    "fig_top_10_complaints_overtime.show()"
   ]
  },
  {
   "cell_type": "code",
   "execution_count": 864,
   "metadata": {},
   "outputs": [
    {
     "data": {
      "text/html": [
       "<div>\n",
       "<style scoped>\n",
       "    .dataframe tbody tr th:only-of-type {\n",
       "        vertical-align: middle;\n",
       "    }\n",
       "\n",
       "    .dataframe tbody tr th {\n",
       "        vertical-align: top;\n",
       "    }\n",
       "\n",
       "    .dataframe thead th {\n",
       "        text-align: right;\n",
       "    }\n",
       "</style>\n",
       "<table border=\"1\" class=\"dataframe\">\n",
       "  <thead>\n",
       "    <tr style=\"text-align: right;\">\n",
       "      <th></th>\n",
       "      <th></th>\n",
       "      <th>complaint_type</th>\n",
       "      <th>unique_key</th>\n",
       "    </tr>\n",
       "    <tr>\n",
       "      <th>borough</th>\n",
       "      <th>rank</th>\n",
       "      <th></th>\n",
       "      <th></th>\n",
       "    </tr>\n",
       "  </thead>\n",
       "  <tbody>\n",
       "    <tr>\n",
       "      <th rowspan=\"10\" valign=\"top\">BRONX</th>\n",
       "      <th>1</th>\n",
       "      <td>HEAT/HOT WATER</td>\n",
       "      <td>39,312</td>\n",
       "    </tr>\n",
       "    <tr>\n",
       "      <th>2</th>\n",
       "      <td>Illegal Parking</td>\n",
       "      <td>18,466</td>\n",
       "    </tr>\n",
       "    <tr>\n",
       "      <th>3</th>\n",
       "      <td>Noise - Residential</td>\n",
       "      <td>17,944</td>\n",
       "    </tr>\n",
       "    <tr>\n",
       "      <th>4</th>\n",
       "      <td>UNSANITARY CONDITION</td>\n",
       "      <td>9,521</td>\n",
       "    </tr>\n",
       "    <tr>\n",
       "      <th>5</th>\n",
       "      <td>Blocked Driveway</td>\n",
       "      <td>6,367</td>\n",
       "    </tr>\n",
       "    <tr>\n",
       "      <th>6</th>\n",
       "      <td>PAINT/PLASTER</td>\n",
       "      <td>6,306</td>\n",
       "    </tr>\n",
       "    <tr>\n",
       "      <th>7</th>\n",
       "      <td>PLUMBING</td>\n",
       "      <td>6,059</td>\n",
       "    </tr>\n",
       "    <tr>\n",
       "      <th>8</th>\n",
       "      <td>WATER LEAK</td>\n",
       "      <td>4,517</td>\n",
       "    </tr>\n",
       "    <tr>\n",
       "      <th>9</th>\n",
       "      <td>DOOR/WINDOW</td>\n",
       "      <td>4,488</td>\n",
       "    </tr>\n",
       "    <tr>\n",
       "      <th>10</th>\n",
       "      <td>Derelict Vehicles</td>\n",
       "      <td>2,953</td>\n",
       "    </tr>\n",
       "    <tr>\n",
       "      <th rowspan=\"10\" valign=\"top\">BROOKLYN</th>\n",
       "      <th>1</th>\n",
       "      <td>Illegal Parking</td>\n",
       "      <td>47,599</td>\n",
       "    </tr>\n",
       "    <tr>\n",
       "      <th>2</th>\n",
       "      <td>HEAT/HOT WATER</td>\n",
       "      <td>26,906</td>\n",
       "    </tr>\n",
       "    <tr>\n",
       "      <th>3</th>\n",
       "      <td>Noise - Residential</td>\n",
       "      <td>20,500</td>\n",
       "    </tr>\n",
       "    <tr>\n",
       "      <th>4</th>\n",
       "      <td>Blocked Driveway</td>\n",
       "      <td>16,436</td>\n",
       "    </tr>\n",
       "    <tr>\n",
       "      <th>5</th>\n",
       "      <td>UNSANITARY CONDITION</td>\n",
       "      <td>8,458</td>\n",
       "    </tr>\n",
       "    <tr>\n",
       "      <th>6</th>\n",
       "      <td>Abandoned Vehicle</td>\n",
       "      <td>6,557</td>\n",
       "    </tr>\n",
       "    <tr>\n",
       "      <th>7</th>\n",
       "      <td>PLUMBING</td>\n",
       "      <td>5,142</td>\n",
       "    </tr>\n",
       "    <tr>\n",
       "      <th>8</th>\n",
       "      <td>PAINT/PLASTER</td>\n",
       "      <td>5,120</td>\n",
       "    </tr>\n",
       "    <tr>\n",
       "      <th>9</th>\n",
       "      <td>Noise - Commercial</td>\n",
       "      <td>4,878</td>\n",
       "    </tr>\n",
       "    <tr>\n",
       "      <th>10</th>\n",
       "      <td>WATER LEAK</td>\n",
       "      <td>4,770</td>\n",
       "    </tr>\n",
       "    <tr>\n",
       "      <th rowspan=\"10\" valign=\"top\">MANHATTAN</th>\n",
       "      <th>1</th>\n",
       "      <td>HEAT/HOT WATER</td>\n",
       "      <td>23,341</td>\n",
       "    </tr>\n",
       "    <tr>\n",
       "      <th>2</th>\n",
       "      <td>Illegal Parking</td>\n",
       "      <td>17,072</td>\n",
       "    </tr>\n",
       "    <tr>\n",
       "      <th>3</th>\n",
       "      <td>Noise - Residential</td>\n",
       "      <td>14,808</td>\n",
       "    </tr>\n",
       "    <tr>\n",
       "      <th>4</th>\n",
       "      <td>Noise - Street/Sidewalk</td>\n",
       "      <td>6,538</td>\n",
       "    </tr>\n",
       "    <tr>\n",
       "      <th>5</th>\n",
       "      <td>Noise - Commercial</td>\n",
       "      <td>5,370</td>\n",
       "    </tr>\n",
       "    <tr>\n",
       "      <th>6</th>\n",
       "      <td>Noise</td>\n",
       "      <td>5,360</td>\n",
       "    </tr>\n",
       "    <tr>\n",
       "      <th>7</th>\n",
       "      <td>UNSANITARY CONDITION</td>\n",
       "      <td>5,335</td>\n",
       "    </tr>\n",
       "    <tr>\n",
       "      <th>8</th>\n",
       "      <td>Noise - Helicopter</td>\n",
       "      <td>4,686</td>\n",
       "    </tr>\n",
       "    <tr>\n",
       "      <th>9</th>\n",
       "      <td>Encampment</td>\n",
       "      <td>4,672</td>\n",
       "    </tr>\n",
       "    <tr>\n",
       "      <th>10</th>\n",
       "      <td>For Hire Vehicle Complaint</td>\n",
       "      <td>3,855</td>\n",
       "    </tr>\n",
       "    <tr>\n",
       "      <th rowspan=\"10\" valign=\"top\">QUEENS</th>\n",
       "      <th>1</th>\n",
       "      <td>Illegal Parking</td>\n",
       "      <td>36,358</td>\n",
       "    </tr>\n",
       "    <tr>\n",
       "      <th>2</th>\n",
       "      <td>Blocked Driveway</td>\n",
       "      <td>17,947</td>\n",
       "    </tr>\n",
       "    <tr>\n",
       "      <th>3</th>\n",
       "      <td>HEAT/HOT WATER</td>\n",
       "      <td>15,756</td>\n",
       "    </tr>\n",
       "    <tr>\n",
       "      <th>4</th>\n",
       "      <td>Noise - Residential</td>\n",
       "      <td>13,720</td>\n",
       "    </tr>\n",
       "    <tr>\n",
       "      <th>5</th>\n",
       "      <td>Abandoned Vehicle</td>\n",
       "      <td>6,980</td>\n",
       "    </tr>\n",
       "    <tr>\n",
       "      <th>6</th>\n",
       "      <td>Street Condition</td>\n",
       "      <td>6,771</td>\n",
       "    </tr>\n",
       "    <tr>\n",
       "      <th>7</th>\n",
       "      <td>UNSANITARY CONDITION</td>\n",
       "      <td>4,209</td>\n",
       "    </tr>\n",
       "    <tr>\n",
       "      <th>8</th>\n",
       "      <td>Derelict Vehicles</td>\n",
       "      <td>3,948</td>\n",
       "    </tr>\n",
       "    <tr>\n",
       "      <th>9</th>\n",
       "      <td>Traffic Signal Condition</td>\n",
       "      <td>3,883</td>\n",
       "    </tr>\n",
       "    <tr>\n",
       "      <th>10</th>\n",
       "      <td>Drug Activity</td>\n",
       "      <td>3,729</td>\n",
       "    </tr>\n",
       "    <tr>\n",
       "      <th rowspan=\"10\" valign=\"top\">STATEN ISLAND</th>\n",
       "      <th>1</th>\n",
       "      <td>Illegal Parking</td>\n",
       "      <td>3,580</td>\n",
       "    </tr>\n",
       "    <tr>\n",
       "      <th>2</th>\n",
       "      <td>Street Condition</td>\n",
       "      <td>2,466</td>\n",
       "    </tr>\n",
       "    <tr>\n",
       "      <th>3</th>\n",
       "      <td>Noise - Residential</td>\n",
       "      <td>1,524</td>\n",
       "    </tr>\n",
       "    <tr>\n",
       "      <th>4</th>\n",
       "      <td>Abandoned Vehicle</td>\n",
       "      <td>1,142</td>\n",
       "    </tr>\n",
       "    <tr>\n",
       "      <th>5</th>\n",
       "      <td>HEAT/HOT WATER</td>\n",
       "      <td>1,135</td>\n",
       "    </tr>\n",
       "    <tr>\n",
       "      <th>6</th>\n",
       "      <td>Blocked Driveway</td>\n",
       "      <td>1,131</td>\n",
       "    </tr>\n",
       "    <tr>\n",
       "      <th>7</th>\n",
       "      <td>Water System</td>\n",
       "      <td>1,038</td>\n",
       "    </tr>\n",
       "    <tr>\n",
       "      <th>8</th>\n",
       "      <td>Sewer</td>\n",
       "      <td>901</td>\n",
       "    </tr>\n",
       "    <tr>\n",
       "      <th>9</th>\n",
       "      <td>Dirty Condition</td>\n",
       "      <td>816</td>\n",
       "    </tr>\n",
       "    <tr>\n",
       "      <th>10</th>\n",
       "      <td>Missed Collection</td>\n",
       "      <td>754</td>\n",
       "    </tr>\n",
       "    <tr>\n",
       "      <th rowspan=\"10\" valign=\"top\">Unspecified</th>\n",
       "      <th>1</th>\n",
       "      <td>Ferry Inquiry</td>\n",
       "      <td>75</td>\n",
       "    </tr>\n",
       "    <tr>\n",
       "      <th>2</th>\n",
       "      <td>Taxi Complaint</td>\n",
       "      <td>71</td>\n",
       "    </tr>\n",
       "    <tr>\n",
       "      <th>3</th>\n",
       "      <td>Traffic Signal Condition</td>\n",
       "      <td>63</td>\n",
       "    </tr>\n",
       "    <tr>\n",
       "      <th>4</th>\n",
       "      <td>For Hire Vehicle Complaint</td>\n",
       "      <td>57</td>\n",
       "    </tr>\n",
       "    <tr>\n",
       "      <th>5</th>\n",
       "      <td>Ferry Complaint</td>\n",
       "      <td>55</td>\n",
       "    </tr>\n",
       "    <tr>\n",
       "      <th>6</th>\n",
       "      <td>Derelict Vehicles</td>\n",
       "      <td>48</td>\n",
       "    </tr>\n",
       "    <tr>\n",
       "      <th>7</th>\n",
       "      <td>Street Condition</td>\n",
       "      <td>45</td>\n",
       "    </tr>\n",
       "    <tr>\n",
       "      <th>8</th>\n",
       "      <td>Consumer Complaint</td>\n",
       "      <td>43</td>\n",
       "    </tr>\n",
       "    <tr>\n",
       "      <th>9</th>\n",
       "      <td>Food Establishment</td>\n",
       "      <td>31</td>\n",
       "    </tr>\n",
       "    <tr>\n",
       "      <th>10</th>\n",
       "      <td>Street Light Condition</td>\n",
       "      <td>22</td>\n",
       "    </tr>\n",
       "  </tbody>\n",
       "</table>\n",
       "</div>"
      ],
      "text/plain": [
       "                                complaint_type unique_key\n",
       "borough       rank                                       \n",
       "BRONX         1                 HEAT/HOT WATER     39,312\n",
       "              2                Illegal Parking     18,466\n",
       "              3            Noise - Residential     17,944\n",
       "              4           UNSANITARY CONDITION      9,521\n",
       "              5               Blocked Driveway      6,367\n",
       "              6                  PAINT/PLASTER      6,306\n",
       "              7                       PLUMBING      6,059\n",
       "              8                     WATER LEAK      4,517\n",
       "              9                    DOOR/WINDOW      4,488\n",
       "              10             Derelict Vehicles      2,953\n",
       "BROOKLYN      1                Illegal Parking     47,599\n",
       "              2                 HEAT/HOT WATER     26,906\n",
       "              3            Noise - Residential     20,500\n",
       "              4               Blocked Driveway     16,436\n",
       "              5           UNSANITARY CONDITION      8,458\n",
       "              6              Abandoned Vehicle      6,557\n",
       "              7                       PLUMBING      5,142\n",
       "              8                  PAINT/PLASTER      5,120\n",
       "              9             Noise - Commercial      4,878\n",
       "              10                    WATER LEAK      4,770\n",
       "MANHATTAN     1                 HEAT/HOT WATER     23,341\n",
       "              2                Illegal Parking     17,072\n",
       "              3            Noise - Residential     14,808\n",
       "              4        Noise - Street/Sidewalk      6,538\n",
       "              5             Noise - Commercial      5,370\n",
       "              6                          Noise      5,360\n",
       "              7           UNSANITARY CONDITION      5,335\n",
       "              8             Noise - Helicopter      4,686\n",
       "              9                     Encampment      4,672\n",
       "              10    For Hire Vehicle Complaint      3,855\n",
       "QUEENS        1                Illegal Parking     36,358\n",
       "              2               Blocked Driveway     17,947\n",
       "              3                 HEAT/HOT WATER     15,756\n",
       "              4            Noise - Residential     13,720\n",
       "              5              Abandoned Vehicle      6,980\n",
       "              6               Street Condition      6,771\n",
       "              7           UNSANITARY CONDITION      4,209\n",
       "              8              Derelict Vehicles      3,948\n",
       "              9       Traffic Signal Condition      3,883\n",
       "              10                 Drug Activity      3,729\n",
       "STATEN ISLAND 1                Illegal Parking      3,580\n",
       "              2               Street Condition      2,466\n",
       "              3            Noise - Residential      1,524\n",
       "              4              Abandoned Vehicle      1,142\n",
       "              5                 HEAT/HOT WATER      1,135\n",
       "              6               Blocked Driveway      1,131\n",
       "              7                   Water System      1,038\n",
       "              8                          Sewer        901\n",
       "              9                Dirty Condition        816\n",
       "              10             Missed Collection        754\n",
       "Unspecified   1                  Ferry Inquiry         75\n",
       "              2                 Taxi Complaint         71\n",
       "              3       Traffic Signal Condition         63\n",
       "              4     For Hire Vehicle Complaint         57\n",
       "              5                Ferry Complaint         55\n",
       "              6              Derelict Vehicles         48\n",
       "              7               Street Condition         45\n",
       "              8             Consumer Complaint         43\n",
       "              9             Food Establishment         31\n",
       "              10        Street Light Condition         22"
      ]
     },
     "execution_count": 864,
     "metadata": {},
     "output_type": "execute_result"
    }
   ],
   "source": [
    "#here we decided to dive deeper and make the same analysis but by borough\n",
    "\n",
    "# borough_index311 = nyc311_service_line.set_index(['borough', 'complaint_type'])\n",
    "complaints_by_borough = nyc311_service_line.groupby([\"borough\", \"complaint_type\"])[\"unique_key\"].count().reset_index()\n",
    "complaints_by_borough_sorted = complaints_by_borough.sort_values(by=['borough', 'unique_key'], ascending=[True, False])\n",
    "top_10_complaints_by_borough = complaints_by_borough_sorted.groupby('borough').head(10).reset_index(drop=True)\n",
    "top_10_complaints_by_borough['rank'] = top_10_complaints_by_borough.groupby('borough').cumcount( ascending= True)+1\n",
    "top_10_complaints_by_borough.set_index(['borough', 'rank'], inplace=True)\n",
    "top_10_complaints_by_borough['unique_key'] = top_10_complaints_by_borough['unique_key'].map(\"{:,}\".format)\n",
    "top_10_complaints_by_borough\n"
   ]
  },
  {
   "cell_type": "markdown",
   "metadata": {},
   "source": [
    "### Resolution Time Per Complaint (top 10)\n",
    "---"
   ]
  },
  {
   "cell_type": "code",
   "execution_count": 865,
   "metadata": {},
   "outputs": [
    {
     "data": {
      "text/html": [
       "<div>\n",
       "<style scoped>\n",
       "    .dataframe tbody tr th:only-of-type {\n",
       "        vertical-align: middle;\n",
       "    }\n",
       "\n",
       "    .dataframe tbody tr th {\n",
       "        vertical-align: top;\n",
       "    }\n",
       "\n",
       "    .dataframe thead th {\n",
       "        text-align: right;\n",
       "    }\n",
       "</style>\n",
       "<table border=\"1\" class=\"dataframe\">\n",
       "  <thead>\n",
       "    <tr style=\"text-align: right;\">\n",
       "      <th></th>\n",
       "      <th>complaint_type</th>\n",
       "      <th>resolution_response_time</th>\n",
       "      <th>total_hours</th>\n",
       "      <th>days</th>\n",
       "      <th>hours</th>\n",
       "      <th>minutes</th>\n",
       "      <th>seconds</th>\n",
       "    </tr>\n",
       "  </thead>\n",
       "  <tbody>\n",
       "    <tr>\n",
       "      <th>1</th>\n",
       "      <td>UNSANITARY CONDITION</td>\n",
       "      <td>24 days 05:20:10.163406340</td>\n",
       "      <td>581</td>\n",
       "      <td>24</td>\n",
       "      <td>5</td>\n",
       "      <td>20</td>\n",
       "      <td>10</td>\n",
       "    </tr>\n",
       "    <tr>\n",
       "      <th>2</th>\n",
       "      <td>PLUMBING</td>\n",
       "      <td>22 days 09:48:49.939009588</td>\n",
       "      <td>537</td>\n",
       "      <td>22</td>\n",
       "      <td>9</td>\n",
       "      <td>48</td>\n",
       "      <td>49</td>\n",
       "    </tr>\n",
       "    <tr>\n",
       "      <th>3</th>\n",
       "      <td>PAINT/PLASTER</td>\n",
       "      <td>19 days 22:11:28.008928571</td>\n",
       "      <td>478</td>\n",
       "      <td>19</td>\n",
       "      <td>22</td>\n",
       "      <td>11</td>\n",
       "      <td>28</td>\n",
       "    </tr>\n",
       "    <tr>\n",
       "      <th>4</th>\n",
       "      <td>Street Condition</td>\n",
       "      <td>2 days 07:59:53.776801683</td>\n",
       "      <td>55</td>\n",
       "      <td>2</td>\n",
       "      <td>7</td>\n",
       "      <td>59</td>\n",
       "      <td>53</td>\n",
       "    </tr>\n",
       "    <tr>\n",
       "      <th>5</th>\n",
       "      <td>HEAT/HOT WATER</td>\n",
       "      <td>1 days 02:54:16.860314246</td>\n",
       "      <td>26</td>\n",
       "      <td>1</td>\n",
       "      <td>2</td>\n",
       "      <td>54</td>\n",
       "      <td>16</td>\n",
       "    </tr>\n",
       "    <tr>\n",
       "      <th>6</th>\n",
       "      <td>Abandoned Vehicle</td>\n",
       "      <td>0 days 03:30:40.776794326</td>\n",
       "      <td>3</td>\n",
       "      <td>0</td>\n",
       "      <td>3</td>\n",
       "      <td>30</td>\n",
       "      <td>40</td>\n",
       "    </tr>\n",
       "    <tr>\n",
       "      <th>7</th>\n",
       "      <td>Blocked Driveway</td>\n",
       "      <td>0 days 02:44:07.980773696</td>\n",
       "      <td>2</td>\n",
       "      <td>0</td>\n",
       "      <td>2</td>\n",
       "      <td>44</td>\n",
       "      <td>7</td>\n",
       "    </tr>\n",
       "    <tr>\n",
       "      <th>8</th>\n",
       "      <td>Illegal Parking</td>\n",
       "      <td>0 days 02:26:27.249928909</td>\n",
       "      <td>2</td>\n",
       "      <td>0</td>\n",
       "      <td>2</td>\n",
       "      <td>26</td>\n",
       "      <td>27</td>\n",
       "    </tr>\n",
       "    <tr>\n",
       "      <th>9</th>\n",
       "      <td>Noise - Residential</td>\n",
       "      <td>0 days 01:10:32.740926742</td>\n",
       "      <td>1</td>\n",
       "      <td>0</td>\n",
       "      <td>1</td>\n",
       "      <td>10</td>\n",
       "      <td>32</td>\n",
       "    </tr>\n",
       "    <tr>\n",
       "      <th>10</th>\n",
       "      <td>Noise - Street/Sidewalk</td>\n",
       "      <td>0 days 00:50:57.662638341</td>\n",
       "      <td>0</td>\n",
       "      <td>0</td>\n",
       "      <td>0</td>\n",
       "      <td>50</td>\n",
       "      <td>57</td>\n",
       "    </tr>\n",
       "  </tbody>\n",
       "</table>\n",
       "</div>"
      ],
      "text/plain": [
       "             complaint_type   resolution_response_time  total_hours  days  \\\n",
       "1      UNSANITARY CONDITION 24 days 05:20:10.163406340          581    24   \n",
       "2                  PLUMBING 22 days 09:48:49.939009588          537    22   \n",
       "3             PAINT/PLASTER 19 days 22:11:28.008928571          478    19   \n",
       "4          Street Condition  2 days 07:59:53.776801683           55     2   \n",
       "5            HEAT/HOT WATER  1 days 02:54:16.860314246           26     1   \n",
       "6         Abandoned Vehicle  0 days 03:30:40.776794326            3     0   \n",
       "7          Blocked Driveway  0 days 02:44:07.980773696            2     0   \n",
       "8           Illegal Parking  0 days 02:26:27.249928909            2     0   \n",
       "9       Noise - Residential  0 days 01:10:32.740926742            1     0   \n",
       "10  Noise - Street/Sidewalk  0 days 00:50:57.662638341            0     0   \n",
       "\n",
       "    hours  minutes  seconds  \n",
       "1       5       20       10  \n",
       "2       9       48       49  \n",
       "3      22       11       28  \n",
       "4       7       59       53  \n",
       "5       2       54       16  \n",
       "6       3       30       40  \n",
       "7       2       44        7  \n",
       "8       2       26       27  \n",
       "9       1       10       32  \n",
       "10      0       50       57  "
      ]
     },
     "execution_count": 865,
     "metadata": {},
     "output_type": "execute_result"
    }
   ],
   "source": [
    "#Create a list of the top 10 complaints\n",
    "top_ten_complaints_list = list(top_10_complaints['complaint_type'])\n",
    "\n",
    "#create a resolution response time column \n",
    "nyc311_time = nyc311_time.assign(resolution_response_time = lambda x: (x['resolution_action_updated_date'] - x['created_date']))\n",
    "#substract the data in days and hours \n",
    "nyc311_time['resolution_response_days'] = nyc311_time['resolution_response_time'].dt.days\n",
    "nyc311_time['resolution_response_hours'] = nyc311_time['resolution_response_time'].dt.total_seconds() / 3600\n",
    "#group by complaint type and the filter by the top_ten_complaints_list \n",
    "avg_resolution_timedf = nyc311_time.groupby(['complaint_type'])['resolution_response_time'].mean().reset_index().sort_values(by='resolution_response_time', ascending=False,na_position='first')\n",
    "avg_resolution_timedf = avg_resolution_timedf.loc[(avg_resolution_timedf['complaint_type'].isin(top_ten_complaints_list)), :]\n",
    "avg_resolution_timedf.reset_index(drop=True, inplace=True)\n",
    "avg_resolution_timedf.index = avg_resolution_timedf.index +1 \n",
    "\n",
    "#check datatype\n",
    "avg_resolution_timedf.dtypes\n",
    "\n",
    "#Convert timedelta to hours, minutes, and seconds\n",
    "avg_resolution_timedf['total_hours'] = avg_resolution_timedf['resolution_response_time'].dt.components['days'] * 24 + avg_resolution_timedf['resolution_response_time'].dt.components['hours']\n",
    "avg_resolution_timedf['days'] = avg_resolution_timedf['resolution_response_time'].dt.components['days'] \n",
    "avg_resolution_timedf['hours'] = avg_resolution_timedf['resolution_response_time'].dt.components['hours']\n",
    "avg_resolution_timedf['minutes'] = avg_resolution_timedf['resolution_response_time'].dt.components['minutes']\n",
    "avg_resolution_timedf['seconds'] = avg_resolution_timedf['resolution_response_time'].dt.components['seconds']\n",
    "\n",
    "\n",
    "avg_resolution_timedf\n"
   ]
  },
  {
   "cell_type": "code",
   "execution_count": 866,
   "metadata": {},
   "outputs": [
    {
     "data": {
      "application/vnd.plotly.v1+json": {
       "config": {
        "plotlyServerURL": "https://plot.ly"
       },
       "data": [
        {
         "alignmentgroup": "True",
         "hovertemplate": "Avergae Resolution Time (hours)=%{x}<br>Complaint Type=%{y}<extra></extra>",
         "legendgroup": "",
         "marker": {
          "color": "rgb(158,202,225)",
          "line": {
           "color": "rgb(8,48,107)"
          },
          "pattern": {
           "shape": ""
          }
         },
         "name": "",
         "offsetgroup": "",
         "orientation": "h",
         "showlegend": false,
         "textposition": "auto",
         "type": "bar",
         "x": [
          581,
          537,
          478,
          55,
          26,
          3,
          2,
          2,
          1,
          0
         ],
         "xaxis": "x",
         "y": [
          "UNSANITARY CONDITION",
          "PLUMBING",
          "PAINT/PLASTER",
          "Street Condition",
          "HEAT/HOT WATER",
          "Abandoned Vehicle",
          "Blocked Driveway",
          "Illegal Parking",
          "Noise - Residential",
          "Noise - Street/Sidewalk"
         ],
         "yaxis": "y"
        }
       ],
       "layout": {
        "barmode": "relative",
        "legend": {
         "tracegroupgap": 0
        },
        "template": {
         "data": {
          "bar": [
           {
            "error_x": {
             "color": "#2a3f5f"
            },
            "error_y": {
             "color": "#2a3f5f"
            },
            "marker": {
             "line": {
              "color": "#E5ECF6",
              "width": 0.5
             },
             "pattern": {
              "fillmode": "overlay",
              "size": 10,
              "solidity": 0.2
             }
            },
            "type": "bar"
           }
          ],
          "barpolar": [
           {
            "marker": {
             "line": {
              "color": "#E5ECF6",
              "width": 0.5
             },
             "pattern": {
              "fillmode": "overlay",
              "size": 10,
              "solidity": 0.2
             }
            },
            "type": "barpolar"
           }
          ],
          "carpet": [
           {
            "aaxis": {
             "endlinecolor": "#2a3f5f",
             "gridcolor": "white",
             "linecolor": "white",
             "minorgridcolor": "white",
             "startlinecolor": "#2a3f5f"
            },
            "baxis": {
             "endlinecolor": "#2a3f5f",
             "gridcolor": "white",
             "linecolor": "white",
             "minorgridcolor": "white",
             "startlinecolor": "#2a3f5f"
            },
            "type": "carpet"
           }
          ],
          "choropleth": [
           {
            "colorbar": {
             "outlinewidth": 0,
             "ticks": ""
            },
            "type": "choropleth"
           }
          ],
          "contour": [
           {
            "colorbar": {
             "outlinewidth": 0,
             "ticks": ""
            },
            "colorscale": [
             [
              0,
              "#0d0887"
             ],
             [
              0.1111111111111111,
              "#46039f"
             ],
             [
              0.2222222222222222,
              "#7201a8"
             ],
             [
              0.3333333333333333,
              "#9c179e"
             ],
             [
              0.4444444444444444,
              "#bd3786"
             ],
             [
              0.5555555555555556,
              "#d8576b"
             ],
             [
              0.6666666666666666,
              "#ed7953"
             ],
             [
              0.7777777777777778,
              "#fb9f3a"
             ],
             [
              0.8888888888888888,
              "#fdca26"
             ],
             [
              1,
              "#f0f921"
             ]
            ],
            "type": "contour"
           }
          ],
          "contourcarpet": [
           {
            "colorbar": {
             "outlinewidth": 0,
             "ticks": ""
            },
            "type": "contourcarpet"
           }
          ],
          "heatmap": [
           {
            "colorbar": {
             "outlinewidth": 0,
             "ticks": ""
            },
            "colorscale": [
             [
              0,
              "#0d0887"
             ],
             [
              0.1111111111111111,
              "#46039f"
             ],
             [
              0.2222222222222222,
              "#7201a8"
             ],
             [
              0.3333333333333333,
              "#9c179e"
             ],
             [
              0.4444444444444444,
              "#bd3786"
             ],
             [
              0.5555555555555556,
              "#d8576b"
             ],
             [
              0.6666666666666666,
              "#ed7953"
             ],
             [
              0.7777777777777778,
              "#fb9f3a"
             ],
             [
              0.8888888888888888,
              "#fdca26"
             ],
             [
              1,
              "#f0f921"
             ]
            ],
            "type": "heatmap"
           }
          ],
          "heatmapgl": [
           {
            "colorbar": {
             "outlinewidth": 0,
             "ticks": ""
            },
            "colorscale": [
             [
              0,
              "#0d0887"
             ],
             [
              0.1111111111111111,
              "#46039f"
             ],
             [
              0.2222222222222222,
              "#7201a8"
             ],
             [
              0.3333333333333333,
              "#9c179e"
             ],
             [
              0.4444444444444444,
              "#bd3786"
             ],
             [
              0.5555555555555556,
              "#d8576b"
             ],
             [
              0.6666666666666666,
              "#ed7953"
             ],
             [
              0.7777777777777778,
              "#fb9f3a"
             ],
             [
              0.8888888888888888,
              "#fdca26"
             ],
             [
              1,
              "#f0f921"
             ]
            ],
            "type": "heatmapgl"
           }
          ],
          "histogram": [
           {
            "marker": {
             "pattern": {
              "fillmode": "overlay",
              "size": 10,
              "solidity": 0.2
             }
            },
            "type": "histogram"
           }
          ],
          "histogram2d": [
           {
            "colorbar": {
             "outlinewidth": 0,
             "ticks": ""
            },
            "colorscale": [
             [
              0,
              "#0d0887"
             ],
             [
              0.1111111111111111,
              "#46039f"
             ],
             [
              0.2222222222222222,
              "#7201a8"
             ],
             [
              0.3333333333333333,
              "#9c179e"
             ],
             [
              0.4444444444444444,
              "#bd3786"
             ],
             [
              0.5555555555555556,
              "#d8576b"
             ],
             [
              0.6666666666666666,
              "#ed7953"
             ],
             [
              0.7777777777777778,
              "#fb9f3a"
             ],
             [
              0.8888888888888888,
              "#fdca26"
             ],
             [
              1,
              "#f0f921"
             ]
            ],
            "type": "histogram2d"
           }
          ],
          "histogram2dcontour": [
           {
            "colorbar": {
             "outlinewidth": 0,
             "ticks": ""
            },
            "colorscale": [
             [
              0,
              "#0d0887"
             ],
             [
              0.1111111111111111,
              "#46039f"
             ],
             [
              0.2222222222222222,
              "#7201a8"
             ],
             [
              0.3333333333333333,
              "#9c179e"
             ],
             [
              0.4444444444444444,
              "#bd3786"
             ],
             [
              0.5555555555555556,
              "#d8576b"
             ],
             [
              0.6666666666666666,
              "#ed7953"
             ],
             [
              0.7777777777777778,
              "#fb9f3a"
             ],
             [
              0.8888888888888888,
              "#fdca26"
             ],
             [
              1,
              "#f0f921"
             ]
            ],
            "type": "histogram2dcontour"
           }
          ],
          "mesh3d": [
           {
            "colorbar": {
             "outlinewidth": 0,
             "ticks": ""
            },
            "type": "mesh3d"
           }
          ],
          "parcoords": [
           {
            "line": {
             "colorbar": {
              "outlinewidth": 0,
              "ticks": ""
             }
            },
            "type": "parcoords"
           }
          ],
          "pie": [
           {
            "automargin": true,
            "type": "pie"
           }
          ],
          "scatter": [
           {
            "fillpattern": {
             "fillmode": "overlay",
             "size": 10,
             "solidity": 0.2
            },
            "type": "scatter"
           }
          ],
          "scatter3d": [
           {
            "line": {
             "colorbar": {
              "outlinewidth": 0,
              "ticks": ""
             }
            },
            "marker": {
             "colorbar": {
              "outlinewidth": 0,
              "ticks": ""
             }
            },
            "type": "scatter3d"
           }
          ],
          "scattercarpet": [
           {
            "marker": {
             "colorbar": {
              "outlinewidth": 0,
              "ticks": ""
             }
            },
            "type": "scattercarpet"
           }
          ],
          "scattergeo": [
           {
            "marker": {
             "colorbar": {
              "outlinewidth": 0,
              "ticks": ""
             }
            },
            "type": "scattergeo"
           }
          ],
          "scattergl": [
           {
            "marker": {
             "colorbar": {
              "outlinewidth": 0,
              "ticks": ""
             }
            },
            "type": "scattergl"
           }
          ],
          "scattermapbox": [
           {
            "marker": {
             "colorbar": {
              "outlinewidth": 0,
              "ticks": ""
             }
            },
            "type": "scattermapbox"
           }
          ],
          "scatterpolar": [
           {
            "marker": {
             "colorbar": {
              "outlinewidth": 0,
              "ticks": ""
             }
            },
            "type": "scatterpolar"
           }
          ],
          "scatterpolargl": [
           {
            "marker": {
             "colorbar": {
              "outlinewidth": 0,
              "ticks": ""
             }
            },
            "type": "scatterpolargl"
           }
          ],
          "scatterternary": [
           {
            "marker": {
             "colorbar": {
              "outlinewidth": 0,
              "ticks": ""
             }
            },
            "type": "scatterternary"
           }
          ],
          "surface": [
           {
            "colorbar": {
             "outlinewidth": 0,
             "ticks": ""
            },
            "colorscale": [
             [
              0,
              "#0d0887"
             ],
             [
              0.1111111111111111,
              "#46039f"
             ],
             [
              0.2222222222222222,
              "#7201a8"
             ],
             [
              0.3333333333333333,
              "#9c179e"
             ],
             [
              0.4444444444444444,
              "#bd3786"
             ],
             [
              0.5555555555555556,
              "#d8576b"
             ],
             [
              0.6666666666666666,
              "#ed7953"
             ],
             [
              0.7777777777777778,
              "#fb9f3a"
             ],
             [
              0.8888888888888888,
              "#fdca26"
             ],
             [
              1,
              "#f0f921"
             ]
            ],
            "type": "surface"
           }
          ],
          "table": [
           {
            "cells": {
             "fill": {
              "color": "#EBF0F8"
             },
             "line": {
              "color": "white"
             }
            },
            "header": {
             "fill": {
              "color": "#C8D4E3"
             },
             "line": {
              "color": "white"
             }
            },
            "type": "table"
           }
          ]
         },
         "layout": {
          "annotationdefaults": {
           "arrowcolor": "#2a3f5f",
           "arrowhead": 0,
           "arrowwidth": 1
          },
          "autotypenumbers": "strict",
          "coloraxis": {
           "colorbar": {
            "outlinewidth": 0,
            "ticks": ""
           }
          },
          "colorscale": {
           "diverging": [
            [
             0,
             "#8e0152"
            ],
            [
             0.1,
             "#c51b7d"
            ],
            [
             0.2,
             "#de77ae"
            ],
            [
             0.3,
             "#f1b6da"
            ],
            [
             0.4,
             "#fde0ef"
            ],
            [
             0.5,
             "#f7f7f7"
            ],
            [
             0.6,
             "#e6f5d0"
            ],
            [
             0.7,
             "#b8e186"
            ],
            [
             0.8,
             "#7fbc41"
            ],
            [
             0.9,
             "#4d9221"
            ],
            [
             1,
             "#276419"
            ]
           ],
           "sequential": [
            [
             0,
             "#0d0887"
            ],
            [
             0.1111111111111111,
             "#46039f"
            ],
            [
             0.2222222222222222,
             "#7201a8"
            ],
            [
             0.3333333333333333,
             "#9c179e"
            ],
            [
             0.4444444444444444,
             "#bd3786"
            ],
            [
             0.5555555555555556,
             "#d8576b"
            ],
            [
             0.6666666666666666,
             "#ed7953"
            ],
            [
             0.7777777777777778,
             "#fb9f3a"
            ],
            [
             0.8888888888888888,
             "#fdca26"
            ],
            [
             1,
             "#f0f921"
            ]
           ],
           "sequentialminus": [
            [
             0,
             "#0d0887"
            ],
            [
             0.1111111111111111,
             "#46039f"
            ],
            [
             0.2222222222222222,
             "#7201a8"
            ],
            [
             0.3333333333333333,
             "#9c179e"
            ],
            [
             0.4444444444444444,
             "#bd3786"
            ],
            [
             0.5555555555555556,
             "#d8576b"
            ],
            [
             0.6666666666666666,
             "#ed7953"
            ],
            [
             0.7777777777777778,
             "#fb9f3a"
            ],
            [
             0.8888888888888888,
             "#fdca26"
            ],
            [
             1,
             "#f0f921"
            ]
           ]
          },
          "colorway": [
           "#636efa",
           "#EF553B",
           "#00cc96",
           "#ab63fa",
           "#FFA15A",
           "#19d3f3",
           "#FF6692",
           "#B6E880",
           "#FF97FF",
           "#FECB52"
          ],
          "font": {
           "color": "#2a3f5f"
          },
          "geo": {
           "bgcolor": "white",
           "lakecolor": "white",
           "landcolor": "#E5ECF6",
           "showlakes": true,
           "showland": true,
           "subunitcolor": "white"
          },
          "hoverlabel": {
           "align": "left"
          },
          "hovermode": "closest",
          "mapbox": {
           "style": "light"
          },
          "paper_bgcolor": "white",
          "plot_bgcolor": "#E5ECF6",
          "polar": {
           "angularaxis": {
            "gridcolor": "white",
            "linecolor": "white",
            "ticks": ""
           },
           "bgcolor": "#E5ECF6",
           "radialaxis": {
            "gridcolor": "white",
            "linecolor": "white",
            "ticks": ""
           }
          },
          "scene": {
           "xaxis": {
            "backgroundcolor": "#E5ECF6",
            "gridcolor": "white",
            "gridwidth": 2,
            "linecolor": "white",
            "showbackground": true,
            "ticks": "",
            "zerolinecolor": "white"
           },
           "yaxis": {
            "backgroundcolor": "#E5ECF6",
            "gridcolor": "white",
            "gridwidth": 2,
            "linecolor": "white",
            "showbackground": true,
            "ticks": "",
            "zerolinecolor": "white"
           },
           "zaxis": {
            "backgroundcolor": "#E5ECF6",
            "gridcolor": "white",
            "gridwidth": 2,
            "linecolor": "white",
            "showbackground": true,
            "ticks": "",
            "zerolinecolor": "white"
           }
          },
          "shapedefaults": {
           "line": {
            "color": "#2a3f5f"
           }
          },
          "ternary": {
           "aaxis": {
            "gridcolor": "white",
            "linecolor": "white",
            "ticks": ""
           },
           "baxis": {
            "gridcolor": "white",
            "linecolor": "white",
            "ticks": ""
           },
           "bgcolor": "#E5ECF6",
           "caxis": {
            "gridcolor": "white",
            "linecolor": "white",
            "ticks": ""
           }
          },
          "title": {
           "x": 0.05
          },
          "xaxis": {
           "automargin": true,
           "gridcolor": "white",
           "linecolor": "white",
           "ticks": "",
           "title": {
            "standoff": 15
           },
           "zerolinecolor": "white",
           "zerolinewidth": 2
          },
          "yaxis": {
           "automargin": true,
           "gridcolor": "white",
           "linecolor": "white",
           "ticks": "",
           "title": {
            "standoff": 15
           },
           "zerolinecolor": "white",
           "zerolinewidth": 2
          }
         }
        },
        "title": {
         "text": "Average Resolution Time (days)"
        },
        "xaxis": {
         "anchor": "y",
         "domain": [
          0,
          1
         ],
         "title": {
          "text": "Avergae Resolution Time (hours)"
         }
        },
        "yaxis": {
         "anchor": "x",
         "domain": [
          0,
          1
         ],
         "title": {
          "text": "Complaint Type"
         }
        }
       }
      }
     },
     "metadata": {},
     "output_type": "display_data"
    }
   ],
   "source": [
    "#Barchart for the average resolution time they take per 10 complaint types\n",
    "\n",
    "fig_top_10_avg_resolution_time = px.bar(avg_resolution_timedf, x=\"total_hours\", y=\"complaint_type\", orientation='h',\n",
    "                                        title='Average Resolution Time (days)',\n",
    "                                        labels={'total_hours': 'Avergae Resolution Time (hours)',\n",
    "                                                'complaint_type': 'Complaint Type'})\n",
    "fig_top_10_avg_resolution_time.update_traces(marker_color='rgb(158,202,225)', marker_line_color='rgb(8,48,107)')\n",
    "fig_top_10_avg_resolution_time.show()\n"
   ]
  },
  {
   "cell_type": "markdown",
   "metadata": {},
   "source": [
    "\n",
    "### Volume Of Incidents Overtime\n",
    "__________"
   ]
  },
  {
   "cell_type": "code",
   "execution_count": 867,
   "metadata": {},
   "outputs": [
    {
     "data": {
      "text/plain": [
       "794354"
      ]
     },
     "execution_count": 867,
     "metadata": {},
     "output_type": "execute_result"
    }
   ],
   "source": [
    "#Volume of calls 311 has receive \n",
    "indicent_total_vol = len(nyc311_service_line['unique_key'].unique())\n",
    "indicent_total_vol"
   ]
  },
  {
   "cell_type": "code",
   "execution_count": 868,
   "metadata": {},
   "outputs": [],
   "source": [
    "#Function to determine the total volume of calls per months \n",
    "\n",
    "def volume_per_month(start_date, end_date, data):\n",
    "    \n",
    "    calls_total_vol_df = data.loc[(nyc311_service_line['created_date'].dt.date >= start_date) &\n",
    "                                                (nyc311_service_line['created_date'].dt.date <= end_date), :]\n",
    "    calls_total_vol_jan = len(calls_total_vol_df['unique_key'].unique())\n",
    "\n",
    "    return  calls_total_vol_jan\n"
   ]
  },
  {
   "cell_type": "code",
   "execution_count": 869,
   "metadata": {},
   "outputs": [
    {
     "data": {
      "text/plain": [
       "287200"
      ]
     },
     "execution_count": 869,
     "metadata": {},
     "output_type": "execute_result"
    }
   ],
   "source": [
    "start_date_jan = pd.to_datetime('2024-01-01').date()\n",
    "end_date_jan = pd.to_datetime('2024-01-31').date()\n",
    "\n",
    "incident_total_vol_jan = volume_per_month(start_date_jan, end_date_jan, nyc311_service_line)\n",
    "incident_total_vol_jan"
   ]
  },
  {
   "cell_type": "code",
   "execution_count": 870,
   "metadata": {},
   "outputs": [
    {
     "data": {
      "text/plain": [
       "240454"
      ]
     },
     "execution_count": 870,
     "metadata": {},
     "output_type": "execute_result"
    }
   ],
   "source": [
    "start_date_feb = pd.to_datetime('2024-02-01').date()\n",
    "end_date_feb = pd.to_datetime('2024-02-29').date()\n",
    "\n",
    "incident_total_vol_feb = volume_per_month(start_date_feb, end_date_feb, nyc311_service_line)\n",
    "incident_total_vol_feb"
   ]
  },
  {
   "cell_type": "code",
   "execution_count": 871,
   "metadata": {},
   "outputs": [
    {
     "data": {
      "text/plain": [
       "266699"
      ]
     },
     "execution_count": 871,
     "metadata": {},
     "output_type": "execute_result"
    }
   ],
   "source": [
    "start_date_march = pd.to_datetime('2024-03-01').date()\n",
    "end_date_march = pd.to_datetime('2024-03-31').date()\n",
    "\n",
    "incident_total_vol_march = volume_per_month(start_date_march, end_date_march, nyc311_service_line)\n",
    "incident_total_vol_march"
   ]
  },
  {
   "cell_type": "code",
   "execution_count": 872,
   "metadata": {},
   "outputs": [
    {
     "data": {
      "text/html": [
       "<div>\n",
       "<style scoped>\n",
       "    .dataframe tbody tr th:only-of-type {\n",
       "        vertical-align: middle;\n",
       "    }\n",
       "\n",
       "    .dataframe tbody tr th {\n",
       "        vertical-align: top;\n",
       "    }\n",
       "\n",
       "    .dataframe thead th {\n",
       "        text-align: right;\n",
       "    }\n",
       "</style>\n",
       "<table border=\"1\" class=\"dataframe\">\n",
       "  <thead>\n",
       "    <tr style=\"text-align: right;\">\n",
       "      <th></th>\n",
       "      <th>Total Indicents</th>\n",
       "      <th>Total Indicents in January</th>\n",
       "      <th>Total Indicents in February</th>\n",
       "      <th>Total Indicents in March</th>\n",
       "    </tr>\n",
       "  </thead>\n",
       "  <tbody>\n",
       "    <tr>\n",
       "      <th>0</th>\n",
       "      <td>794,354</td>\n",
       "      <td>287,200</td>\n",
       "      <td>240,454</td>\n",
       "      <td>266,699</td>\n",
       "    </tr>\n",
       "  </tbody>\n",
       "</table>\n",
       "</div>"
      ],
      "text/plain": [
       "  Total Indicents Total Indicents in January Total Indicents in February  \\\n",
       "0         794,354                    287,200                     240,454   \n",
       "\n",
       "  Total Indicents in March  \n",
       "0                  266,699  "
      ]
     },
     "execution_count": 872,
     "metadata": {},
     "output_type": "execute_result"
    }
   ],
   "source": [
    "# Create snapshot key volume's metrics in a DataFrame\n",
    "incidents_vol_df = pd.DataFrame({\"Total Indicents\": [indicent_total_vol],\n",
    "                                 \"Total Indicents in January\": incident_total_vol_jan,\n",
    "                                 \"Total Indicents in February\":incident_total_vol_feb,\n",
    "                                 \"Total Indicents in March\":incident_total_vol_march\n",
    "                                 })\n",
    "\n",
    "# Formatting\n",
    "incidents_vol_df[\"Total Indicents\"] = incidents_vol_df[\"Total Indicents\"].map(\"{:,}\".format)\n",
    "incidents_vol_df[\"Total Indicents in January\"] = incidents_vol_df[\"Total Indicents in January\"].map(\"{:,}\".format)\n",
    "incidents_vol_df[\"Total Indicents in February\"] = incidents_vol_df[\"Total Indicents in February\"].map(\"{:,}\".format)\n",
    "incidents_vol_df[\"Total Indicents in March\"] = incidents_vol_df[\"Total Indicents in March\"].map(\"{:,}\".format)\n",
    "\n",
    "# Display the DataFrame\n",
    "incidents_vol_df"
   ]
  },
  {
   "cell_type": "code",
   "execution_count": 873,
   "metadata": {},
   "outputs": [
    {
     "data": {
      "application/vnd.plotly.v1+json": {
       "config": {
        "plotlyServerURL": "https://plot.ly"
       },
       "data": [
        {
         "hovertemplate": "Months=%{x}<br>Volume Of Incidents=%{y}<extra></extra>",
         "legendgroup": "",
         "line": {
          "color": "#636efa",
          "dash": "solid"
         },
         "marker": {
          "color": "rgb(158,202,225)",
          "symbol": "circle"
         },
         "mode": "lines",
         "name": "",
         "orientation": "v",
         "showlegend": false,
         "textposition": "bottom right",
         "type": "scatter",
         "x": [
          1,
          2,
          3
         ],
         "xaxis": "x",
         "y": [
          273482,
          228358,
          253195
         ],
         "yaxis": "y"
        }
       ],
       "layout": {
        "legend": {
         "tracegroupgap": 0
        },
        "template": {
         "data": {
          "bar": [
           {
            "error_x": {
             "color": "#2a3f5f"
            },
            "error_y": {
             "color": "#2a3f5f"
            },
            "marker": {
             "line": {
              "color": "#E5ECF6",
              "width": 0.5
             },
             "pattern": {
              "fillmode": "overlay",
              "size": 10,
              "solidity": 0.2
             }
            },
            "type": "bar"
           }
          ],
          "barpolar": [
           {
            "marker": {
             "line": {
              "color": "#E5ECF6",
              "width": 0.5
             },
             "pattern": {
              "fillmode": "overlay",
              "size": 10,
              "solidity": 0.2
             }
            },
            "type": "barpolar"
           }
          ],
          "carpet": [
           {
            "aaxis": {
             "endlinecolor": "#2a3f5f",
             "gridcolor": "white",
             "linecolor": "white",
             "minorgridcolor": "white",
             "startlinecolor": "#2a3f5f"
            },
            "baxis": {
             "endlinecolor": "#2a3f5f",
             "gridcolor": "white",
             "linecolor": "white",
             "minorgridcolor": "white",
             "startlinecolor": "#2a3f5f"
            },
            "type": "carpet"
           }
          ],
          "choropleth": [
           {
            "colorbar": {
             "outlinewidth": 0,
             "ticks": ""
            },
            "type": "choropleth"
           }
          ],
          "contour": [
           {
            "colorbar": {
             "outlinewidth": 0,
             "ticks": ""
            },
            "colorscale": [
             [
              0,
              "#0d0887"
             ],
             [
              0.1111111111111111,
              "#46039f"
             ],
             [
              0.2222222222222222,
              "#7201a8"
             ],
             [
              0.3333333333333333,
              "#9c179e"
             ],
             [
              0.4444444444444444,
              "#bd3786"
             ],
             [
              0.5555555555555556,
              "#d8576b"
             ],
             [
              0.6666666666666666,
              "#ed7953"
             ],
             [
              0.7777777777777778,
              "#fb9f3a"
             ],
             [
              0.8888888888888888,
              "#fdca26"
             ],
             [
              1,
              "#f0f921"
             ]
            ],
            "type": "contour"
           }
          ],
          "contourcarpet": [
           {
            "colorbar": {
             "outlinewidth": 0,
             "ticks": ""
            },
            "type": "contourcarpet"
           }
          ],
          "heatmap": [
           {
            "colorbar": {
             "outlinewidth": 0,
             "ticks": ""
            },
            "colorscale": [
             [
              0,
              "#0d0887"
             ],
             [
              0.1111111111111111,
              "#46039f"
             ],
             [
              0.2222222222222222,
              "#7201a8"
             ],
             [
              0.3333333333333333,
              "#9c179e"
             ],
             [
              0.4444444444444444,
              "#bd3786"
             ],
             [
              0.5555555555555556,
              "#d8576b"
             ],
             [
              0.6666666666666666,
              "#ed7953"
             ],
             [
              0.7777777777777778,
              "#fb9f3a"
             ],
             [
              0.8888888888888888,
              "#fdca26"
             ],
             [
              1,
              "#f0f921"
             ]
            ],
            "type": "heatmap"
           }
          ],
          "heatmapgl": [
           {
            "colorbar": {
             "outlinewidth": 0,
             "ticks": ""
            },
            "colorscale": [
             [
              0,
              "#0d0887"
             ],
             [
              0.1111111111111111,
              "#46039f"
             ],
             [
              0.2222222222222222,
              "#7201a8"
             ],
             [
              0.3333333333333333,
              "#9c179e"
             ],
             [
              0.4444444444444444,
              "#bd3786"
             ],
             [
              0.5555555555555556,
              "#d8576b"
             ],
             [
              0.6666666666666666,
              "#ed7953"
             ],
             [
              0.7777777777777778,
              "#fb9f3a"
             ],
             [
              0.8888888888888888,
              "#fdca26"
             ],
             [
              1,
              "#f0f921"
             ]
            ],
            "type": "heatmapgl"
           }
          ],
          "histogram": [
           {
            "marker": {
             "pattern": {
              "fillmode": "overlay",
              "size": 10,
              "solidity": 0.2
             }
            },
            "type": "histogram"
           }
          ],
          "histogram2d": [
           {
            "colorbar": {
             "outlinewidth": 0,
             "ticks": ""
            },
            "colorscale": [
             [
              0,
              "#0d0887"
             ],
             [
              0.1111111111111111,
              "#46039f"
             ],
             [
              0.2222222222222222,
              "#7201a8"
             ],
             [
              0.3333333333333333,
              "#9c179e"
             ],
             [
              0.4444444444444444,
              "#bd3786"
             ],
             [
              0.5555555555555556,
              "#d8576b"
             ],
             [
              0.6666666666666666,
              "#ed7953"
             ],
             [
              0.7777777777777778,
              "#fb9f3a"
             ],
             [
              0.8888888888888888,
              "#fdca26"
             ],
             [
              1,
              "#f0f921"
             ]
            ],
            "type": "histogram2d"
           }
          ],
          "histogram2dcontour": [
           {
            "colorbar": {
             "outlinewidth": 0,
             "ticks": ""
            },
            "colorscale": [
             [
              0,
              "#0d0887"
             ],
             [
              0.1111111111111111,
              "#46039f"
             ],
             [
              0.2222222222222222,
              "#7201a8"
             ],
             [
              0.3333333333333333,
              "#9c179e"
             ],
             [
              0.4444444444444444,
              "#bd3786"
             ],
             [
              0.5555555555555556,
              "#d8576b"
             ],
             [
              0.6666666666666666,
              "#ed7953"
             ],
             [
              0.7777777777777778,
              "#fb9f3a"
             ],
             [
              0.8888888888888888,
              "#fdca26"
             ],
             [
              1,
              "#f0f921"
             ]
            ],
            "type": "histogram2dcontour"
           }
          ],
          "mesh3d": [
           {
            "colorbar": {
             "outlinewidth": 0,
             "ticks": ""
            },
            "type": "mesh3d"
           }
          ],
          "parcoords": [
           {
            "line": {
             "colorbar": {
              "outlinewidth": 0,
              "ticks": ""
             }
            },
            "type": "parcoords"
           }
          ],
          "pie": [
           {
            "automargin": true,
            "type": "pie"
           }
          ],
          "scatter": [
           {
            "fillpattern": {
             "fillmode": "overlay",
             "size": 10,
             "solidity": 0.2
            },
            "type": "scatter"
           }
          ],
          "scatter3d": [
           {
            "line": {
             "colorbar": {
              "outlinewidth": 0,
              "ticks": ""
             }
            },
            "marker": {
             "colorbar": {
              "outlinewidth": 0,
              "ticks": ""
             }
            },
            "type": "scatter3d"
           }
          ],
          "scattercarpet": [
           {
            "marker": {
             "colorbar": {
              "outlinewidth": 0,
              "ticks": ""
             }
            },
            "type": "scattercarpet"
           }
          ],
          "scattergeo": [
           {
            "marker": {
             "colorbar": {
              "outlinewidth": 0,
              "ticks": ""
             }
            },
            "type": "scattergeo"
           }
          ],
          "scattergl": [
           {
            "marker": {
             "colorbar": {
              "outlinewidth": 0,
              "ticks": ""
             }
            },
            "type": "scattergl"
           }
          ],
          "scattermapbox": [
           {
            "marker": {
             "colorbar": {
              "outlinewidth": 0,
              "ticks": ""
             }
            },
            "type": "scattermapbox"
           }
          ],
          "scatterpolar": [
           {
            "marker": {
             "colorbar": {
              "outlinewidth": 0,
              "ticks": ""
             }
            },
            "type": "scatterpolar"
           }
          ],
          "scatterpolargl": [
           {
            "marker": {
             "colorbar": {
              "outlinewidth": 0,
              "ticks": ""
             }
            },
            "type": "scatterpolargl"
           }
          ],
          "scatterternary": [
           {
            "marker": {
             "colorbar": {
              "outlinewidth": 0,
              "ticks": ""
             }
            },
            "type": "scatterternary"
           }
          ],
          "surface": [
           {
            "colorbar": {
             "outlinewidth": 0,
             "ticks": ""
            },
            "colorscale": [
             [
              0,
              "#0d0887"
             ],
             [
              0.1111111111111111,
              "#46039f"
             ],
             [
              0.2222222222222222,
              "#7201a8"
             ],
             [
              0.3333333333333333,
              "#9c179e"
             ],
             [
              0.4444444444444444,
              "#bd3786"
             ],
             [
              0.5555555555555556,
              "#d8576b"
             ],
             [
              0.6666666666666666,
              "#ed7953"
             ],
             [
              0.7777777777777778,
              "#fb9f3a"
             ],
             [
              0.8888888888888888,
              "#fdca26"
             ],
             [
              1,
              "#f0f921"
             ]
            ],
            "type": "surface"
           }
          ],
          "table": [
           {
            "cells": {
             "fill": {
              "color": "#EBF0F8"
             },
             "line": {
              "color": "white"
             }
            },
            "header": {
             "fill": {
              "color": "#C8D4E3"
             },
             "line": {
              "color": "white"
             }
            },
            "type": "table"
           }
          ]
         },
         "layout": {
          "annotationdefaults": {
           "arrowcolor": "#2a3f5f",
           "arrowhead": 0,
           "arrowwidth": 1
          },
          "autotypenumbers": "strict",
          "coloraxis": {
           "colorbar": {
            "outlinewidth": 0,
            "ticks": ""
           }
          },
          "colorscale": {
           "diverging": [
            [
             0,
             "#8e0152"
            ],
            [
             0.1,
             "#c51b7d"
            ],
            [
             0.2,
             "#de77ae"
            ],
            [
             0.3,
             "#f1b6da"
            ],
            [
             0.4,
             "#fde0ef"
            ],
            [
             0.5,
             "#f7f7f7"
            ],
            [
             0.6,
             "#e6f5d0"
            ],
            [
             0.7,
             "#b8e186"
            ],
            [
             0.8,
             "#7fbc41"
            ],
            [
             0.9,
             "#4d9221"
            ],
            [
             1,
             "#276419"
            ]
           ],
           "sequential": [
            [
             0,
             "#0d0887"
            ],
            [
             0.1111111111111111,
             "#46039f"
            ],
            [
             0.2222222222222222,
             "#7201a8"
            ],
            [
             0.3333333333333333,
             "#9c179e"
            ],
            [
             0.4444444444444444,
             "#bd3786"
            ],
            [
             0.5555555555555556,
             "#d8576b"
            ],
            [
             0.6666666666666666,
             "#ed7953"
            ],
            [
             0.7777777777777778,
             "#fb9f3a"
            ],
            [
             0.8888888888888888,
             "#fdca26"
            ],
            [
             1,
             "#f0f921"
            ]
           ],
           "sequentialminus": [
            [
             0,
             "#0d0887"
            ],
            [
             0.1111111111111111,
             "#46039f"
            ],
            [
             0.2222222222222222,
             "#7201a8"
            ],
            [
             0.3333333333333333,
             "#9c179e"
            ],
            [
             0.4444444444444444,
             "#bd3786"
            ],
            [
             0.5555555555555556,
             "#d8576b"
            ],
            [
             0.6666666666666666,
             "#ed7953"
            ],
            [
             0.7777777777777778,
             "#fb9f3a"
            ],
            [
             0.8888888888888888,
             "#fdca26"
            ],
            [
             1,
             "#f0f921"
            ]
           ]
          },
          "colorway": [
           "#636efa",
           "#EF553B",
           "#00cc96",
           "#ab63fa",
           "#FFA15A",
           "#19d3f3",
           "#FF6692",
           "#B6E880",
           "#FF97FF",
           "#FECB52"
          ],
          "font": {
           "color": "#2a3f5f"
          },
          "geo": {
           "bgcolor": "white",
           "lakecolor": "white",
           "landcolor": "#E5ECF6",
           "showlakes": true,
           "showland": true,
           "subunitcolor": "white"
          },
          "hoverlabel": {
           "align": "left"
          },
          "hovermode": "closest",
          "mapbox": {
           "style": "light"
          },
          "paper_bgcolor": "white",
          "plot_bgcolor": "#E5ECF6",
          "polar": {
           "angularaxis": {
            "gridcolor": "white",
            "linecolor": "white",
            "ticks": ""
           },
           "bgcolor": "#E5ECF6",
           "radialaxis": {
            "gridcolor": "white",
            "linecolor": "white",
            "ticks": ""
           }
          },
          "scene": {
           "xaxis": {
            "backgroundcolor": "#E5ECF6",
            "gridcolor": "white",
            "gridwidth": 2,
            "linecolor": "white",
            "showbackground": true,
            "ticks": "",
            "zerolinecolor": "white"
           },
           "yaxis": {
            "backgroundcolor": "#E5ECF6",
            "gridcolor": "white",
            "gridwidth": 2,
            "linecolor": "white",
            "showbackground": true,
            "ticks": "",
            "zerolinecolor": "white"
           },
           "zaxis": {
            "backgroundcolor": "#E5ECF6",
            "gridcolor": "white",
            "gridwidth": 2,
            "linecolor": "white",
            "showbackground": true,
            "ticks": "",
            "zerolinecolor": "white"
           }
          },
          "shapedefaults": {
           "line": {
            "color": "#2a3f5f"
           }
          },
          "ternary": {
           "aaxis": {
            "gridcolor": "white",
            "linecolor": "white",
            "ticks": ""
           },
           "baxis": {
            "gridcolor": "white",
            "linecolor": "white",
            "ticks": ""
           },
           "bgcolor": "#E5ECF6",
           "caxis": {
            "gridcolor": "white",
            "linecolor": "white",
            "ticks": ""
           }
          },
          "title": {
           "x": 0.05
          },
          "xaxis": {
           "automargin": true,
           "gridcolor": "white",
           "linecolor": "white",
           "ticks": "",
           "title": {
            "standoff": 15
           },
           "zerolinecolor": "white",
           "zerolinewidth": 2
          },
          "yaxis": {
           "automargin": true,
           "gridcolor": "white",
           "linecolor": "white",
           "ticks": "",
           "title": {
            "standoff": 15
           },
           "zerolinecolor": "white",
           "zerolinewidth": 2
          }
         }
        },
        "title": {
         "text": "Volume Of Incidents Overtime"
        },
        "xaxis": {
         "anchor": "y",
         "domain": [
          0,
          1
         ],
         "title": {
          "text": "Months"
         }
        },
        "yaxis": {
         "anchor": "x",
         "domain": [
          0,
          1
         ],
         "title": {
          "text": "Volume Of Incidents"
         }
        }
       }
      }
     },
     "metadata": {},
     "output_type": "display_data"
    }
   ],
   "source": [
    "#Line chart for incidents  over time \n",
    "incidents_overtime = nyc311_time.loc[nyc311_time['month'] < 4, :]\n",
    "incidents_by_months = incidents_overtime.groupby(['month'])['month'].count().reset_index(name='Count')\n",
    "incidents_by_months\n",
    "\n",
    "#Create line chart \n",
    "fig_incidents_overtime = px.line(incidents_by_months, x=\"month\", y=\"Count\",\n",
    "                                 title='Volume Of Incidents Overtime',\n",
    "                                        labels={'Count': 'Volume Of Incidents',\n",
    "                                                'month': 'Months'})\n",
    "fig_incidents_overtime.update_traces(textposition=\"bottom right\",marker_color='rgb(158,202,225)')\n",
    "fig_incidents_overtime.show()"
   ]
  },
  {
   "cell_type": "code",
   "execution_count": 874,
   "metadata": {},
   "outputs": [
    {
     "data": {
      "application/vnd.plotly.v1+json": {
       "config": {
        "plotlyServerURL": "https://plot.ly"
       },
       "data": [
        {
         "hovertemplate": "complaint_type=Blocked Driveway<br>Months=%{x}<br>Volume Of Incidents=%{y}<extra></extra>",
         "legendgroup": "Blocked Driveway",
         "line": {
          "color": "#636efa",
          "dash": "solid"
         },
         "marker": {
          "symbol": "circle"
         },
         "mode": "lines",
         "name": "Blocked Driveway",
         "orientation": "v",
         "showlegend": true,
         "textposition": "bottom right",
         "type": "scatter",
         "x": [
          1,
          2,
          3
         ],
         "xaxis": "x",
         "y": [
          14966,
          13642,
          14458
         ],
         "yaxis": "y"
        },
        {
         "hovertemplate": "complaint_type=HEAT/HOT WATER<br>Months=%{x}<br>Volume Of Incidents=%{y}<extra></extra>",
         "legendgroup": "HEAT/HOT WATER",
         "line": {
          "color": "#EF553B",
          "dash": "solid"
         },
         "marker": {
          "symbol": "circle"
         },
         "mode": "lines",
         "name": "HEAT/HOT WATER",
         "orientation": "v",
         "showlegend": true,
         "textposition": "bottom right",
         "type": "scatter",
         "x": [
          1,
          2,
          3
         ],
         "xaxis": "x",
         "y": [
          43604,
          23898,
          19436
         ],
         "yaxis": "y"
        },
        {
         "hovertemplate": "complaint_type=Illegal Parking<br>Months=%{x}<br>Volume Of Incidents=%{y}<extra></extra>",
         "legendgroup": "Illegal Parking",
         "line": {
          "color": "#00cc96",
          "dash": "solid"
         },
         "marker": {
          "symbol": "circle"
         },
         "mode": "lines",
         "name": "Illegal Parking",
         "orientation": "v",
         "showlegend": true,
         "textposition": "bottom right",
         "type": "scatter",
         "x": [
          1,
          2,
          3
         ],
         "xaxis": "x",
         "y": [
          41124,
          38792,
          43167
         ],
         "yaxis": "y"
        },
        {
         "hovertemplate": "complaint_type=Noise - Residential<br>Months=%{x}<br>Volume Of Incidents=%{y}<extra></extra>",
         "legendgroup": "Noise - Residential",
         "line": {
          "color": "#ab63fa",
          "dash": "solid"
         },
         "marker": {
          "symbol": "circle"
         },
         "mode": "lines",
         "name": "Noise - Residential",
         "orientation": "v",
         "showlegend": true,
         "textposition": "bottom right",
         "type": "scatter",
         "x": [
          1,
          2,
          3
         ],
         "xaxis": "x",
         "y": [
          22091,
          21511,
          24896
         ],
         "yaxis": "y"
        },
        {
         "hovertemplate": "complaint_type=UNSANITARY CONDITION<br>Months=%{x}<br>Volume Of Incidents=%{y}<extra></extra>",
         "legendgroup": "UNSANITARY CONDITION",
         "line": {
          "color": "#FFA15A",
          "dash": "solid"
         },
         "marker": {
          "symbol": "circle"
         },
         "mode": "lines",
         "name": "UNSANITARY CONDITION",
         "orientation": "v",
         "showlegend": true,
         "textposition": "bottom right",
         "type": "scatter",
         "x": [
          1,
          2,
          3
         ],
         "xaxis": "x",
         "y": [
          10431,
          8190,
          8728
         ],
         "yaxis": "y"
        }
       ],
       "layout": {
        "legend": {
         "title": {
          "text": "complaint_type"
         },
         "tracegroupgap": 0
        },
        "template": {
         "data": {
          "bar": [
           {
            "error_x": {
             "color": "#2a3f5f"
            },
            "error_y": {
             "color": "#2a3f5f"
            },
            "marker": {
             "line": {
              "color": "#E5ECF6",
              "width": 0.5
             },
             "pattern": {
              "fillmode": "overlay",
              "size": 10,
              "solidity": 0.2
             }
            },
            "type": "bar"
           }
          ],
          "barpolar": [
           {
            "marker": {
             "line": {
              "color": "#E5ECF6",
              "width": 0.5
             },
             "pattern": {
              "fillmode": "overlay",
              "size": 10,
              "solidity": 0.2
             }
            },
            "type": "barpolar"
           }
          ],
          "carpet": [
           {
            "aaxis": {
             "endlinecolor": "#2a3f5f",
             "gridcolor": "white",
             "linecolor": "white",
             "minorgridcolor": "white",
             "startlinecolor": "#2a3f5f"
            },
            "baxis": {
             "endlinecolor": "#2a3f5f",
             "gridcolor": "white",
             "linecolor": "white",
             "minorgridcolor": "white",
             "startlinecolor": "#2a3f5f"
            },
            "type": "carpet"
           }
          ],
          "choropleth": [
           {
            "colorbar": {
             "outlinewidth": 0,
             "ticks": ""
            },
            "type": "choropleth"
           }
          ],
          "contour": [
           {
            "colorbar": {
             "outlinewidth": 0,
             "ticks": ""
            },
            "colorscale": [
             [
              0,
              "#0d0887"
             ],
             [
              0.1111111111111111,
              "#46039f"
             ],
             [
              0.2222222222222222,
              "#7201a8"
             ],
             [
              0.3333333333333333,
              "#9c179e"
             ],
             [
              0.4444444444444444,
              "#bd3786"
             ],
             [
              0.5555555555555556,
              "#d8576b"
             ],
             [
              0.6666666666666666,
              "#ed7953"
             ],
             [
              0.7777777777777778,
              "#fb9f3a"
             ],
             [
              0.8888888888888888,
              "#fdca26"
             ],
             [
              1,
              "#f0f921"
             ]
            ],
            "type": "contour"
           }
          ],
          "contourcarpet": [
           {
            "colorbar": {
             "outlinewidth": 0,
             "ticks": ""
            },
            "type": "contourcarpet"
           }
          ],
          "heatmap": [
           {
            "colorbar": {
             "outlinewidth": 0,
             "ticks": ""
            },
            "colorscale": [
             [
              0,
              "#0d0887"
             ],
             [
              0.1111111111111111,
              "#46039f"
             ],
             [
              0.2222222222222222,
              "#7201a8"
             ],
             [
              0.3333333333333333,
              "#9c179e"
             ],
             [
              0.4444444444444444,
              "#bd3786"
             ],
             [
              0.5555555555555556,
              "#d8576b"
             ],
             [
              0.6666666666666666,
              "#ed7953"
             ],
             [
              0.7777777777777778,
              "#fb9f3a"
             ],
             [
              0.8888888888888888,
              "#fdca26"
             ],
             [
              1,
              "#f0f921"
             ]
            ],
            "type": "heatmap"
           }
          ],
          "heatmapgl": [
           {
            "colorbar": {
             "outlinewidth": 0,
             "ticks": ""
            },
            "colorscale": [
             [
              0,
              "#0d0887"
             ],
             [
              0.1111111111111111,
              "#46039f"
             ],
             [
              0.2222222222222222,
              "#7201a8"
             ],
             [
              0.3333333333333333,
              "#9c179e"
             ],
             [
              0.4444444444444444,
              "#bd3786"
             ],
             [
              0.5555555555555556,
              "#d8576b"
             ],
             [
              0.6666666666666666,
              "#ed7953"
             ],
             [
              0.7777777777777778,
              "#fb9f3a"
             ],
             [
              0.8888888888888888,
              "#fdca26"
             ],
             [
              1,
              "#f0f921"
             ]
            ],
            "type": "heatmapgl"
           }
          ],
          "histogram": [
           {
            "marker": {
             "pattern": {
              "fillmode": "overlay",
              "size": 10,
              "solidity": 0.2
             }
            },
            "type": "histogram"
           }
          ],
          "histogram2d": [
           {
            "colorbar": {
             "outlinewidth": 0,
             "ticks": ""
            },
            "colorscale": [
             [
              0,
              "#0d0887"
             ],
             [
              0.1111111111111111,
              "#46039f"
             ],
             [
              0.2222222222222222,
              "#7201a8"
             ],
             [
              0.3333333333333333,
              "#9c179e"
             ],
             [
              0.4444444444444444,
              "#bd3786"
             ],
             [
              0.5555555555555556,
              "#d8576b"
             ],
             [
              0.6666666666666666,
              "#ed7953"
             ],
             [
              0.7777777777777778,
              "#fb9f3a"
             ],
             [
              0.8888888888888888,
              "#fdca26"
             ],
             [
              1,
              "#f0f921"
             ]
            ],
            "type": "histogram2d"
           }
          ],
          "histogram2dcontour": [
           {
            "colorbar": {
             "outlinewidth": 0,
             "ticks": ""
            },
            "colorscale": [
             [
              0,
              "#0d0887"
             ],
             [
              0.1111111111111111,
              "#46039f"
             ],
             [
              0.2222222222222222,
              "#7201a8"
             ],
             [
              0.3333333333333333,
              "#9c179e"
             ],
             [
              0.4444444444444444,
              "#bd3786"
             ],
             [
              0.5555555555555556,
              "#d8576b"
             ],
             [
              0.6666666666666666,
              "#ed7953"
             ],
             [
              0.7777777777777778,
              "#fb9f3a"
             ],
             [
              0.8888888888888888,
              "#fdca26"
             ],
             [
              1,
              "#f0f921"
             ]
            ],
            "type": "histogram2dcontour"
           }
          ],
          "mesh3d": [
           {
            "colorbar": {
             "outlinewidth": 0,
             "ticks": ""
            },
            "type": "mesh3d"
           }
          ],
          "parcoords": [
           {
            "line": {
             "colorbar": {
              "outlinewidth": 0,
              "ticks": ""
             }
            },
            "type": "parcoords"
           }
          ],
          "pie": [
           {
            "automargin": true,
            "type": "pie"
           }
          ],
          "scatter": [
           {
            "fillpattern": {
             "fillmode": "overlay",
             "size": 10,
             "solidity": 0.2
            },
            "type": "scatter"
           }
          ],
          "scatter3d": [
           {
            "line": {
             "colorbar": {
              "outlinewidth": 0,
              "ticks": ""
             }
            },
            "marker": {
             "colorbar": {
              "outlinewidth": 0,
              "ticks": ""
             }
            },
            "type": "scatter3d"
           }
          ],
          "scattercarpet": [
           {
            "marker": {
             "colorbar": {
              "outlinewidth": 0,
              "ticks": ""
             }
            },
            "type": "scattercarpet"
           }
          ],
          "scattergeo": [
           {
            "marker": {
             "colorbar": {
              "outlinewidth": 0,
              "ticks": ""
             }
            },
            "type": "scattergeo"
           }
          ],
          "scattergl": [
           {
            "marker": {
             "colorbar": {
              "outlinewidth": 0,
              "ticks": ""
             }
            },
            "type": "scattergl"
           }
          ],
          "scattermapbox": [
           {
            "marker": {
             "colorbar": {
              "outlinewidth": 0,
              "ticks": ""
             }
            },
            "type": "scattermapbox"
           }
          ],
          "scatterpolar": [
           {
            "marker": {
             "colorbar": {
              "outlinewidth": 0,
              "ticks": ""
             }
            },
            "type": "scatterpolar"
           }
          ],
          "scatterpolargl": [
           {
            "marker": {
             "colorbar": {
              "outlinewidth": 0,
              "ticks": ""
             }
            },
            "type": "scatterpolargl"
           }
          ],
          "scatterternary": [
           {
            "marker": {
             "colorbar": {
              "outlinewidth": 0,
              "ticks": ""
             }
            },
            "type": "scatterternary"
           }
          ],
          "surface": [
           {
            "colorbar": {
             "outlinewidth": 0,
             "ticks": ""
            },
            "colorscale": [
             [
              0,
              "#0d0887"
             ],
             [
              0.1111111111111111,
              "#46039f"
             ],
             [
              0.2222222222222222,
              "#7201a8"
             ],
             [
              0.3333333333333333,
              "#9c179e"
             ],
             [
              0.4444444444444444,
              "#bd3786"
             ],
             [
              0.5555555555555556,
              "#d8576b"
             ],
             [
              0.6666666666666666,
              "#ed7953"
             ],
             [
              0.7777777777777778,
              "#fb9f3a"
             ],
             [
              0.8888888888888888,
              "#fdca26"
             ],
             [
              1,
              "#f0f921"
             ]
            ],
            "type": "surface"
           }
          ],
          "table": [
           {
            "cells": {
             "fill": {
              "color": "#EBF0F8"
             },
             "line": {
              "color": "white"
             }
            },
            "header": {
             "fill": {
              "color": "#C8D4E3"
             },
             "line": {
              "color": "white"
             }
            },
            "type": "table"
           }
          ]
         },
         "layout": {
          "annotationdefaults": {
           "arrowcolor": "#2a3f5f",
           "arrowhead": 0,
           "arrowwidth": 1
          },
          "autotypenumbers": "strict",
          "coloraxis": {
           "colorbar": {
            "outlinewidth": 0,
            "ticks": ""
           }
          },
          "colorscale": {
           "diverging": [
            [
             0,
             "#8e0152"
            ],
            [
             0.1,
             "#c51b7d"
            ],
            [
             0.2,
             "#de77ae"
            ],
            [
             0.3,
             "#f1b6da"
            ],
            [
             0.4,
             "#fde0ef"
            ],
            [
             0.5,
             "#f7f7f7"
            ],
            [
             0.6,
             "#e6f5d0"
            ],
            [
             0.7,
             "#b8e186"
            ],
            [
             0.8,
             "#7fbc41"
            ],
            [
             0.9,
             "#4d9221"
            ],
            [
             1,
             "#276419"
            ]
           ],
           "sequential": [
            [
             0,
             "#0d0887"
            ],
            [
             0.1111111111111111,
             "#46039f"
            ],
            [
             0.2222222222222222,
             "#7201a8"
            ],
            [
             0.3333333333333333,
             "#9c179e"
            ],
            [
             0.4444444444444444,
             "#bd3786"
            ],
            [
             0.5555555555555556,
             "#d8576b"
            ],
            [
             0.6666666666666666,
             "#ed7953"
            ],
            [
             0.7777777777777778,
             "#fb9f3a"
            ],
            [
             0.8888888888888888,
             "#fdca26"
            ],
            [
             1,
             "#f0f921"
            ]
           ],
           "sequentialminus": [
            [
             0,
             "#0d0887"
            ],
            [
             0.1111111111111111,
             "#46039f"
            ],
            [
             0.2222222222222222,
             "#7201a8"
            ],
            [
             0.3333333333333333,
             "#9c179e"
            ],
            [
             0.4444444444444444,
             "#bd3786"
            ],
            [
             0.5555555555555556,
             "#d8576b"
            ],
            [
             0.6666666666666666,
             "#ed7953"
            ],
            [
             0.7777777777777778,
             "#fb9f3a"
            ],
            [
             0.8888888888888888,
             "#fdca26"
            ],
            [
             1,
             "#f0f921"
            ]
           ]
          },
          "colorway": [
           "#636efa",
           "#EF553B",
           "#00cc96",
           "#ab63fa",
           "#FFA15A",
           "#19d3f3",
           "#FF6692",
           "#B6E880",
           "#FF97FF",
           "#FECB52"
          ],
          "font": {
           "color": "#2a3f5f"
          },
          "geo": {
           "bgcolor": "white",
           "lakecolor": "white",
           "landcolor": "#E5ECF6",
           "showlakes": true,
           "showland": true,
           "subunitcolor": "white"
          },
          "hoverlabel": {
           "align": "left"
          },
          "hovermode": "closest",
          "mapbox": {
           "style": "light"
          },
          "paper_bgcolor": "white",
          "plot_bgcolor": "#E5ECF6",
          "polar": {
           "angularaxis": {
            "gridcolor": "white",
            "linecolor": "white",
            "ticks": ""
           },
           "bgcolor": "#E5ECF6",
           "radialaxis": {
            "gridcolor": "white",
            "linecolor": "white",
            "ticks": ""
           }
          },
          "scene": {
           "xaxis": {
            "backgroundcolor": "#E5ECF6",
            "gridcolor": "white",
            "gridwidth": 2,
            "linecolor": "white",
            "showbackground": true,
            "ticks": "",
            "zerolinecolor": "white"
           },
           "yaxis": {
            "backgroundcolor": "#E5ECF6",
            "gridcolor": "white",
            "gridwidth": 2,
            "linecolor": "white",
            "showbackground": true,
            "ticks": "",
            "zerolinecolor": "white"
           },
           "zaxis": {
            "backgroundcolor": "#E5ECF6",
            "gridcolor": "white",
            "gridwidth": 2,
            "linecolor": "white",
            "showbackground": true,
            "ticks": "",
            "zerolinecolor": "white"
           }
          },
          "shapedefaults": {
           "line": {
            "color": "#2a3f5f"
           }
          },
          "ternary": {
           "aaxis": {
            "gridcolor": "white",
            "linecolor": "white",
            "ticks": ""
           },
           "baxis": {
            "gridcolor": "white",
            "linecolor": "white",
            "ticks": ""
           },
           "bgcolor": "#E5ECF6",
           "caxis": {
            "gridcolor": "white",
            "linecolor": "white",
            "ticks": ""
           }
          },
          "title": {
           "x": 0.05
          },
          "xaxis": {
           "automargin": true,
           "gridcolor": "white",
           "linecolor": "white",
           "ticks": "",
           "title": {
            "standoff": 15
           },
           "zerolinecolor": "white",
           "zerolinewidth": 2
          },
          "yaxis": {
           "automargin": true,
           "gridcolor": "white",
           "linecolor": "white",
           "ticks": "",
           "title": {
            "standoff": 15
           },
           "zerolinecolor": "white",
           "zerolinewidth": 2
          }
         }
        },
        "title": {
         "text": "Volume Of Incidents Per Complaint Types Overtime (top 5) "
        },
        "xaxis": {
         "anchor": "y",
         "domain": [
          0,
          1
         ],
         "title": {
          "text": "Months"
         }
        },
        "yaxis": {
         "anchor": "x",
         "domain": [
          0,
          1
         ],
         "title": {
          "text": "Volume Of Incidents"
         }
        }
       }
      }
     },
     "metadata": {},
     "output_type": "display_data"
    }
   ],
   "source": [
    "#This is another line chart with the top 5 complaints over time \n",
    "#Query the data to be used in the line chart\n",
    "top_ten_incidents_overtime = incidents_overtime.loc[(incidents_overtime['complaint_type'].isin(top_ten_complaints_list[0:5])), :]\n",
    "complaints_by_type_month = top_ten_incidents_overtime.groupby(['month', 'complaint_type'])['month'].count().reset_index(name='Count')\n",
    "complaints_by_type_month\n",
    "\n",
    "# Create the line chart\n",
    "fig_complaints_by_type_month = px.line(complaints_by_type_month, x=\"month\", y=\"Count\", color='complaint_type',\n",
    "                                       title='Volume Of Incidents Per Complaint Types Overtime (top 5) ',\n",
    "                                        labels={'Count': 'Volume Of Incidents',\n",
    "                                                'month': 'Months'})\n",
    "fig_complaints_by_type_month.update_traces(textposition=\"bottom right\")\n",
    "fig_complaints_by_type_month.show()"
   ]
  },
  {
   "cell_type": "code",
   "execution_count": 875,
   "metadata": {},
   "outputs": [
    {
     "data": {
      "text/html": [
       "<div>\n",
       "<style scoped>\n",
       "    .dataframe tbody tr th:only-of-type {\n",
       "        vertical-align: middle;\n",
       "    }\n",
       "\n",
       "    .dataframe tbody tr th {\n",
       "        vertical-align: top;\n",
       "    }\n",
       "\n",
       "    .dataframe thead th {\n",
       "        text-align: right;\n",
       "    }\n",
       "</style>\n",
       "<table border=\"1\" class=\"dataframe\">\n",
       "  <thead>\n",
       "    <tr style=\"text-align: right;\">\n",
       "      <th></th>\n",
       "      <th>day</th>\n",
       "      <th>incidents_count</th>\n",
       "    </tr>\n",
       "  </thead>\n",
       "  <tbody>\n",
       "    <tr>\n",
       "      <th>1</th>\n",
       "      <td>Friday</td>\n",
       "      <td>109,253</td>\n",
       "    </tr>\n",
       "    <tr>\n",
       "      <th>2</th>\n",
       "      <td>Monday</td>\n",
       "      <td>111,702</td>\n",
       "    </tr>\n",
       "    <tr>\n",
       "      <th>3</th>\n",
       "      <td>Saturday</td>\n",
       "      <td>94,613</td>\n",
       "    </tr>\n",
       "    <tr>\n",
       "      <th>4</th>\n",
       "      <td>Sunday</td>\n",
       "      <td>95,950</td>\n",
       "    </tr>\n",
       "    <tr>\n",
       "      <th>5</th>\n",
       "      <td>Thursday</td>\n",
       "      <td>115,031</td>\n",
       "    </tr>\n",
       "    <tr>\n",
       "      <th>6</th>\n",
       "      <td>Tuesday</td>\n",
       "      <td>114,958</td>\n",
       "    </tr>\n",
       "    <tr>\n",
       "      <th>7</th>\n",
       "      <td>Wednesday</td>\n",
       "      <td>113,529</td>\n",
       "    </tr>\n",
       "  </tbody>\n",
       "</table>\n",
       "</div>"
      ],
      "text/plain": [
       "         day incidents_count\n",
       "1     Friday         109,253\n",
       "2     Monday         111,702\n",
       "3   Saturday          94,613\n",
       "4     Sunday          95,950\n",
       "5   Thursday         115,031\n",
       "6    Tuesday         114,958\n",
       "7  Wednesday         113,529"
      ]
     },
     "execution_count": 875,
     "metadata": {},
     "output_type": "execute_result"
    }
   ],
   "source": [
    "#Here we decided to create a DataFrame with the amount of incidents per day of the week to verify if there's a pattern\n",
    "\n",
    "# Group by day and count occurrences\n",
    "day_counts = nyc311_time.groupby('day').size().reset_index(name='incidents_count')\n",
    "day_counts\n",
    "# Sort by count in descending order and get the top 10 days\n",
    "top10_days = day_counts.sort_values(by='incidents_count', ascending=False).head(10)\n",
    "\n",
    "# Reorder 'day' based on 'Count' for better plotting\n",
    "top10_days['day'] = pd.Categorical(top10_days['day'], categories=top10_days['day'].tolist(), ordered=True)\n",
    "top10_days = top10_days.sort_values('day')\n",
    "\n",
    "day_counts['incidents_count'] = day_counts['incidents_count'].map(\"{:,}\".format)\n",
    "day_counts.index = day_counts.index +1 \n",
    "day_counts"
   ]
  },
  {
   "cell_type": "code",
   "execution_count": 876,
   "metadata": {},
   "outputs": [
    {
     "name": "stdout",
     "output_type": "stream",
     "text": [
      "Busiest Week of Each Month:\n",
      "\n"
     ]
    },
    {
     "data": {
      "text/html": [
       "<div>\n",
       "<style scoped>\n",
       "    .dataframe tbody tr th:only-of-type {\n",
       "        vertical-align: middle;\n",
       "    }\n",
       "\n",
       "    .dataframe tbody tr th {\n",
       "        vertical-align: top;\n",
       "    }\n",
       "\n",
       "    .dataframe thead th {\n",
       "        text-align: right;\n",
       "    }\n",
       "</style>\n",
       "<table border=\"1\" class=\"dataframe\">\n",
       "  <thead>\n",
       "    <tr style=\"text-align: right;\">\n",
       "      <th></th>\n",
       "      <th>year</th>\n",
       "      <th>month</th>\n",
       "      <th>week_of_month</th>\n",
       "      <th>complaint_count</th>\n",
       "    </tr>\n",
       "  </thead>\n",
       "  <tbody>\n",
       "    <tr>\n",
       "      <th>2</th>\n",
       "      <td>2024</td>\n",
       "      <td>1</td>\n",
       "      <td>3</td>\n",
       "      <td>66066</td>\n",
       "    </tr>\n",
       "    <tr>\n",
       "      <th>5</th>\n",
       "      <td>2024</td>\n",
       "      <td>2</td>\n",
       "      <td>1</td>\n",
       "      <td>57737</td>\n",
       "    </tr>\n",
       "    <tr>\n",
       "      <th>11</th>\n",
       "      <td>2024</td>\n",
       "      <td>3</td>\n",
       "      <td>2</td>\n",
       "      <td>59573</td>\n",
       "    </tr>\n",
       "    <tr>\n",
       "      <th>15</th>\n",
       "      <td>2024</td>\n",
       "      <td>4</td>\n",
       "      <td>1</td>\n",
       "      <td>1</td>\n",
       "    </tr>\n",
       "  </tbody>\n",
       "</table>\n",
       "</div>"
      ],
      "text/plain": [
       "    year  month  week_of_month  complaint_count\n",
       "2   2024      1              3            66066\n",
       "5   2024      2              1            57737\n",
       "11  2024      3              2            59573\n",
       "15  2024      4              1                1"
      ]
     },
     "execution_count": 876,
     "metadata": {},
     "output_type": "execute_result"
    }
   ],
   "source": [
    "#Here we decided to create a DataFrame with displaying the busiest week of the month to verify if there's a trend\n",
    "\n",
    "# Add a 'week_of_month' column\n",
    "nyc311_time['week_of_month'] = ((nyc311_time['created_date'].dt.day - 1) // 7) + 1\n",
    "\n",
    "# Count complaints per week of each month\n",
    "weekly_counts = nyc311_time.groupby(['year', 'month', 'week_of_month']).size().reset_index(name='complaint_count')\n",
    "\n",
    "# Find the busiest week for each month\n",
    "busiest_weeks = weekly_counts.loc[weekly_counts.groupby(['year', 'month'])['complaint_count'].idxmax()]\n",
    "print(\"Busiest Week of Each Month:\\n\")\n",
    "busiest_weeks\n"
   ]
  }
 ],
 "metadata": {
  "kernelspec": {
   "display_name": "dev",
   "language": "python",
   "name": "python3"
  },
  "language_info": {
   "codemirror_mode": {
    "name": "ipython",
    "version": 3
   },
   "file_extension": ".py",
   "mimetype": "text/x-python",
   "name": "python",
   "nbconvert_exporter": "python",
   "pygments_lexer": "ipython3",
   "version": "3.10.14"
  }
 },
 "nbformat": 4,
 "nbformat_minor": 2
}
